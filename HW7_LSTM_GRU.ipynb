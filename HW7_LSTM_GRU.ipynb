{
 "cells": [
  {
   "cell_type": "markdown",
   "id": "8fec8b41",
   "metadata": {
    "papermill": {
     "duration": 0.011837,
     "end_time": "2022-07-17T11:33:34.041758",
     "exception": false,
     "start_time": "2022-07-17T11:33:34.029921",
     "status": "completed"
    },
    "tags": []
   },
   "source": [
    "## Практическое задание"
   ]
  },
  {
   "cell_type": "markdown",
   "id": "5df88c77",
   "metadata": {
    "papermill": {
     "duration": 0.020898,
     "end_time": "2022-07-17T11:33:34.072868",
     "exception": false,
     "start_time": "2022-07-17T11:33:34.051970",
     "status": "completed"
    },
    "tags": []
   },
   "source": [
    "1. Попробуйте обучить нейронную сеть GRU/LSTM для предсказания сентимента сообщений с твитера на примере https://www.kaggle.com/datasets/arkhoshghalb/twitter-sentiment-analysis-hatred-speech\n",
    "\n",
    "2. Опишите, какой результат вы получили? Что помогло вам улучшить ее точность?"
   ]
  },
  {
   "cell_type": "code",
   "execution_count": 1,
   "id": "70be3b05",
   "metadata": {
    "_cell_guid": "b1076dfc-b9ad-4769-8c92-a6c4dae69d19",
    "_uuid": "8f2839f25d086af736a60e9eeb907d3b93b6e0e5",
    "execution": {
     "iopub.execute_input": "2022-07-17T11:33:34.118619Z",
     "iopub.status.busy": "2022-07-17T11:33:34.117831Z",
     "iopub.status.idle": "2022-07-17T11:33:53.940622Z",
     "shell.execute_reply": "2022-07-17T11:33:53.939300Z"
    },
    "papermill": {
     "duration": 19.851949,
     "end_time": "2022-07-17T11:33:53.943458",
     "exception": false,
     "start_time": "2022-07-17T11:33:34.091509",
     "status": "completed"
    },
    "tags": []
   },
   "outputs": [
    {
     "name": "stdout",
     "output_type": "stream",
     "text": [
      "Requirement already satisfied: stop-words in /opt/conda/lib/python3.7/site-packages (2018.7.23)\r\n",
      "Collecting pymorphy2\r\n",
      "  Downloading pymorphy2-0.9.1-py3-none-any.whl (55 kB)\r\n",
      "\u001b[2K     \u001b[90m━━━━━━━━━━━━━━━━━━━━━━━━━━━━━━━━━━━━━━━\u001b[0m \u001b[32m55.5/55.5 kB\u001b[0m \u001b[31m408.4 kB/s\u001b[0m eta \u001b[36m0:00:00\u001b[0m\r\n",
      "\u001b[?25hCollecting pymorphy2-dicts-ru<3.0,>=2.4\r\n",
      "  Downloading pymorphy2_dicts_ru-2.4.417127.4579844-py2.py3-none-any.whl (8.2 MB)\r\n",
      "\u001b[2K     \u001b[90m━━━━━━━━━━━━━━━━━━━━━━━━━━━━━━━━━━━━━━━━\u001b[0m \u001b[32m8.2/8.2 MB\u001b[0m \u001b[31m12.1 MB/s\u001b[0m eta \u001b[36m0:00:00\u001b[0m\r\n",
      "\u001b[?25hCollecting dawg-python>=0.7.1\r\n",
      "  Downloading DAWG_Python-0.7.2-py2.py3-none-any.whl (11 kB)\r\n",
      "Requirement already satisfied: docopt>=0.6 in /opt/conda/lib/python3.7/site-packages (from pymorphy2) (0.6.2)\r\n",
      "Installing collected packages: pymorphy2-dicts-ru, dawg-python, pymorphy2\r\n",
      "Successfully installed dawg-python-0.7.2 pymorphy2-0.9.1 pymorphy2-dicts-ru-2.4.417127.4579844\r\n",
      "\u001b[33mWARNING: Running pip as the 'root' user can result in broken permissions and conflicting behaviour with the system package manager. It is recommended to use a virtual environment instead: https://pip.pypa.io/warnings/venv\u001b[0m\u001b[33m\r\n",
      "\u001b[0m"
     ]
    }
   ],
   "source": [
    "import numpy as np\n",
    "import pandas as pd\n",
    "import matplotlib.pyplot as plt\n",
    "from sklearn.model_selection import train_test_split\n",
    "!pip install stop-words pymorphy2\n",
    "from string import punctuation\n",
    "from stop_words import get_stop_words\n",
    "from nltk.stem import WordNetLemmatizer, PorterStemmer\n",
    "from tqdm import tqdm \n",
    "import torch\n",
    "import torch.nn as nn\n",
    "import torch.nn.functional as F\n",
    "from torch.utils.data import DataLoader, Dataset\n",
    "import nltk\n",
    "from nltk.tokenize import word_tokenize\n",
    "from nltk.probability import FreqDist"
   ]
  },
  {
   "cell_type": "code",
   "execution_count": 2,
   "id": "d8904b2a",
   "metadata": {
    "execution": {
     "iopub.execute_input": "2022-07-17T11:33:53.969827Z",
     "iopub.status.busy": "2022-07-17T11:33:53.969043Z",
     "iopub.status.idle": "2022-07-17T11:33:53.979742Z",
     "shell.execute_reply": "2022-07-17T11:33:53.978470Z"
    },
    "papermill": {
     "duration": 0.026565,
     "end_time": "2022-07-17T11:33:53.982267",
     "exception": false,
     "start_time": "2022-07-17T11:33:53.955702",
     "status": "completed"
    },
    "tags": []
   },
   "outputs": [],
   "source": [
    "# вспомогательные функции\n",
    "\n",
    "# функция преобразования текста\n",
    "def preprocess_text(txt):\n",
    "    txt = str(txt)    \n",
    "    txt = ''.join(c for c in txt if c not in puncts)\n",
    "    txt = txt.lower()\n",
    "    txt = [stemmer.stem(word) for word in txt.split() if word not in sw]\n",
    "    txt = [lemmatizer.lemmatize(word) for word in txt]\n",
    "    return ' '.join(txt)\n",
    "\n",
    "\n",
    "# функция превращения текста в последовательность\n",
    "def text_to_sequence(text, maxlen):\n",
    "    result = []\n",
    "    tokens = word_tokenize(text.lower())\n",
    "    tokens_filtered = [word for word in tokens if word.isalnum()]\n",
    "    for word in tokens_filtered:\n",
    "        if word in vocabulary:\n",
    "            result.append(vocabulary[word])\n",
    "\n",
    "    padding = [0] * (maxlen-len(result))\n",
    "    return result[-maxlen:] + padding"
   ]
  },
  {
   "cell_type": "markdown",
   "id": "edfb9e40",
   "metadata": {
    "papermill": {
     "duration": 0.011859,
     "end_time": "2022-07-17T11:33:54.006037",
     "exception": false,
     "start_time": "2022-07-17T11:33:53.994178",
     "status": "completed"
    },
    "tags": []
   },
   "source": [
    "## Загрузка данных"
   ]
  },
  {
   "cell_type": "code",
   "execution_count": 3,
   "id": "eb22598d",
   "metadata": {
    "execution": {
     "iopub.execute_input": "2022-07-17T11:33:54.031152Z",
     "iopub.status.busy": "2022-07-17T11:33:54.030806Z",
     "iopub.status.idle": "2022-07-17T11:33:54.036822Z",
     "shell.execute_reply": "2022-07-17T11:33:54.035594Z"
    },
    "papermill": {
     "duration": 0.021092,
     "end_time": "2022-07-17T11:33:54.039205",
     "exception": false,
     "start_time": "2022-07-17T11:33:54.018113",
     "status": "completed"
    },
    "tags": []
   },
   "outputs": [],
   "source": [
    "# зададим параметры\n",
    "\n",
    "max_words = 3000\n",
    "max_len = 30\n",
    "num_classes = 1\n",
    "\n",
    "# обучение\n",
    "epochs = 10\n",
    "batch_size = 256\n",
    "print_batch_n = 100"
   ]
  },
  {
   "cell_type": "code",
   "execution_count": 4,
   "id": "5b0ff1f3",
   "metadata": {
    "execution": {
     "iopub.execute_input": "2022-07-17T11:33:54.065020Z",
     "iopub.status.busy": "2022-07-17T11:33:54.064720Z",
     "iopub.status.idle": "2022-07-17T11:33:54.232222Z",
     "shell.execute_reply": "2022-07-17T11:33:54.231004Z"
    },
    "papermill": {
     "duration": 0.18348,
     "end_time": "2022-07-17T11:33:54.235025",
     "exception": false,
     "start_time": "2022-07-17T11:33:54.051545",
     "status": "completed"
    },
    "tags": []
   },
   "outputs": [
    {
     "data": {
      "text/html": [
       "<div>\n",
       "<style scoped>\n",
       "    .dataframe tbody tr th:only-of-type {\n",
       "        vertical-align: middle;\n",
       "    }\n",
       "\n",
       "    .dataframe tbody tr th {\n",
       "        vertical-align: top;\n",
       "    }\n",
       "\n",
       "    .dataframe thead th {\n",
       "        text-align: right;\n",
       "    }\n",
       "</style>\n",
       "<table border=\"1\" class=\"dataframe\">\n",
       "  <thead>\n",
       "    <tr style=\"text-align: right;\">\n",
       "      <th></th>\n",
       "      <th>id</th>\n",
       "      <th>label</th>\n",
       "      <th>tweet</th>\n",
       "    </tr>\n",
       "  </thead>\n",
       "  <tbody>\n",
       "    <tr>\n",
       "      <th>0</th>\n",
       "      <td>1</td>\n",
       "      <td>0</td>\n",
       "      <td>@user when a father is dysfunctional and is s...</td>\n",
       "    </tr>\n",
       "    <tr>\n",
       "      <th>1</th>\n",
       "      <td>2</td>\n",
       "      <td>0</td>\n",
       "      <td>@user @user thanks for #lyft credit i can't us...</td>\n",
       "    </tr>\n",
       "    <tr>\n",
       "      <th>2</th>\n",
       "      <td>3</td>\n",
       "      <td>0</td>\n",
       "      <td>bihday your majesty</td>\n",
       "    </tr>\n",
       "    <tr>\n",
       "      <th>3</th>\n",
       "      <td>4</td>\n",
       "      <td>0</td>\n",
       "      <td>#model   i love u take with u all the time in ...</td>\n",
       "    </tr>\n",
       "    <tr>\n",
       "      <th>4</th>\n",
       "      <td>5</td>\n",
       "      <td>0</td>\n",
       "      <td>factsguide: society now    #motivation</td>\n",
       "    </tr>\n",
       "  </tbody>\n",
       "</table>\n",
       "</div>"
      ],
      "text/plain": [
       "   id  label                                              tweet\n",
       "0   1      0   @user when a father is dysfunctional and is s...\n",
       "1   2      0  @user @user thanks for #lyft credit i can't us...\n",
       "2   3      0                                bihday your majesty\n",
       "3   4      0  #model   i love u take with u all the time in ...\n",
       "4   5      0             factsguide: society now    #motivation"
      ]
     },
     "execution_count": 4,
     "metadata": {},
     "output_type": "execute_result"
    }
   ],
   "source": [
    "# прочитаем данные\n",
    "train_data = pd.read_csv('../input/twitter-sentiment-analysis-hatred-speech/train.csv')\n",
    "# test_data = pd.read_csv('../input/twitter-sentiment-analysis-hatred-speech/test.csv')\n",
    "\n",
    "train_data.head()"
   ]
  },
  {
   "cell_type": "code",
   "execution_count": 5,
   "id": "6c594f09",
   "metadata": {
    "execution": {
     "iopub.execute_input": "2022-07-17T11:33:54.260681Z",
     "iopub.status.busy": "2022-07-17T11:33:54.260324Z",
     "iopub.status.idle": "2022-07-17T11:33:54.281129Z",
     "shell.execute_reply": "2022-07-17T11:33:54.280030Z"
    },
    "papermill": {
     "duration": 0.036458,
     "end_time": "2022-07-17T11:33:54.283778",
     "exception": false,
     "start_time": "2022-07-17T11:33:54.247320",
     "status": "completed"
    },
    "tags": []
   },
   "outputs": [],
   "source": [
    "# разделим данные на тренировочную и валидационную выборки\n",
    "X_train, X_valid, y_train, y_valid = train_test_split(train_data, train_data['label'], test_size=0.2, random_state=42)\n",
    "X_train.drop('label', axis=1, inplace=True)\n",
    "X_valid.drop('label', axis=1, inplace=True)"
   ]
  },
  {
   "cell_type": "code",
   "execution_count": 6,
   "id": "d4f30b89",
   "metadata": {
    "execution": {
     "iopub.execute_input": "2022-07-17T11:33:54.308128Z",
     "iopub.status.busy": "2022-07-17T11:33:54.307842Z",
     "iopub.status.idle": "2022-07-17T11:33:54.314124Z",
     "shell.execute_reply": "2022-07-17T11:33:54.312637Z"
    },
    "papermill": {
     "duration": 0.023812,
     "end_time": "2022-07-17T11:33:54.319118",
     "exception": false,
     "start_time": "2022-07-17T11:33:54.295306",
     "status": "completed"
    },
    "tags": []
   },
   "outputs": [
    {
     "name": "stdout",
     "output_type": "stream",
     "text": [
      "Train shapes: (25569, 2), (25569,)\n",
      "Valid shapes: (6393, 2), (6393,)\n"
     ]
    }
   ],
   "source": [
    "print(f'Train shapes: {X_train.shape}, {y_train.shape}')\n",
    "print(f'Valid shapes: {X_valid.shape}, {y_valid.shape}')\n",
    "# print(f'Test shape: {test_data.shape}')"
   ]
  },
  {
   "cell_type": "code",
   "execution_count": 7,
   "id": "55f889c4",
   "metadata": {
    "execution": {
     "iopub.execute_input": "2022-07-17T11:33:54.345274Z",
     "iopub.status.busy": "2022-07-17T11:33:54.344251Z",
     "iopub.status.idle": "2022-07-17T11:33:54.355653Z",
     "shell.execute_reply": "2022-07-17T11:33:54.354039Z"
    },
    "papermill": {
     "duration": 0.027381,
     "end_time": "2022-07-17T11:33:54.358280",
     "exception": false,
     "start_time": "2022-07-17T11:33:54.330899",
     "status": "completed"
    },
    "tags": []
   },
   "outputs": [
    {
     "data": {
      "text/plain": [
       "0    23783\n",
       "1     1786\n",
       "Name: label, dtype: int64"
      ]
     },
     "execution_count": 7,
     "metadata": {},
     "output_type": "execute_result"
    }
   ],
   "source": [
    "# label 1 - the tweet is racist/sexist\n",
    "# label 0 - the tweet is NOT racist/sexist\n",
    "\n",
    "y_train.value_counts()"
   ]
  },
  {
   "cell_type": "markdown",
   "id": "5a572f92",
   "metadata": {
    "papermill": {
     "duration": 0.012212,
     "end_time": "2022-07-17T11:33:54.382980",
     "exception": false,
     "start_time": "2022-07-17T11:33:54.370768",
     "status": "completed"
    },
    "tags": []
   },
   "source": [
    "## Предобработка данных"
   ]
  },
  {
   "cell_type": "code",
   "execution_count": 8,
   "id": "c20c6635",
   "metadata": {
    "execution": {
     "iopub.execute_input": "2022-07-17T11:33:54.409012Z",
     "iopub.status.busy": "2022-07-17T11:33:54.408730Z",
     "iopub.status.idle": "2022-07-17T11:33:56.947054Z",
     "shell.execute_reply": "2022-07-17T11:33:56.945353Z"
    },
    "papermill": {
     "duration": 2.554133,
     "end_time": "2022-07-17T11:33:56.949723",
     "exception": false,
     "start_time": "2022-07-17T11:33:54.395590",
     "status": "completed"
    },
    "tags": []
   },
   "outputs": [
    {
     "name": "stdout",
     "output_type": "stream",
     "text": [
      "stemmer: dysfunctional --> dysfunct\n",
      "lemmatizer: makes --> make\n"
     ]
    }
   ],
   "source": [
    "# создадим множество стоп-слов для английского языка\n",
    "sw = set(get_stop_words('en'))\n",
    "# print(sw)\n",
    "\n",
    "# создадим множество с пунктуацией\n",
    "puncts = set(punctuation)\n",
    "# print(puncts)\n",
    "\n",
    "# сделаем стемминг (уберем лишние куски слова)\n",
    "stemmer = PorterStemmer()\n",
    "print(f\"stemmer: dysfunctional --> {stemmer.stem('dysfunctional')}\")\n",
    "\n",
    "# сделаем лемматизацию\n",
    "lemmatizer = WordNetLemmatizer()\n",
    "print(f\"lemmatizer: makes --> {lemmatizer.lemmatize('makes')}\")"
   ]
  },
  {
   "cell_type": "code",
   "execution_count": 9,
   "id": "2e96eb42",
   "metadata": {
    "execution": {
     "iopub.execute_input": "2022-07-17T11:33:56.976403Z",
     "iopub.status.busy": "2022-07-17T11:33:56.975287Z",
     "iopub.status.idle": "2022-07-17T11:33:56.984842Z",
     "shell.execute_reply": "2022-07-17T11:33:56.983185Z"
    },
    "papermill": {
     "duration": 0.025358,
     "end_time": "2022-07-17T11:33:56.987707",
     "exception": false,
     "start_time": "2022-07-17T11:33:56.962349",
     "status": "completed"
    },
    "tags": []
   },
   "outputs": [
    {
     "data": {
      "text/plain": [
       "array([\"@user @user @user because i've been paying attention for the past year/8 years. he's a â\\x80¦ \"],\n",
       "      dtype=object)"
      ]
     },
     "execution_count": 9,
     "metadata": {},
     "output_type": "execute_result"
    }
   ],
   "source": [
    "# посмотрим пример твита\n",
    "X_train['tweet'].iloc[:1].values"
   ]
  },
  {
   "cell_type": "code",
   "execution_count": 10,
   "id": "228227a0",
   "metadata": {
    "execution": {
     "iopub.execute_input": "2022-07-17T11:33:57.013984Z",
     "iopub.status.busy": "2022-07-17T11:33:57.013687Z",
     "iopub.status.idle": "2022-07-17T11:33:57.022325Z",
     "shell.execute_reply": "2022-07-17T11:33:57.021027Z"
    },
    "papermill": {
     "duration": 0.024464,
     "end_time": "2022-07-17T11:33:57.024909",
     "exception": false,
     "start_time": "2022-07-17T11:33:57.000445",
     "status": "completed"
    },
    "tags": []
   },
   "outputs": [
    {
     "data": {
      "text/plain": [
       "array(['user user user ive pay attent past year8 year he â\\x80¦'],\n",
       "      dtype=object)"
      ]
     },
     "execution_count": 10,
     "metadata": {},
     "output_type": "execute_result"
    }
   ],
   "source": [
    "# твит после обработки\n",
    "X_train['tweet'].iloc[:1].apply(preprocess_text).values"
   ]
  },
  {
   "cell_type": "code",
   "execution_count": 11,
   "id": "bd84927f",
   "metadata": {
    "execution": {
     "iopub.execute_input": "2022-07-17T11:33:57.052102Z",
     "iopub.status.busy": "2022-07-17T11:33:57.050956Z",
     "iopub.status.idle": "2022-07-17T11:34:08.075884Z",
     "shell.execute_reply": "2022-07-17T11:34:08.074532Z"
    },
    "papermill": {
     "duration": 11.041328,
     "end_time": "2022-07-17T11:34:08.078513",
     "exception": false,
     "start_time": "2022-07-17T11:33:57.037185",
     "status": "completed"
    },
    "tags": []
   },
   "outputs": [
    {
     "name": "stderr",
     "output_type": "stream",
     "text": [
      "100%|██████████| 25569/25569 [00:08<00:00, 2994.55it/s]\n",
      "100%|██████████| 6393/6393 [00:02<00:00, 2592.94it/s]\n"
     ]
    }
   ],
   "source": [
    "# обработаем данные\n",
    "tqdm.pandas()\n",
    "\n",
    "X_train['tweet'] = X_train['tweet'].progress_apply(preprocess_text)\n",
    "X_valid['tweet'] = X_valid['tweet'].progress_apply(preprocess_text)\n",
    "# test_data['tweet'] = test_data['tweet'].progress_apply(preprocess_text)"
   ]
  },
  {
   "cell_type": "code",
   "execution_count": 12,
   "id": "469cc3ae",
   "metadata": {
    "execution": {
     "iopub.execute_input": "2022-07-17T11:34:08.122311Z",
     "iopub.status.busy": "2022-07-17T11:34:08.121948Z",
     "iopub.status.idle": "2022-07-17T11:34:10.955769Z",
     "shell.execute_reply": "2022-07-17T11:34:10.954294Z"
    },
    "papermill": {
     "duration": 2.859917,
     "end_time": "2022-07-17T11:34:10.959453",
     "exception": false,
     "start_time": "2022-07-17T11:34:08.099536",
     "status": "completed"
    },
    "tags": []
   },
   "outputs": [
    {
     "name": "stdout",
     "output_type": "stream",
     "text": [
      "[nltk_data] Downloading package punkt to /usr/share/nltk_data...\n",
      "[nltk_data]   Unzipping tokenizers/punkt.zip.\n",
      "['user', 'user', 'user', 'ive', 'pay']\n",
      "2999\n",
      "['user', 'love', 'day', 'happi', 'u', 'amp', 'thank', 'just', 'will', 'get']\n"
     ]
    }
   ],
   "source": [
    "# соединим все слова вместе\n",
    "train_corpus = \" \".join(X_train[\"tweet\"])\n",
    "train_corpus = train_corpus.lower()\n",
    "\n",
    "# сделаем токенизацию\n",
    "nltk.download(\"punkt\")\n",
    "\n",
    "tokens = word_tokenize(train_corpus)\n",
    "print(tokens[:5])\n",
    "\n",
    "# отфильтруем токены (проверим все символы, что они являются буквенно-цифровыми)\n",
    "tokens_filtered = [word for word in tokens if word.isalnum()]\n",
    "\n",
    "# посчитаем количество повторений каждого слова\n",
    "dist = FreqDist(tokens_filtered)\n",
    "\n",
    "# берем топ 3000\n",
    "tokens_filtered_top = [pair[0] for pair in dist.most_common(max_words-1)]  # вычитание 1 для padding\n",
    "print(len(tokens_filtered_top))\n",
    "print(tokens_filtered_top[:10])\n",
    "\n",
    "# составим словарь\n",
    "vocabulary = {v: k for k, v in dict(enumerate(tokens_filtered_top, 1)).items()}\n",
    "# print(vocabulary)"
   ]
  },
  {
   "cell_type": "code",
   "execution_count": 13,
   "id": "bc178608",
   "metadata": {
    "execution": {
     "iopub.execute_input": "2022-07-17T11:34:11.002206Z",
     "iopub.status.busy": "2022-07-17T11:34:11.001791Z",
     "iopub.status.idle": "2022-07-17T11:34:16.781121Z",
     "shell.execute_reply": "2022-07-17T11:34:16.778488Z"
    },
    "papermill": {
     "duration": 5.804198,
     "end_time": "2022-07-17T11:34:16.784852",
     "exception": false,
     "start_time": "2022-07-17T11:34:10.980654",
     "status": "completed"
    },
    "tags": []
   },
   "outputs": [
    {
     "name": "stdout",
     "output_type": "stream",
     "text": [
      "CPU times: user 5.74 s, sys: 25.7 ms, total: 5.77 s\n",
      "Wall time: 5.77 s\n"
     ]
    }
   ],
   "source": [
    "%%time\n",
    "\n",
    "# преобразуем тексты в последовательности\n",
    "X_train = np.asarray([text_to_sequence(text, max_len) for text in X_train['tweet']])\n",
    "X_valid = np.asarray([text_to_sequence(text, max_len) for text in X_valid['tweet']])\n",
    "# test_data = np.asarray([text_to_sequence(text, max_len) for text in test_data['tweet']])"
   ]
  },
  {
   "cell_type": "markdown",
   "id": "e983736c",
   "metadata": {
    "papermill": {
     "duration": 0.020618,
     "end_time": "2022-07-17T11:34:16.827657",
     "exception": false,
     "start_time": "2022-07-17T11:34:16.807039",
     "status": "completed"
    },
    "tags": []
   },
   "source": [
    "## Создание модели LSTM"
   ]
  },
  {
   "cell_type": "code",
   "execution_count": 14,
   "id": "a2b3c91c",
   "metadata": {
    "execution": {
     "iopub.execute_input": "2022-07-17T11:34:16.871627Z",
     "iopub.status.busy": "2022-07-17T11:34:16.871233Z",
     "iopub.status.idle": "2022-07-17T11:34:16.881303Z",
     "shell.execute_reply": "2022-07-17T11:34:16.879867Z"
    },
    "papermill": {
     "duration": 0.035185,
     "end_time": "2022-07-17T11:34:16.883997",
     "exception": false,
     "start_time": "2022-07-17T11:34:16.848812",
     "status": "completed"
    },
    "tags": []
   },
   "outputs": [],
   "source": [
    "# класс для создания кастомного датасета\n",
    "\n",
    "class DataWrapper(Dataset):\n",
    "    \n",
    "    \n",
    "    def __init__(self, data, target=None, transform=None):\n",
    "        self.data = torch.from_numpy(data).long()\n",
    "        self.transform = transform\n",
    "        if target is None:\n",
    "            self.target = torch.FloatTensor([])\n",
    "        else:      \n",
    "            self.target = torch.from_numpy(target).long()  \n",
    "        \n",
    "                \n",
    "    def __getitem__(self, index):     \n",
    "        x = self.data[index]  \n",
    "        \n",
    "        if self.transform:\n",
    "            x = self.transform(x)\n",
    "\n",
    "        if self.target.shape[0] == 0:\n",
    "            return x\n",
    "        else:                \n",
    "            y = self.target[index]\n",
    "            return x, y\n",
    "\n",
    "    \n",
    "    def __len__(self):\n",
    "        \n",
    "        return len(self.data)"
   ]
  },
  {
   "cell_type": "code",
   "execution_count": 15,
   "id": "ebeb01df",
   "metadata": {
    "execution": {
     "iopub.execute_input": "2022-07-17T11:34:16.928804Z",
     "iopub.status.busy": "2022-07-17T11:34:16.927438Z",
     "iopub.status.idle": "2022-07-17T11:34:16.935853Z",
     "shell.execute_reply": "2022-07-17T11:34:16.934601Z"
    },
    "papermill": {
     "duration": 0.03325,
     "end_time": "2022-07-17T11:34:16.938550",
     "exception": false,
     "start_time": "2022-07-17T11:34:16.905300",
     "status": "completed"
    },
    "tags": []
   },
   "outputs": [],
   "source": [
    "# загрузим данные для модели\n",
    "\n",
    "train_dataset = DataWrapper(X_train, y_train.values)\n",
    "train_loader = DataLoader(train_dataset, batch_size=batch_size, shuffle=True)\n",
    "\n",
    "val_dataset = DataWrapper(X_valid, y_valid.values)\n",
    "val_loader = DataLoader(val_dataset, batch_size=4, shuffle=True)"
   ]
  },
  {
   "cell_type": "code",
   "execution_count": 16,
   "id": "54319a9c",
   "metadata": {
    "execution": {
     "iopub.execute_input": "2022-07-17T11:34:16.984146Z",
     "iopub.status.busy": "2022-07-17T11:34:16.983055Z",
     "iopub.status.idle": "2022-07-17T11:34:17.003614Z",
     "shell.execute_reply": "2022-07-17T11:34:17.001632Z"
    },
    "papermill": {
     "duration": 0.045938,
     "end_time": "2022-07-17T11:34:17.006353",
     "exception": false,
     "start_time": "2022-07-17T11:34:16.960415",
     "status": "completed"
    },
    "tags": []
   },
   "outputs": [
    {
     "name": "stdout",
     "output_type": "stream",
     "text": [
      "torch.Size([256, 30])\n",
      "torch.Size([256])\n",
      "tensor(0)\n"
     ]
    }
   ],
   "source": [
    "for x, l in train_loader:\n",
    "    \n",
    "    print(x.shape)\n",
    "    print(l.shape)\n",
    "    print(l[0])\n",
    "    \n",
    "    break"
   ]
  },
  {
   "cell_type": "code",
   "execution_count": 17,
   "id": "386236c1",
   "metadata": {
    "execution": {
     "iopub.execute_input": "2022-07-17T11:34:17.053872Z",
     "iopub.status.busy": "2022-07-17T11:34:17.053420Z",
     "iopub.status.idle": "2022-07-17T11:34:17.128094Z",
     "shell.execute_reply": "2022-07-17T11:34:17.126388Z"
    },
    "papermill": {
     "duration": 0.103308,
     "end_time": "2022-07-17T11:34:17.130978",
     "exception": false,
     "start_time": "2022-07-17T11:34:17.027670",
     "status": "completed"
    },
    "tags": []
   },
   "outputs": [
    {
     "data": {
      "text/plain": [
       "'cuda'"
      ]
     },
     "execution_count": 17,
     "metadata": {},
     "output_type": "execute_result"
    }
   ],
   "source": [
    "# проверим наличие GPU\n",
    "device = 'cuda' if torch.cuda.is_available() else 'cpu'\n",
    "device"
   ]
  },
  {
   "cell_type": "code",
   "execution_count": 18,
   "id": "24b2fec6",
   "metadata": {
    "execution": {
     "iopub.execute_input": "2022-07-17T11:34:17.176996Z",
     "iopub.status.busy": "2022-07-17T11:34:17.175808Z",
     "iopub.status.idle": "2022-07-17T11:34:17.188442Z",
     "shell.execute_reply": "2022-07-17T11:34:17.187086Z"
    },
    "papermill": {
     "duration": 0.038385,
     "end_time": "2022-07-17T11:34:17.191457",
     "exception": false,
     "start_time": "2022-07-17T11:34:17.153072",
     "status": "completed"
    },
    "tags": []
   },
   "outputs": [],
   "source": [
    "# класс LSTM\n",
    "\n",
    "class LSTMFixedLen(nn.Module) :\n",
    "    def __init__(self, vocab_size, embedding_dim=128, hidden_dim=128, use_last=True):\n",
    "        super().__init__()\n",
    "        self.use_last = use_last\n",
    "        self.embeddings = nn.Embedding(vocab_size, embedding_dim, padding_idx=0)\n",
    "        self.lstm = nn.LSTM(embedding_dim, hidden_dim*2, num_layers=2, batch_first=True)\n",
    "        self.linear_1 = nn.Linear(hidden_dim*2, hidden_dim)\n",
    "        self.linear_2 = nn.Linear(hidden_dim, 1)        \n",
    "        self.dropout = nn.Dropout(0.2)\n",
    "        \n",
    "    def forward(self, x):\n",
    "        x = self.embeddings(x)\n",
    "        x = self.dropout(x)\n",
    "        lstm_out, ht = self.lstm(x)\n",
    "       \n",
    "        if self.use_last:\n",
    "            last_tensor = lstm_out[:,-1,:]\n",
    "        else:\n",
    "            # use mean\n",
    "            last_tensor = torch.mean(lstm_out[:,:], dim=1)\n",
    "    \n",
    "        out = self.linear_1(last_tensor)\n",
    "        out = torch.relu(out)\n",
    "#         out = self.dropout(out)\n",
    "        \n",
    "        out = self.linear_2(out)\n",
    "        \n",
    "        return torch.sigmoid(out)"
   ]
  },
  {
   "cell_type": "markdown",
   "id": "03455b17",
   "metadata": {
    "papermill": {
     "duration": 0.021318,
     "end_time": "2022-07-17T11:34:17.234885",
     "exception": false,
     "start_time": "2022-07-17T11:34:17.213567",
     "status": "completed"
    },
    "tags": []
   },
   "source": [
    "## Обучение модели LSTM"
   ]
  },
  {
   "cell_type": "code",
   "execution_count": 19,
   "id": "c319def3",
   "metadata": {
    "execution": {
     "iopub.execute_input": "2022-07-17T11:34:17.280771Z",
     "iopub.status.busy": "2022-07-17T11:34:17.279497Z",
     "iopub.status.idle": "2022-07-17T11:35:05.155048Z",
     "shell.execute_reply": "2022-07-17T11:35:05.152918Z"
    },
    "papermill": {
     "duration": 47.902402,
     "end_time": "2022-07-17T11:35:05.158679",
     "exception": false,
     "start_time": "2022-07-17T11:34:17.256277",
     "status": "completed"
    },
    "tags": []
   },
   "outputs": [
    {
     "name": "stdout",
     "output_type": "stream",
     "text": [
      "1502745103923699422\n",
      "LSTMFixedLen(\n",
      "  (embeddings): Embedding(3000, 128, padding_idx=0)\n",
      "  (lstm): LSTM(128, 256, num_layers=2, batch_first=True)\n",
      "  (linear_1): Linear(in_features=256, out_features=128, bias=True)\n",
      "  (linear_2): Linear(in_features=128, out_features=1, bias=True)\n",
      "  (dropout): Dropout(p=0.2, inplace=False)\n",
      ")\n",
      "Parameters: 1338625\n",
      "Epoch [1/10]. Step [100/100]. Loss: 0.188. Acc: 0.922. Test loss: 0.038. Test acc: 0.939\n",
      "Epoch [2/10]. Step [100/100]. Loss: 0.219. Acc: 0.943. Test loss: 0.153. Test acc: 0.949\n",
      "Epoch [3/10]. Step [100/100]. Loss: 0.112. Acc: 0.949. Test loss: 0.024. Test acc: 0.952\n",
      "Epoch [4/10]. Step [100/100]. Loss: 0.166. Acc: 0.956. Test loss: 0.306. Test acc: 0.945\n",
      "Epoch [5/10]. Step [100/100]. Loss: 0.075. Acc: 0.962. Test loss: 0.001. Test acc: 0.953\n",
      "Epoch [6/10]. Step [100/100]. Loss: 0.079. Acc: 0.966. Test loss: 0.004. Test acc: 0.956\n",
      "Epoch [7/10]. Step [100/100]. Loss: 0.120. Acc: 0.969. Test loss: 0.001. Test acc: 0.957\n",
      "Epoch [8/10]. Step [100/100]. Loss: 0.083. Acc: 0.971. Test loss: 0.003. Test acc: 0.958\n",
      "Epoch [9/10]. Step [100/100]. Loss: 0.099. Acc: 0.975. Test loss: 0.017. Test acc: 0.954\n",
      "Epoch [10/10]. Step [100/100]. Loss: 0.087. Acc: 0.978. Test loss: 0.001. Test acc: 0.958\n",
      "Training is finished!\n"
     ]
    }
   ],
   "source": [
    "# зададим оптимизатор, критерий и инициализируем модель\n",
    "\n",
    "# print(torch.seed())\n",
    "torch.manual_seed(1502745103923699422)\n",
    "lstm_init = LSTMFixedLen(max_words, 128, 128, use_last=False)\n",
    "print(torch.initial_seed())\n",
    "optimizer = torch.optim.Adam(lstm_init.parameters(), lr=0.001)\n",
    "criterion = nn.BCELoss()\n",
    "\n",
    "print(lstm_init)\n",
    "print(\"Parameters:\", sum([param.nelement() for param in lstm_init.parameters()]))\n",
    "\n",
    "# обучим модель\n",
    "\n",
    "lstm_init = lstm_init.to(device)\n",
    "lstm_init.train()\n",
    "th = 0.5\n",
    "\n",
    "train_loss_history = []\n",
    "test_loss_history = []\n",
    "\n",
    "\n",
    "for epoch in range(epochs):  \n",
    "    lstm_init.train()\n",
    "    running_items, running_right = 0.0, 0.0\n",
    "    for i, data in enumerate(train_loader, 0):\n",
    "        inputs, labels = data[0].to(device), data[1].to(device)\n",
    "\n",
    "        # обнуляем градиент\n",
    "        optimizer.zero_grad()\n",
    "        outputs = lstm_init(inputs)\n",
    "        \n",
    "        loss = criterion(outputs, labels.float().view(-1, 1))\n",
    "        loss.backward()\n",
    "        optimizer.step()\n",
    "\n",
    "        # подсчет ошибки на обучении\n",
    "        loss = loss.item()\n",
    "        running_items += len(labels)\n",
    "        # подсчет метрики на обучении\n",
    "        pred_labels = torch.squeeze((outputs > th).int())\n",
    "        running_right += (labels == pred_labels).sum()\n",
    "        \n",
    "    # выводим статистику о процессе обучения\n",
    "    lstm_init.eval()\n",
    "    \n",
    "    print(f'Epoch [{epoch + 1}/{epochs}]. ' \\\n",
    "            f'Step [{i + 1}/{len(train_loader)}]. ' \\\n",
    "            f'Loss: {loss:.3f}. ' \\\n",
    "            f'Acc: {running_right / running_items:.3f}', end='. ')\n",
    "    running_loss, running_items, running_right = 0.0, 0.0, 0.0\n",
    "    train_loss_history.append(loss)\n",
    "\n",
    "    # выводим статистику на тестовых данных\n",
    "    test_running_right, test_running_total, test_loss = 0.0, 0.0, 0.0\n",
    "    for j, data in enumerate(val_loader):\n",
    "        test_labels = data[1].to(device)\n",
    "        test_outputs = lstm_init(data[0].to(device))\n",
    "        \n",
    "        # подсчет ошибки на тесте\n",
    "        test_loss = criterion(test_outputs, test_labels.float().view(-1, 1))\n",
    "        # подсчет метрики на тесте\n",
    "        test_running_total += len(data[1])\n",
    "        pred_test_labels = torch.squeeze((test_outputs > th).int())\n",
    "        test_running_right += (test_labels == pred_test_labels).sum()\n",
    "    \n",
    "    test_loss_history.append(test_loss.item())\n",
    "    print(f'Test loss: {test_loss:.3f}. Test acc: {test_running_right / test_running_total:.3f}')\n",
    "        \n",
    "print('Training is finished!')"
   ]
  },
  {
   "cell_type": "code",
   "execution_count": 20,
   "id": "43acc9fd",
   "metadata": {
    "execution": {
     "iopub.execute_input": "2022-07-17T11:35:05.204847Z",
     "iopub.status.busy": "2022-07-17T11:35:05.204529Z",
     "iopub.status.idle": "2022-07-17T11:35:05.461095Z",
     "shell.execute_reply": "2022-07-17T11:35:05.459811Z"
    },
    "papermill": {
     "duration": 0.281638,
     "end_time": "2022-07-17T11:35:05.463533",
     "exception": false,
     "start_time": "2022-07-17T11:35:05.181895",
     "status": "completed"
    },
    "tags": []
   },
   "outputs": [
    {
     "data": {
      "image/png": "[encoded data removed]",
      "text/plain": [
       "<Figure size 432x288 with 1 Axes>"
      ]
     },
     "metadata": {
      "needs_background": "light"
     },
     "output_type": "display_data"
    }
   ],
   "source": [
    "# визуализируем историю ошибки\n",
    "\n",
    "plt.title('Loss history')\n",
    "plt.grid(True)\n",
    "plt.ylabel('Loss')\n",
    "plt.xlabel('Epoch')\n",
    "plt.plot(train_loss_history, label='train')\n",
    "plt.plot(test_loss_history, label='test')\n",
    "plt.legend();"
   ]
  },
  {
   "cell_type": "code",
   "execution_count": 21,
   "id": "2d595ad5",
   "metadata": {
    "execution": {
     "iopub.execute_input": "2022-07-17T11:35:05.509293Z",
     "iopub.status.busy": "2022-07-17T11:35:05.508920Z",
     "iopub.status.idle": "2022-07-17T11:35:05.516635Z",
     "shell.execute_reply": "2022-07-17T11:35:05.515240Z"
    },
    "papermill": {
     "duration": 0.033767,
     "end_time": "2022-07-17T11:35:05.519388",
     "exception": false,
     "start_time": "2022-07-17T11:35:05.485621",
     "status": "completed"
    },
    "tags": []
   },
   "outputs": [],
   "source": [
    "# НАЧАЛЬНЫЕ ПАРАМЕТРЫ\n",
    "\n",
    "# max_words = 3000\n",
    "# max_len = 30\n",
    "# num_classes = 1\n",
    "# epochs = 10\n",
    "# batch_size = 256\n",
    "# print_batch_n = 100\n",
    "# lstm_init = LSTMFixedLen(max_words, 128, 20, use_last=False)\n",
    "# optimizer = torch.optim.Adam(lstm_init.parameters(), lr=0.001)\n",
    "#\n",
    "# Epoch [10/10]. Step [100/100]. Loss: 0.081. Acc: 0.970. Test loss: 0.003. Test acc: 0.954\n",
    "\n",
    "# + СЛОЙ lstm\n",
    "# self.lstm = nn.LSTM(embedding_dim, hidden_dim, num_layers=3, batch_first=True)\n",
    "# \n",
    "# Epoch [10/10]. Step [100/100]. Loss: 0.057. Acc: 0.970. Test loss: 0.241. Test acc: 0.951\n",
    "\n",
    "# УВЕЛИЧИМ embedding_dim\n",
    "# lstm_init = LSTMFixedLen(max_words, 256, 20, use_last=False)\n",
    "# \n",
    "# Epoch [10/10]. Step [100/100]. Loss: 0.079. Acc: 0.975. Test loss: 0.009. Test acc: 0.952\n",
    "\n",
    "# УМЕНЬШИМ embedding_dim\n",
    "# lstm_init = LSTMFixedLen(max_words, 64, 20, use_last=False)\n",
    "# \n",
    "# Epoch [10/10]. Step [100/100]. Loss: 0.076. Acc: 0.966. Test loss: 0.004. Test acc: 0.952\n",
    "\n",
    "# УВЕЛИЧИМ hidden_dim\n",
    "# lstm_init = LSTMFixedLen(max_words, 128, 128, use_last=False)\n",
    "# \n",
    "# Epoch [10/10]. Step [100/100]. Loss: 0.061. Acc: 0.982. Test loss: 0.009. Test acc: 0.957\n",
    "\n",
    "# УМЕНЬШИМ max_len\n",
    "# max_len = 20\n",
    "# \n",
    "# Epoch [10/10]. Step [100/100]. Loss: 0.066. Acc: 0.984. Test loss: 0.000. Test acc: 0.955\n",
    "\n",
    "# УМЕНЬШИМ max_words\n",
    "# max_words = 2000\n",
    "# \n",
    "# Epoch [10/10]. Step [100/100]. Loss: 0.063. Acc: 0.978. Test loss: 0.008. Test acc: 0.953\n",
    "\n",
    "# УВЕЛИЧИМ learning_rate\n",
    "# optimizer = torch.optim.Adam(lstm_init.parameters(), lr=0.005)\n",
    "# \n",
    "# Epoch [10/10]. Step [100/100]. Loss: 0.112. Acc: 0.988. Test loss: 0.005. Test acc: 0.947\n",
    "\n",
    "\n",
    "# УМЕНЬШИМ learning_rate\n",
    "# optimizer = torch.optim.Adam(lstm_init.parameters(), lr=0.0005)\n",
    "# \n",
    "# Epoch [10/10]. Step [100/100]. Loss: 0.080. Acc: 0.976. Test loss: 0.001. Test acc: 0.949\n",
    "\n",
    "# + СЛОЙ linear\n",
    "# out = self.linear_1(last_tensor)\n",
    "# out = torch.relu(out)\n",
    "# out = self.dropout(out)\n",
    "# out = self.linear_2(out)\n",
    "# \n",
    "# Epoch [10/10]. Step [100/100]. Loss: 0.089. Acc: 0.977. Test loss: 0.001. Test acc: 0.958"
   ]
  },
  {
   "cell_type": "markdown",
   "id": "d792f52b",
   "metadata": {
    "papermill": {
     "duration": 0.022221,
     "end_time": "2022-07-17T11:35:05.564340",
     "exception": false,
     "start_time": "2022-07-17T11:35:05.542119",
     "status": "completed"
    },
    "tags": []
   },
   "source": [
    "## Вывод"
   ]
  },
  {
   "cell_type": "markdown",
   "id": "e0133d86",
   "metadata": {
    "papermill": {
     "duration": 0.022563,
     "end_time": "2022-07-17T11:35:05.609591",
     "exception": false,
     "start_time": "2022-07-17T11:35:05.587028",
     "status": "completed"
    },
    "tags": []
   },
   "source": [
    "С помощью итоговой модели LSTM удалось достичь точности на трейне около **0.977**, на валидации около - **0.958** (Через свертку получалось для сравнения на валидации **0.957**).\n",
    "\n",
    "Точность повысилась благодаря увеличению размерности скрытых слоев. Был добавлен 1 плотный слой (+ Relu и Dropout)."
   ]
  },
  {
   "cell_type": "markdown",
   "id": "68a85049",
   "metadata": {
    "papermill": {
     "duration": 0.022365,
     "end_time": "2022-07-17T11:35:05.654678",
     "exception": false,
     "start_time": "2022-07-17T11:35:05.632313",
     "status": "completed"
    },
    "tags": []
   },
   "source": [
    "## Создание модели GRU"
   ]
  },
  {
   "cell_type": "code",
   "execution_count": 22,
   "id": "c71c7272",
   "metadata": {
    "execution": {
     "iopub.execute_input": "2022-07-17T11:35:05.701506Z",
     "iopub.status.busy": "2022-07-17T11:35:05.701169Z",
     "iopub.status.idle": "2022-07-17T11:35:05.712818Z",
     "shell.execute_reply": "2022-07-17T11:35:05.711620Z"
    },
    "papermill": {
     "duration": 0.038186,
     "end_time": "2022-07-17T11:35:05.715599",
     "exception": false,
     "start_time": "2022-07-17T11:35:05.677413",
     "status": "completed"
    },
    "tags": []
   },
   "outputs": [],
   "source": [
    "# класс GRU\n",
    "\n",
    "class GRUFixedLen(nn.Module) :\n",
    "    def __init__(self, vocab_size, embedding_dim=128, hidden_dim=128, use_last=True):\n",
    "        super().__init__()\n",
    "        self.use_last = use_last\n",
    "        self.embeddings = nn.Embedding(vocab_size, embedding_dim, padding_idx=0)\n",
    "        self.gru = nn.GRU(embedding_dim, hidden_dim*2, num_layers=3, batch_first=True)\n",
    "        self.linear_1 = nn.Linear(hidden_dim*2, hidden_dim)\n",
    "        self.linear_2 = nn.Linear(hidden_dim, 1) \n",
    "        self.dropout = nn.Dropout(0.2)\n",
    "        \n",
    "    def forward(self, x):\n",
    "        x = self.embeddings(x)\n",
    "        x = self.dropout(x)\n",
    "        gru_out, ht = self.gru(x)\n",
    "       \n",
    "        if self.use_last:\n",
    "            last_tensor = gru_out[:,-1,:]\n",
    "        else:\n",
    "            # use mean\n",
    "            last_tensor = torch.mean(gru_out[:,:], dim=1)\n",
    "        \n",
    "        out = self.linear_1(last_tensor)\n",
    "        out = torch.relu(out)\n",
    "\n",
    "        out = self.linear_2(out)\n",
    "\n",
    "        return torch.sigmoid(out)"
   ]
  },
  {
   "cell_type": "code",
   "execution_count": 23,
   "id": "e4a18229",
   "metadata": {
    "execution": {
     "iopub.execute_input": "2022-07-17T11:35:05.761691Z",
     "iopub.status.busy": "2022-07-17T11:35:05.761345Z",
     "iopub.status.idle": "2022-07-17T11:35:54.437108Z",
     "shell.execute_reply": "2022-07-17T11:35:54.434701Z"
    },
    "papermill": {
     "duration": 48.70225,
     "end_time": "2022-07-17T11:35:54.441159",
     "exception": false,
     "start_time": "2022-07-17T11:35:05.738909",
     "status": "completed"
    },
    "tags": []
   },
   "outputs": [
    {
     "name": "stdout",
     "output_type": "stream",
     "text": [
      "10804831423555468509\n",
      "GRUFixedLen(\n",
      "  (embeddings): Embedding(3000, 256, padding_idx=0)\n",
      "  (gru): GRU(256, 256, num_layers=3, batch_first=True)\n",
      "  (linear_1): Linear(in_features=256, out_features=128, bias=True)\n",
      "  (linear_2): Linear(in_features=128, out_features=1, bias=True)\n",
      "  (dropout): Dropout(p=0.2, inplace=False)\n",
      ")\n",
      "Parameters: 1985281\n",
      "Epoch [1/10]. Step [100/100]. Loss: 0.124. Acc: 0.931. Test loss: 0.023. Test acc: 0.948\n",
      "Epoch [2/10]. Step [100/100]. Loss: 0.155. Acc: 0.952. Test loss: 0.175. Test acc: 0.949\n",
      "Epoch [3/10]. Step [100/100]. Loss: 0.101. Acc: 0.961. Test loss: 0.029. Test acc: 0.952\n",
      "Epoch [4/10]. Step [100/100]. Loss: 0.050. Acc: 0.966. Test loss: 0.001. Test acc: 0.952\n",
      "Epoch [5/10]. Step [100/100]. Loss: 0.102. Acc: 0.971. Test loss: 0.002. Test acc: 0.956\n",
      "Epoch [6/10]. Step [100/100]. Loss: 0.103. Acc: 0.975. Test loss: 0.009. Test acc: 0.957\n",
      "Epoch [7/10]. Step [100/100]. Loss: 0.056. Acc: 0.980. Test loss: 0.001. Test acc: 0.952\n",
      "Epoch [8/10]. Step [100/100]. Loss: 0.041. Acc: 0.985. Test loss: 0.496. Test acc: 0.955\n",
      "Epoch [9/10]. Step [100/100]. Loss: 0.034. Acc: 0.988. Test loss: 0.000. Test acc: 0.957\n",
      "Epoch [10/10]. Step [100/100]. Loss: 0.036. Acc: 0.989. Test loss: 0.000. Test acc: 0.958\n",
      "Training is finished!\n"
     ]
    }
   ],
   "source": [
    "# зададим оптимизатор, критерий и инициализируем модель\n",
    "\n",
    "# print(torch.seed())\n",
    "torch.manual_seed(10804831423555468509)\n",
    "gru_init = GRUFixedLen(max_words, 256, 128, use_last=False)\n",
    "print(torch.initial_seed())\n",
    "optimizer = torch.optim.Adam(gru_init.parameters(), lr=0.001)\n",
    "criterion = nn.BCELoss()\n",
    "\n",
    "print(gru_init)\n",
    "print(\"Parameters:\", sum([param.nelement() for param in gru_init.parameters()]))\n",
    "\n",
    "# обучим модель\n",
    "\n",
    "gru_init = gru_init.to(device)\n",
    "gru_init.train()\n",
    "th = 0.5\n",
    "\n",
    "train_loss_history = []\n",
    "test_loss_history = []\n",
    "\n",
    "\n",
    "for epoch in range(epochs): \n",
    "    gru_init.train() \n",
    "    running_items, running_right = 0.0, 0.0\n",
    "    for i, data in enumerate(train_loader, 0):\n",
    "        inputs, labels = data[0].to(device), data[1].to(device)\n",
    "\n",
    "        # обнуляем градиент\n",
    "        optimizer.zero_grad()\n",
    "        outputs = gru_init(inputs)\n",
    "        \n",
    "        loss = criterion(outputs, labels.float().view(-1, 1))\n",
    "        loss.backward()\n",
    "        optimizer.step()\n",
    "\n",
    "        # подсчет ошибки на обучении\n",
    "        loss = loss.item()\n",
    "        running_items += len(labels)\n",
    "        # подсчет метрики на обучении\n",
    "        pred_labels = torch.squeeze((outputs > th).int())\n",
    "        running_right += (labels == pred_labels).sum()\n",
    "        \n",
    "    # выводим статистику о процессе обучения\n",
    "    gru_init.eval()\n",
    "    \n",
    "    print(f'Epoch [{epoch + 1}/{epochs}]. ' \\\n",
    "          f'Step [{i + 1}/{len(train_loader)}]. ' \\\n",
    "          f'Loss: {loss:.3f}. ' \\\n",
    "          f'Acc: {running_right / running_items:.3f}', end='. ')\n",
    "    running_loss, running_items, running_right = 0.0, 0.0, 0.0\n",
    "    train_loss_history.append(loss)\n",
    "\n",
    "    # выводим статистику на тестовых данных\n",
    "    test_running_right, test_running_total, test_loss = 0.0, 0.0, 0.0\n",
    "    for j, data in enumerate(val_loader):\n",
    "        test_labels = data[1].to(device)\n",
    "        test_outputs = gru_init(data[0].to(device))\n",
    "        \n",
    "        # подсчет ошибки на тесте\n",
    "        test_loss = criterion(test_outputs, test_labels.float().view(-1, 1))\n",
    "        # подсчет метрики на тесте\n",
    "        test_running_total += len(data[1])\n",
    "        pred_test_labels = torch.squeeze((test_outputs > th).int())\n",
    "        test_running_right += (test_labels == pred_test_labels).sum()\n",
    "    \n",
    "    test_loss_history.append(test_loss.item())\n",
    "    print(f'Test loss: {test_loss:.3f}. Test acc: {test_running_right / test_running_total:.3f}')\n",
    "            \n",
    "print('Training is finished!')"
   ]
  },
  {
   "cell_type": "code",
   "execution_count": 24,
   "id": "13040757",
   "metadata": {
    "execution": {
     "iopub.execute_input": "2022-07-17T11:35:54.492289Z",
     "iopub.status.busy": "2022-07-17T11:35:54.491970Z",
     "iopub.status.idle": "2022-07-17T11:35:54.715809Z",
     "shell.execute_reply": "2022-07-17T11:35:54.714611Z"
    },
    "papermill": {
     "duration": 0.25201,
     "end_time": "2022-07-17T11:35:54.718428",
     "exception": false,
     "start_time": "2022-07-17T11:35:54.466418",
     "status": "completed"
    },
    "tags": []
   },
   "outputs": [
    {
     "data": {
      "image/png": "[encoded data removed]",
      "text/plain": [
       "<Figure size 432x288 with 1 Axes>"
      ]
     },
     "metadata": {
      "needs_background": "light"
     },
     "output_type": "display_data"
    }
   ],
   "source": [
    "# визуализируем историю ошибки\n",
    "\n",
    "plt.title('Loss history')\n",
    "plt.grid(True)\n",
    "plt.ylabel('Loss')\n",
    "plt.xlabel('Epoch')\n",
    "plt.plot(train_loss_history, label='train')\n",
    "plt.plot(test_loss_history, label='test')\n",
    "plt.legend();"
   ]
  },
  {
   "cell_type": "code",
   "execution_count": 25,
   "id": "3bc692dd",
   "metadata": {
    "execution": {
     "iopub.execute_input": "2022-07-17T11:35:54.770799Z",
     "iopub.status.busy": "2022-07-17T11:35:54.769040Z",
     "iopub.status.idle": "2022-07-17T11:35:54.776243Z",
     "shell.execute_reply": "2022-07-17T11:35:54.774978Z"
    },
    "papermill": {
     "duration": 0.035371,
     "end_time": "2022-07-17T11:35:54.778824",
     "exception": false,
     "start_time": "2022-07-17T11:35:54.743453",
     "status": "completed"
    },
    "tags": []
   },
   "outputs": [],
   "source": [
    "# НАЧАЛЬНЫЕ ПАРАМЕТРЫ\n",
    "\n",
    "# max_words = 3000\n",
    "# max_len = 30\n",
    "# num_classes = 1\n",
    "# epochs = 10\n",
    "# batch_size = 256\n",
    "# print_batch_n = 100\n",
    "# gru_init = GRUFixedLen(max_words, 128, 20, use_last=False)\n",
    "# optimizer = torch.optim.Adam(gru_init.parameters(), lr=0.001)\n",
    "#\n",
    "# Epoch [10/10]. Step [100/100]. Loss: 0.140. Acc: 0.970. Test loss: 0.004. Test acc: 0.953\n",
    "\n",
    "# + СЛОЙ gru\n",
    "# self.gru = nn.GRU( embedding_dim, hidden_dim, num_layers=3, batch_first=True)\n",
    "# \n",
    "# Epoch [10/10]. Step [100/100]. Loss: 0.057. Acc: 0.971. Test loss: 0.011. Test acc: 0.953\n",
    "\n",
    "# УВЕЛИЧИМ embedding_dim\n",
    "# gru_init = GRUFixedLen(max_words, 256, 20, use_last=False)\n",
    "# \n",
    "# Epoch [10/10]. Step [100/100]. Loss: 0.110. Acc: 0.975. Test loss: 0.008. Test acc: 0.954\n",
    "\n",
    "# УВЕЛИЧИМ hidden_dim\n",
    "# gru_init = GRUFixedLen(max_words, 256, 128, use_last=False)\n",
    "# \n",
    "# Epoch [10/10]. Step [100/100]. Loss: 0.022. Acc: 0.989. Test loss: 0.000. Test acc: 0.956\n",
    "\n",
    "# УВЕЛИЧИМ learning_rate\n",
    "# optimizer = torch.optim.Adam(gru_init.parameters(), lr=0.005)\n",
    "# \n",
    "# Epoch [10/10]. Step [100/100]. Loss: 0.016. Acc: 0.991. Test loss: 0.000. Test acc: 0.953\n",
    "\n",
    "\n",
    "# УМЕНЬШИМ learning_rate\n",
    "# optimizer = torch.optim.Adam(gru_init.parameters(), lr=0.0001)\n",
    "# \n",
    "# Epoch [10/10]. Step [100/100]. Loss: 0.127. Acc: 0.962. Test loss: 0.045. Test acc: 0.952\n",
    "\n",
    "# + СЛОЙ linear\n",
    "# out = self.linear_1(last_tensor)\n",
    "# out = torch.relu(out)\n",
    "# out = self.dropout(out)\n",
    "# out = self.linear_2(out)\n",
    "# \n",
    "# Epoch [10/10]. Step [100/100]. Loss: 0.027. Acc: 0.989. Test loss: 0.000. Test acc: 0.956"
   ]
  },
  {
   "cell_type": "markdown",
   "id": "81dfb35f",
   "metadata": {
    "papermill": {
     "duration": 0.024065,
     "end_time": "2022-07-17T11:35:54.828456",
     "exception": false,
     "start_time": "2022-07-17T11:35:54.804391",
     "status": "completed"
    },
    "tags": []
   },
   "source": [
    "## Вывод"
   ]
  },
  {
   "cell_type": "markdown",
   "id": "2ba300b5",
   "metadata": {
    "papermill": {
     "duration": 0.041012,
     "end_time": "2022-07-17T11:35:54.895765",
     "exception": false,
     "start_time": "2022-07-17T11:35:54.854753",
     "status": "completed"
    },
    "tags": []
   },
   "source": [
    "С помощью итоговой модели GRU удалось достичь точности на трейне около **0.989**, на валидации около - **0.958** (Через свертку получалось для сравнения на валидации **0.957**).\n",
    "\n",
    "Точность повысилась благодаря увеличению размерности эмбеддинга, скрытых слоев. Был добавлен 1 плотный слой (+ Relu)."
   ]
  },
  {
   "cell_type": "code",
   "execution_count": 26,
   "id": "8997e367",
   "metadata": {
    "execution": {
     "iopub.execute_input": "2022-07-17T11:35:54.946910Z",
     "iopub.status.busy": "2022-07-17T11:35:54.946513Z",
     "iopub.status.idle": "2022-07-17T11:35:54.960369Z",
     "shell.execute_reply": "2022-07-17T11:35:54.959313Z"
    },
    "papermill": {
     "duration": 0.041785,
     "end_time": "2022-07-17T11:35:54.962712",
     "exception": false,
     "start_time": "2022-07-17T11:35:54.920927",
     "status": "completed"
    },
    "tags": []
   },
   "outputs": [],
   "source": [
    "# класс GRU и LSTM\n",
    "\n",
    "class GRULSTMFixedLen(nn.Module) :\n",
    "    def __init__(self, vocab_size, embedding_dim=128, hidden_dim=128, use_last=True):\n",
    "        super().__init__()\n",
    "        self.use_last = use_last\n",
    "        self.embeddings = nn.Embedding(vocab_size, embedding_dim, padding_idx=0)\n",
    "        self.gru = nn.GRU(embedding_dim, hidden_dim*2, num_layers=3, batch_first=True)\n",
    "        self.lstm = nn.LSTM(embedding_dim, hidden_dim*2, num_layers=2, batch_first=True)\n",
    "\n",
    "        self.linear_1 = nn.Linear(hidden_dim*2, hidden_dim)\n",
    "        self.linear_2 = nn.Linear(hidden_dim, 1) \n",
    "        self.dropout = nn.Dropout(0.2)\n",
    "        \n",
    "    def forward(self, x):\n",
    "        x = self.embeddings(x)\n",
    "        x = self.dropout(x)\n",
    "        lstm_out, ht_ = self.lstm(x)\n",
    "        \n",
    "        if self.use_last:\n",
    "            last_tensor = lstm_out[:,-1,:]\n",
    "        else:\n",
    "            # use mean\n",
    "            last_tensor = torch.mean(lstm_out[:,:], dim=1)\n",
    "        \n",
    "        gru_out, ht = self.gru(x)\n",
    "       \n",
    "        if self.use_last:\n",
    "            last_tensor = gru_out[:,-1,:]\n",
    "        else:\n",
    "            # use mean\n",
    "            last_tensor = torch.mean(gru_out[:,:], dim=1)\n",
    "        \n",
    "        out = self.linear_1(last_tensor)\n",
    "        out = torch.relu(out)\n",
    "        out = self.dropout(out)\n",
    "\n",
    "        out = self.linear_2(out)\n",
    "\n",
    "        return torch.sigmoid(out)"
   ]
  },
  {
   "cell_type": "code",
   "execution_count": 27,
   "id": "011bede2",
   "metadata": {
    "execution": {
     "iopub.execute_input": "2022-07-17T11:35:55.013840Z",
     "iopub.status.busy": "2022-07-17T11:35:55.012720Z",
     "iopub.status.idle": "2022-07-17T11:37:03.116217Z",
     "shell.execute_reply": "2022-07-17T11:37:03.114827Z"
    },
    "papermill": {
     "duration": 68.191814,
     "end_time": "2022-07-17T11:37:03.179317",
     "exception": false,
     "start_time": "2022-07-17T11:35:54.987503",
     "status": "completed"
    },
    "tags": []
   },
   "outputs": [
    {
     "name": "stdout",
     "output_type": "stream",
     "text": [
      "15199617254667083002\n",
      "GRULSTMFixedLen(\n",
      "  (embeddings): Embedding(3000, 256, padding_idx=0)\n",
      "  (gru): GRU(256, 256, num_layers=3, batch_first=True)\n",
      "  (lstm): LSTM(256, 256, num_layers=2, batch_first=True)\n",
      "  (linear_1): Linear(in_features=256, out_features=128, bias=True)\n",
      "  (linear_2): Linear(in_features=128, out_features=1, bias=True)\n",
      "  (dropout): Dropout(p=0.2, inplace=False)\n",
      ")\n",
      "Parameters: 3037953\n",
      "Epoch [1/10]. Step [100/100]. Loss: 0.222. Acc: 0.929. Test loss: 0.026. Test acc: 0.929\n",
      "Epoch [2/10]. Step [100/100]. Loss: 0.156. Acc: 0.948. Test loss: 0.011. Test acc: 0.950\n",
      "Epoch [3/10]. Step [100/100]. Loss: 0.101. Acc: 0.956. Test loss: 0.461. Test acc: 0.950\n",
      "Epoch [4/10]. Step [100/100]. Loss: 0.099. Acc: 0.963. Test loss: 0.540. Test acc: 0.953\n",
      "Epoch [5/10]. Step [100/100]. Loss: 0.041. Acc: 0.968. Test loss: 0.001. Test acc: 0.956\n",
      "Epoch [6/10]. Step [100/100]. Loss: 0.093. Acc: 0.972. Test loss: 0.000. Test acc: 0.956\n",
      "Epoch [7/10]. Step [100/100]. Loss: 0.135. Acc: 0.975. Test loss: 0.000. Test acc: 0.958\n",
      "Epoch [8/10]. Step [100/100]. Loss: 0.089. Acc: 0.982. Test loss: 0.000. Test acc: 0.947\n",
      "Epoch [9/10]. Step [100/100]. Loss: 0.071. Acc: 0.985. Test loss: 0.000. Test acc: 0.958\n",
      "Epoch [10/10]. Step [100/100]. Loss: 0.030. Acc: 0.987. Test loss: 1.338. Test acc: 0.958\n",
      "Training is finished!\n"
     ]
    }
   ],
   "source": [
    "# зададим оптимизатор, критерий и инициализируем модель\n",
    "\n",
    "# print(torch.seed())\n",
    "torch.manual_seed(15199617254667083002)\n",
    "grulstm_init = GRULSTMFixedLen(max_words, 256, 128, use_last=True)\n",
    "print(torch.initial_seed())\n",
    "optimizer = torch.optim.Adam(grulstm_init.parameters(), lr=0.001)\n",
    "criterion = nn.BCELoss()\n",
    "\n",
    "print(grulstm_init)\n",
    "print(\"Parameters:\", sum([param.nelement() for param in grulstm_init.parameters()]))\n",
    "\n",
    "# обучим модель\n",
    "\n",
    "gru_init = grulstm_init.to(device)\n",
    "gru_init.train()\n",
    "th = 0.5\n",
    "\n",
    "train_loss_history = []\n",
    "test_loss_history = []\n",
    "\n",
    "\n",
    "for epoch in range(epochs): \n",
    "    gru_init.train() \n",
    "    running_items, running_right = 0.0, 0.0\n",
    "    for i, data in enumerate(train_loader, 0):\n",
    "        inputs, labels = data[0].to(device), data[1].to(device)\n",
    "\n",
    "        # обнуляем градиент\n",
    "        optimizer.zero_grad()\n",
    "        outputs = gru_init(inputs)\n",
    "        \n",
    "        loss = criterion(outputs, labels.float().view(-1, 1))\n",
    "        loss.backward()\n",
    "        optimizer.step()\n",
    "\n",
    "        # подсчет ошибки на обучении\n",
    "        loss = loss.item()\n",
    "        running_items += len(labels)\n",
    "        # подсчет метрики на обучении\n",
    "        pred_labels = torch.squeeze((outputs > th).int())\n",
    "        running_right += (labels == pred_labels).sum()\n",
    "        \n",
    "    # выводим статистику о процессе обучения\n",
    "    gru_init.eval()\n",
    "    \n",
    "    print(f'Epoch [{epoch + 1}/{epochs}]. ' \\\n",
    "          f'Step [{i + 1}/{len(train_loader)}]. ' \\\n",
    "          f'Loss: {loss:.3f}. ' \\\n",
    "          f'Acc: {running_right / running_items:.3f}', end='. ')\n",
    "    running_loss, running_items, running_right = 0.0, 0.0, 0.0\n",
    "    train_loss_history.append(loss)\n",
    "\n",
    "    # выводим статистику на тестовых данных\n",
    "    test_running_right, test_running_total, test_loss = 0.0, 0.0, 0.0\n",
    "    for j, data in enumerate(val_loader):\n",
    "        test_labels = data[1].to(device)\n",
    "        test_outputs = gru_init(data[0].to(device))\n",
    "        \n",
    "        # подсчет ошибки на тесте\n",
    "        test_loss = criterion(test_outputs, test_labels.float().view(-1, 1))\n",
    "        # подсчет метрики на тесте\n",
    "        test_running_total += len(data[1])\n",
    "        pred_test_labels = torch.squeeze((test_outputs > th).int())\n",
    "        test_running_right += (test_labels == pred_test_labels).sum()\n",
    "    \n",
    "    test_loss_history.append(test_loss.item())\n",
    "    print(f'Test loss: {test_loss:.3f}. Test acc: {test_running_right / test_running_total:.3f}')\n",
    "            \n",
    "print('Training is finished!')"
   ]
  },
  {
   "cell_type": "markdown",
   "id": "1e1791a5",
   "metadata": {
    "papermill": {
     "duration": 0.042671,
     "end_time": "2022-07-17T11:37:03.279374",
     "exception": false,
     "start_time": "2022-07-17T11:37:03.236703",
     "status": "completed"
    },
    "tags": []
   },
   "source": [
    "## Вывод"
   ]
  },
  {
   "cell_type": "markdown",
   "id": "46788377",
   "metadata": {
    "papermill": {
     "duration": 0.043267,
     "end_time": "2022-07-17T11:37:03.368485",
     "exception": false,
     "start_time": "2022-07-17T11:37:03.325218",
     "status": "completed"
    },
    "tags": []
   },
   "source": [
    "Модели LSTM, GRU и совмещенные их слои отрабатывают примерно одинаково. При этом было важно выбрать наилучшие веса для фиксирования точности повыше."
   ]
  }
 ],
 "metadata": {
  "kernelspec": {
   "display_name": "Python 3",
   "language": "python",
   "name": "python3"
  },
  "language_info": {
   "codemirror_mode": {
    "name": "ipython",
    "version": 3
   },
   "file_extension": ".py",
   "mimetype": "text/x-python",
   "name": "python",
   "nbconvert_exporter": "python",
   "pygments_lexer": "ipython3",
   "version": "3.7.12"
  },
  "papermill": {
   "default_parameters": {},
   "duration": 221.659371,
   "end_time": "2022-07-17T11:37:06.024280",
   "environment_variables": {},
   "exception": null,
   "input_path": "__notebook__.ipynb",
   "output_path": "__notebook__.ipynb",
   "parameters": {},
   "start_time": "2022-07-17T11:33:24.364909",
   "version": "2.3.4"
  }
 },
 "nbformat": 4,
 "nbformat_minor": 5
}
