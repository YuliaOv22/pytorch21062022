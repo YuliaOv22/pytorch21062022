{
  "nbformat": 4,
  "nbformat_minor": 0,
  "metadata": {
    "colab": {
      "name": "HW3_Dataset_Dataloader_BatchNorm_Dropout.ipynb",
      "provenance": [],
      "collapsed_sections": []
    },
    "kernelspec": {
      "name": "python3",
      "display_name": "Python 3"
    },
    "language_info": {
      "name": "python"
    }
  },
  "cells": [
    {
      "cell_type": "markdown",
      "source": [
        "## **Практическое задание**"
      ],
      "metadata": {
        "id": "uMPIn2Z0LYe3"
      }
    },
    {
      "cell_type": "markdown",
      "source": [
        "Будем практиковаться на датасете недвижимости (sklearn.datasets.fetch_california_housing)\n",
        "\n",
        "Ваша задача:\n",
        "1. Создать Dataset для загрузки данных\n",
        "2. Обернуть его в Dataloader\n",
        "3. Написать архитектуру сети, которая предсказывает стоимость недвижимости. Сеть должна включать BatchNorm слои и Dropout (или НЕ включать, но нужно обосновать)\n",
        "4. Сравните сходимость Adam, RMSProp и SGD, сделайте вывод по качеству работы модели\n",
        "\n",
        "train-test разделение нужно сделать с помощью sklearn random_state=13, test_size = 0.25"
      ],
      "metadata": {
        "id": "_1kh-e0oXz7V"
      }
    },
    {
      "cell_type": "code",
      "execution_count": 1269,
      "metadata": {
        "id": "ljCSl2rmA7n3"
      },
      "outputs": [],
      "source": [
        "import math\n",
        "import torch\n",
        "import numpy as np\n",
        "import torch.nn.functional as F\n",
        "import torch.nn as nn\n",
        "import matplotlib.pyplot as plt\n",
        "from sklearn.datasets import fetch_california_housing\n",
        "from sklearn.preprocessing import StandardScaler\n",
        "from sklearn.model_selection import train_test_split\n",
        "from sklearn.metrics import r2_score\n",
        "import pandas as pd\n",
        "result_table = pd.DataFrame(columns=['OptimazerName', 'R2'])"
      ]
    },
    {
      "cell_type": "markdown",
      "source": [
        "**1. Создать Dataset для загрузки данных**"
      ],
      "metadata": {
        "id": "QyIm9NKAVUZz"
      }
    },
    {
      "cell_type": "code",
      "source": [
        "# класс для загрузки данных датасета sklearn.datasets.fetch_california_housing\n",
        "\n",
        "class FetchCaliforniaHousingDataset(torch.utils.data.Dataset):\n",
        "    def __init__(self, data, target, standartization=True):\n",
        "        self.X = data\n",
        "        self.y = target\n",
        "        self.standartization = standartization\n",
        "\n",
        "        if self.standartization is True:\n",
        "            self.X = StandardScaler().fit_transform(self.X)\n",
        "\n",
        "    def __len__(self):\n",
        "        return self.X.shape[0]\n",
        "\n",
        "    def __getitem__(self, index):\n",
        "        sample = self.X[index].astype(np.float32)   # изменить тип float64 на float32\n",
        "        label = self.y[index].astype(np.float32).reshape(-1, 1)   # изменить тип float64 на float32 + изменим размерность [batch_size, 1]\n",
        "\n",
        "        return sample, label"
      ],
      "metadata": {
        "id": "37tpd_mhOF1M"
      },
      "execution_count": 1270,
      "outputs": []
    },
    {
      "cell_type": "code",
      "source": [
        "# загружаем датасет из sklearn\n",
        "cal_housing = fetch_california_housing()\n",
        "\n",
        "# разделяем данные на тренировочные и тестовые\n",
        "X_train, X_test, y_train, y_test = train_test_split(cal_housing.data, cal_housing.target, test_size=0.25, random_state=13)\n",
        "\n",
        "# создаем собственные датасеты\n",
        "data_train = FetchCaliforniaHousingDataset(X_train, y_train)\n",
        "data_test = FetchCaliforniaHousingDataset(X_test, y_test)\n",
        "\n",
        "print(f'Train length: {len(data_train)}')\n",
        "print(f'Test length: {len(data_test)}')"
      ],
      "metadata": {
        "colab": {
          "base_uri": "https://localhost:8080/"
        },
        "id": "stymGZjYOF4C",
        "outputId": "cd66d2b1-03f4-421c-98f3-0174fad44933"
      },
      "execution_count": 1271,
      "outputs": [
        {
          "output_type": "stream",
          "name": "stdout",
          "text": [
            "Train length: 15480\n",
            "Test length: 5160\n"
          ]
        }
      ]
    },
    {
      "cell_type": "code",
      "source": [
        "# посмотрим на единичные экземпляры\n",
        "data_train[0], data_test[10]"
      ],
      "metadata": {
        "colab": {
          "base_uri": "https://localhost:8080/"
        },
        "id": "ifKu4bn4PKjC",
        "outputId": "c64d0fa2-f7fe-4062-dcc7-75b1b807184d"
      },
      "execution_count": 1272,
      "outputs": [
        {
          "output_type": "execute_result",
          "data": {
            "text/plain": [
              "((array([-0.18148348,  0.57913685, -0.34002075, -0.00446324, -0.06538332,\n",
              "         -0.08711252, -0.67176217,  0.67560685], dtype=float32),\n",
              "  array([[2.68]], dtype=float32)),\n",
              " (array([ 0.28412172,  0.8396363 , -0.2598781 , -0.1186917 , -0.97337216,\n",
              "         -0.3103703 , -0.62853336,  0.6278174 ], dtype=float32),\n",
              "  array([[1.958]], dtype=float32)))"
            ]
          },
          "metadata": {},
          "execution_count": 1272
        }
      ]
    },
    {
      "cell_type": "markdown",
      "source": [
        "**2. Обернуть в Dataloader**"
      ],
      "metadata": {
        "id": "Ubp4nYAWcefy"
      }
    },
    {
      "cell_type": "code",
      "source": [
        "BATCH_SIZE = 30"
      ],
      "metadata": {
        "id": "5RpM4nq0cIlx"
      },
      "execution_count": 1273,
      "outputs": []
    },
    {
      "cell_type": "code",
      "source": [
        "# сформируем батчи\n",
        "data_train_loader = torch.utils.data.DataLoader(data_train, batch_size=BATCH_SIZE, shuffle=True,\n",
        "                                          num_workers=2, drop_last=True)\n",
        "\n",
        "data_test_loader = torch.utils.data.DataLoader(data_test, batch_size=BATCH_SIZE, shuffle=True,\n",
        "                                          num_workers=2, drop_last=True)\n",
        "\n",
        "print(f'Number of train batches: {len(data_train_loader)}')\n",
        "print(f'Number of test batches: {len(data_test_loader)}')"
      ],
      "metadata": {
        "colab": {
          "base_uri": "https://localhost:8080/"
        },
        "id": "Fee37Rv5PKlx",
        "outputId": "e3f105f6-a2cd-43f5-fff8-32880958f53d"
      },
      "execution_count": 1274,
      "outputs": [
        {
          "output_type": "stream",
          "name": "stdout",
          "text": [
            "Number of train batches: 516\n",
            "Number of test batches: 172\n"
          ]
        }
      ]
    },
    {
      "cell_type": "code",
      "source": [
        "# посмотрим на тензоры\n",
        "for i, batch in enumerate(data_train_loader):\n",
        "    print(i, batch)\n",
        "    if i == 0:\n",
        "      break"
      ],
      "metadata": {
        "colab": {
          "base_uri": "https://localhost:8080/"
        },
        "id": "IiHKqQJHOF8w",
        "outputId": "a6d3275c-2599-43b9-8bdb-ba45ee051308"
      },
      "execution_count": 1275,
      "outputs": [
        {
          "output_type": "stream",
          "name": "stdout",
          "text": [
            "0 [tensor([[ 1.0740e+00, -8.5285e-01,  4.0341e-01, -1.7520e-01,  1.2600e+00,\n",
            "          4.6861e-03, -6.1590e-01,  5.7616e-01],\n",
            "        [-1.2406e+00,  1.6929e+00, -3.4089e-01,  2.1163e-02, -3.8696e-01,\n",
            "         -4.4346e-02,  2.2146e+00, -5.2273e-01],\n",
            "        [-1.2983e+00, -1.4097e+00, -4.6794e-01, -6.5111e-02, -5.4427e-01,\n",
            "          7.3783e-02, -7.5090e-01,  7.1041e-01],\n",
            "        [ 8.3817e-01,  3.4047e-01,  1.5972e-01, -3.0974e-01, -3.8783e-01,\n",
            "         -4.7338e-02, -8.9522e-01,  6.3583e-01],\n",
            "        [ 1.9203e+00, -3.7552e-01,  6.1898e-01, -2.1133e-01,  1.1105e+00,\n",
            "         -8.6594e-04, -6.2986e-01,  5.3638e-01],\n",
            "        [ 3.2647e-01, -3.7552e-01,  2.3859e-01, -8.3329e-02,  1.8545e+00,\n",
            "          1.2389e-01, -6.3917e-01,  5.9605e-01],\n",
            "        [-9.3446e-01, -1.0120e+00, -5.7495e-02, -8.0218e-02,  3.7091e-01,\n",
            "          2.5372e-02, -8.7660e-01,  1.1530e+00],\n",
            "        [ 7.3441e-01, -3.7552e-01,  1.7542e-01, -1.8384e-01,  9.0021e-01,\n",
            "          2.9182e-02, -8.9522e-01,  8.1981e-01],\n",
            "        [ 2.3062e+00, -2.9597e-01,  8.5447e-01, -1.8229e-01, -4.1824e-01,\n",
            "         -6.5907e-03, -7.8815e-01,  1.1132e+00],\n",
            "        [-1.1077e+00, -5.7302e-02, -7.4498e-01,  1.5325e-01,  3.3354e-01,\n",
            "          1.7646e-01, -8.6729e-01,  7.0544e-01],\n",
            "        [ 9.0337e-01, -1.3686e-01, -1.4393e-02, -4.4677e-02, -9.7599e-03,\n",
            "         -4.9155e-02, -8.2539e-01,  6.0102e-01],\n",
            "        [ 1.0087e+00, -4.5508e-01,  4.3665e-01, -2.3321e-01,  1.8579e-01,\n",
            "          2.8090e-02, -8.3936e-01,  7.7008e-01],\n",
            "        [-9.2509e-01,  4.2003e-01, -4.5152e-01, -1.7947e-01, -9.2326e-02,\n",
            "         -4.4536e-02, -3.5054e-01,  1.2822e+00],\n",
            "        [-7.9546e-01, -1.2506e+00, -2.1608e-01, -9.2006e-02,  2.7966e-01,\n",
            "         -6.7855e-02,  2.1075e+00, -1.3084e+00],\n",
            "        [-6.7548e-01,  1.0565e+00, -5.7818e-01,  7.4277e-02, -1.1978e+00,\n",
            "         -1.0930e-01,  1.1066e+00, -1.2686e+00],\n",
            "        [ 8.3353e-01, -2.0462e+00,  1.2036e+00,  2.3969e-01, -3.8435e-01,\n",
            "          2.1242e-03,  1.2928e+00, -8.9566e-01],\n",
            "        [ 5.9537e-02, -8.5285e-01, -5.8793e-01, -2.7764e-01, -8.2151e-01,\n",
            "          1.5565e-01, -8.6263e-01,  7.9494e-01],\n",
            "        [ 4.9123e-01,  1.8520e+00, -1.6061e-01,  3.9711e-02, -5.1559e-01,\n",
            "         -1.0597e-01,  9.7624e-01, -1.4128e+00],\n",
            "        [-8.3807e-01,  4.2003e-01, -7.3446e-01,  1.0959e-02,  6.6989e-01,\n",
            "          1.0855e-01, -7.3694e-01,  6.9052e-01],\n",
            "        [-4.0612e-01, -1.3686e-01, -4.1250e-01, -4.3223e-02, -8.3977e-01,\n",
            "          3.3126e-02, -8.0211e-01,  7.3030e-01],\n",
            "        [ 1.9838e-01,  3.4047e-01, -3.3001e-01,  1.7553e-02,  7.0465e-01,\n",
            "         -9.7994e-02, -7.3694e-01,  5.9605e-01],\n",
            "        [ 2.4030e-01, -9.3241e-01,  5.1109e-01,  3.8149e-01, -5.3644e-01,\n",
            "         -9.0717e-02, -1.2071e+00,  1.1181e+00],\n",
            "        [ 1.1018e+00,  8.1780e-01,  3.2736e-01, -1.2962e-01, -8.0326e-01,\n",
            "         -3.0225e-02,  8.7382e-01, -1.3531e+00],\n",
            "        [-9.4779e-01, -7.7330e-01, -3.0112e-02,  1.1472e-01, -6.7122e-02,\n",
            "         -1.5126e-02,  1.4092e+00, -9.2052e-01],\n",
            "        [-5.9763e-01,  1.0565e+00, -1.9328e-01, -1.8736e-01, -5.5035e-01,\n",
            "         -1.8859e-03,  1.4325e+00, -6.0726e-01],\n",
            "        [-9.3583e-01, -7.7330e-01, -7.0555e-01, -1.6520e-01, -1.1145e-01,\n",
            "         -8.0189e-02, -1.3468e+00,  1.2325e+00],\n",
            "        [-1.1962e+00, -1.3686e-01, -3.7965e-02,  1.8302e-02, -3.1395e-01,\n",
            "          5.5477e-02,  3.0587e-01, -2.5495e-02],\n",
            "        [-6.1723e-01,  4.2003e-01, -3.5745e-01,  9.3522e-02, -3.8783e-01,\n",
            "         -1.4460e-02, -7.3228e-01,  7.4522e-01],\n",
            "        [-8.5846e-01, -6.1419e-01,  1.4637e-01,  1.9816e-02, -6.7116e-01,\n",
            "          3.3701e-02,  2.7406e+00, -6.3709e-01],\n",
            "        [-1.2029e+00,  2.6092e-01, -5.4979e-01,  5.7437e-02, -1.2188e-01,\n",
            "          9.5510e-02, -7.6953e-01,  6.6566e-01]]), tensor([[[2.3560]],\n",
            "\n",
            "        [[0.5930]],\n",
            "\n",
            "        [[1.3440]],\n",
            "\n",
            "        [[4.0980]],\n",
            "\n",
            "        [[3.4400]],\n",
            "\n",
            "        [[1.6620]],\n",
            "\n",
            "        [[1.0130]],\n",
            "\n",
            "        [[2.1140]],\n",
            "\n",
            "        [[2.3520]],\n",
            "\n",
            "        [[1.1830]],\n",
            "\n",
            "        [[3.4550]],\n",
            "\n",
            "        [[3.1590]],\n",
            "\n",
            "        [[0.7200]],\n",
            "\n",
            "        [[0.8890]],\n",
            "\n",
            "        [[2.2500]],\n",
            "\n",
            "        [[2.3760]],\n",
            "\n",
            "        [[1.6250]],\n",
            "\n",
            "        [[3.5560]],\n",
            "\n",
            "        [[1.5960]],\n",
            "\n",
            "        [[1.8750]],\n",
            "\n",
            "        [[5.0000]],\n",
            "\n",
            "        [[3.5710]],\n",
            "\n",
            "        [[3.7910]],\n",
            "\n",
            "        [[0.9440]],\n",
            "\n",
            "        [[1.2860]],\n",
            "\n",
            "        [[1.1440]],\n",
            "\n",
            "        [[0.5010]],\n",
            "\n",
            "        [[2.3560]],\n",
            "\n",
            "        [[0.3460]],\n",
            "\n",
            "        [[1.0290]]])]\n"
          ]
        }
      ]
    },
    {
      "cell_type": "markdown",
      "source": [
        "**3. Написать архитектуру сети, которая предсказывает стоимость недвижимости. Сеть должна включать BatchNorm слои и Dropout (или НЕ включать, но нужно обосновать)**"
      ],
      "metadata": {
        "id": "1yS4tj3jiab3"
      }
    },
    {
      "cell_type": "code",
      "source": [
        "# создадим архитектуру сети\n",
        "\n",
        "class Net(nn.Module):\n",
        "    def __init__(self, input_dim, hidden_dim, output_dim):\n",
        "        super().__init__()\n",
        "        self.fc1 = nn.Linear(input_dim, 3*hidden_dim)\n",
        "        self.relu = nn.ReLU()\n",
        "        self.dp = nn.Dropout(0.1)\n",
        "        self.bn = nn.BatchNorm1d(3*hidden_dim)\n",
        "        self.fc2 = nn.Linear(3*hidden_dim, output_dim)\n",
        "        \n",
        "        \n",
        "    def forward(self, x):\n",
        "        x = self.fc1(x)\n",
        "        x = self.relu(x)\n",
        "        x = self.dp(x)\n",
        "        x = self.bn(x)\n",
        "        x = self.fc2(x)\n",
        "        return x\n",
        "\n",
        "\n",
        "    def predict(self, x):\n",
        "        x = self.fc1(x)\n",
        "        x = self.relu(x)\n",
        "        x = self.dp(x)\n",
        "        x = self.bn(x)\n",
        "        x = self.fc2(x)\n",
        "        return x"
      ],
      "metadata": {
        "id": "07fvU3TSqvY5"
      },
      "execution_count": 1276,
      "outputs": []
    },
    {
      "cell_type": "code",
      "source": [
        "INPUT_DIMENSION = len(data_train[0][0])\n",
        "HIDDEN_DIMENSION = 100\n",
        "OUTPUT_DIMENSION = 1"
      ],
      "metadata": {
        "id": "rCBTOfj-f6Dd"
      },
      "execution_count": 1277,
      "outputs": []
    },
    {
      "cell_type": "code",
      "source": [
        "# print(torch.seed())\n",
        "torch.manual_seed(11340019636634753458)\n",
        "net = Net(INPUT_DIMENSION, HIDDEN_DIMENSION, OUTPUT_DIMENSION)\n",
        "print(net)"
      ],
      "metadata": {
        "colab": {
          "base_uri": "https://localhost:8080/"
        },
        "id": "-eLAf-p1qvcc",
        "outputId": "b25da71a-693c-4554-9564-d4e8a94f9ac1"
      },
      "execution_count": 1407,
      "outputs": [
        {
          "output_type": "stream",
          "name": "stdout",
          "text": [
            "Net(\n",
            "  (fc1): Linear(in_features=8, out_features=300, bias=True)\n",
            "  (relu): ReLU()\n",
            "  (dp): Dropout(p=0.1, inplace=False)\n",
            "  (bn): BatchNorm1d(300, eps=1e-05, momentum=0.1, affine=True, track_running_stats=True)\n",
            "  (fc2): Linear(in_features=300, out_features=1, bias=True)\n",
            ")\n"
          ]
        }
      ]
    },
    {
      "cell_type": "code",
      "source": [
        "net.fc1.weight[0][:5]"
      ],
      "metadata": {
        "colab": {
          "base_uri": "https://localhost:8080/"
        },
        "id": "neQev0q2zkPo",
        "outputId": "e4506b75-2477-42e8-ebef-fa8a768b98b9"
      },
      "execution_count": 1408,
      "outputs": [
        {
          "output_type": "execute_result",
          "data": {
            "text/plain": [
              "tensor([-0.2354,  0.0023, -0.0441, -0.0024, -0.0438], grad_fn=<SliceBackward0>)"
            ]
          },
          "metadata": {},
          "execution_count": 1408
        }
      ]
    },
    {
      "cell_type": "code",
      "source": [
        "torch.initial_seed()"
      ],
      "metadata": {
        "colab": {
          "base_uri": "https://localhost:8080/"
        },
        "id": "IxpPHHHIzm5m",
        "outputId": "b3f7de4f-8024-4228-f17a-78069e5b2f39"
      },
      "execution_count": 1409,
      "outputs": [
        {
          "output_type": "execute_result",
          "data": {
            "text/plain": [
              "11340019636634753458"
            ]
          },
          "metadata": {},
          "execution_count": 1409
        }
      ]
    },
    {
      "cell_type": "code",
      "source": [
        "# зададим оптимизатор и критерий\n",
        "# optimizer = torch.optim.SGD(net.parameters(), lr=5e-3)\n",
        "# optimizer = torch.optim.Adam(net.parameters(), lr=1e-4)\n",
        "optimizer = torch.optim.RMSprop(net.parameters(), lr=1e-4)\n",
        "criterion = nn.MSELoss()"
      ],
      "metadata": {
        "id": "gLRUZkDCu0Gl"
      },
      "execution_count": 1410,
      "outputs": []
    },
    {
      "cell_type": "code",
      "source": [
        "# обучим модель\n",
        "\n",
        "num_epochs = 3\n",
        "\n",
        "for epoch in range(num_epochs):  \n",
        "    running_loss, running_items = 0.0, 0.0\n",
        "    for i, data in enumerate(data_train_loader):\n",
        "        inputs, labels = data[0], data[1]\n",
        "        labels = labels.reshape(-1, 1)\n",
        "\n",
        "        # обнуляем градиент\n",
        "        optimizer.zero_grad()\n",
        "\n",
        "        outputs = net(inputs)\n",
        "        loss = criterion(outputs, labels)\n",
        "        loss.backward()\n",
        "        optimizer.step()\n",
        "\n",
        "        # выводим статистику о процессе обучения\n",
        "        running_loss += loss.item()\n",
        "        running_items += len(labels)\n",
        "\n",
        "        if i % 300 == 0:    # печатаем каждые 300 mini-batches\n",
        "            net.eval()\n",
        "            true_labels = np.array([labels[j][0] for j in range(len(labels))])\n",
        "            pred_labels = np.array([outputs.detach().numpy()[j][0] for j in range(len(outputs))])\n",
        "\n",
        "            print(f'Epoch [{epoch + 1}/{num_epochs}]. ' \\\n",
        "                  f'Step [{i + 1}/{len(data_train_loader)}]. ' \\\n",
        "                  f'Loss: {running_loss / running_items:.3f}. ' \\\n",
        "                  f'R2: {r2_score(true_labels, pred_labels):.3f}', end='. ')\n",
        "\n",
        "            test_running_total = 0.0\n",
        "            for i, data in enumerate(data_test_loader):            \n",
        "                 test_outputs = net(data[0])\n",
        "                 test_labels = data[1].reshape(-1, 1)\n",
        "                 test_running_total += len(data[1])\n",
        "                 \n",
        "                 test_true_labels = np.array([test_labels[j][0] for j in range(len(test_labels))])\n",
        "                 test_pred_labels = np.array([test_outputs.detach().numpy()[j][0] for j in range(len(test_outputs))])\n",
        "            \n",
        "            \n",
        "            print(f'Test R2: {r2_score(test_true_labels, test_pred_labels):.3f}')\n",
        "            net.train()\n",
        "  \n",
        "        \n",
        "print('Training is finished!')"
      ],
      "metadata": {
        "colab": {
          "base_uri": "https://localhost:8080/"
        },
        "id": "wktk3wdmu0Jh",
        "outputId": "87895b4b-6007-4735-a870-6f1007f220f0"
      },
      "execution_count": 1411,
      "outputs": [
        {
          "output_type": "stream",
          "name": "stdout",
          "text": [
            "Epoch [1/3]. Step [1/516]. Loss: 0.200. R2: -3.634. Test R2: -3.917\n",
            "Epoch [1/3]. Step [301/516]. Loss: 0.132. R2: -2.817. Test R2: -1.037\n",
            "Epoch [2/3]. Step [1/516]. Loss: 0.036. R2: -0.856. Test R2: -0.245\n",
            "Epoch [2/3]. Step [301/516]. Loss: 0.048. R2: 0.209. Test R2: 0.030\n",
            "Epoch [3/3]. Step [1/516]. Loss: 0.028. R2: 0.389. Test R2: 0.350\n",
            "Epoch [3/3]. Step [301/516]. Loss: 0.023. R2: 0.153. Test R2: 0.719\n",
            "Training is finished!\n"
          ]
        }
      ]
    },
    {
      "cell_type": "code",
      "source": [
        "# посмотрим результаты на тесте\n",
        "net.eval()\n",
        "data_iter = iter(data_test_loader)\n",
        "test_samples, test_labels = data_iter.next()"
      ],
      "metadata": {
        "id": "m7vTKfDoHv8l"
      },
      "execution_count": 1412,
      "outputs": []
    },
    {
      "cell_type": "code",
      "source": [
        "# делаем предсказания\n",
        "predictions = net.predict(test_samples)\n",
        "# predictions"
      ],
      "metadata": {
        "id": "04ytgj4hu9gA"
      },
      "execution_count": 1413,
      "outputs": []
    },
    {
      "cell_type": "code",
      "source": [
        "# формируем списки исходных и предсказанных значений\n",
        "test_true_labels = np.array([test_labels[j][0][0] for j in range(len(test_labels))])\n",
        "predictions_labels = np.array([predictions.detach().numpy()[j][0] for j in range(len(test_labels))])\n",
        "\n",
        "print(test_true_labels[:5])\n",
        "print(predictions_labels[:5])"
      ],
      "metadata": {
        "colab": {
          "base_uri": "https://localhost:8080/"
        },
        "id": "W3yezZdsu9jH",
        "outputId": "770aaf35-f115-4393-afbe-87f0473c67ea"
      },
      "execution_count": 1414,
      "outputs": [
        {
          "output_type": "stream",
          "name": "stdout",
          "text": [
            "[2.583 1.158 1.418 4.5   1.403]\n",
            "[ 2.5155165   2.08492     1.4995068   3.7987003  -0.04628997]\n"
          ]
        }
      ]
    },
    {
      "cell_type": "code",
      "source": [
        "# смотрим метрику \n",
        "R2 = r2_score(test_true_labels, predictions_labels)\n",
        "print(R2)"
      ],
      "metadata": {
        "colab": {
          "base_uri": "https://localhost:8080/"
        },
        "id": "ghL4qLZDk4k_",
        "outputId": "d7e289ee-9ea3-4486-f192-a86b45767a9e"
      },
      "execution_count": 1415,
      "outputs": [
        {
          "output_type": "stream",
          "name": "stdout",
          "text": [
            "0.7209921358083264\n"
          ]
        }
      ]
    },
    {
      "cell_type": "code",
      "source": [
        "# посмотрим на график\n",
        "plt.scatter(range(len(test_true_labels)), test_true_labels, label='test')\n",
        "plt.plot(range(len(predictions_labels)), predictions_labels, c='red', label='pred')\n",
        "plt.title('Compare TRUE_TEST_LABELS and PREDICTIONS')\n",
        "plt.legend(loc='best')\n",
        "plt.show()"
      ],
      "metadata": {
        "colab": {
          "base_uri": "https://localhost:8080/",
          "height": 284
        },
        "id": "t2KhHLUmu0M7",
        "outputId": "1bf9ec54-7bf6-4494-e8df-44ad7b67b152"
      },
      "execution_count": 1416,
      "outputs": [
        {
          "output_type": "display_data",
          "data": {
            "text/plain": [
              "<Figure size 432x288 with 1 Axes>"
            ],
            "image/png": "[encoded data removed]"
          },
          "metadata": {}
        }
      ]
    },
    {
      "cell_type": "markdown",
      "source": [
        "**4. Сравните сходимость Adam, RMSProp и SGD, сделайте вывод по качеству работы модели**"
      ],
      "metadata": {
        "id": "33xb4uiv2oi8"
      }
    },
    {
      "cell_type": "code",
      "source": [
        "# R2_SGD = np.copy(R2)\n",
        "# result_table.loc[0] = ['SGD', R2_SGD]\n",
        "\n",
        "# R2_Adam = np.copy(R2)\n",
        "# result_table.loc[1] = ['Adam', R2_Adam]\n",
        "\n",
        "R2_RMSProp = np.copy(R2)\n",
        "result_table.loc[2] = ['RMSProp', R2_RMSProp]\n",
        "\n",
        "result_table"
      ],
      "metadata": {
        "id": "Pv-V09qksUlJ",
        "colab": {
          "base_uri": "https://localhost:8080/",
          "height": 143
        },
        "outputId": "40ac99e0-796f-42cc-c45a-57da9d38e86b"
      },
      "execution_count": 1417,
      "outputs": [
        {
          "output_type": "execute_result",
          "data": {
            "text/plain": [
              "  OptimazerName                  R2\n",
              "0           SGD   0.741231441513831\n",
              "1          Adam  0.7343838304386947\n",
              "2       RMSProp  0.7209921358083264"
            ],
            "text/html": [
              "\n",
              "  <div id=\"df-a9252bd5-2f15-49f8-8e8c-ba5c04e5f6dd\">\n",
              "    <div class=\"colab-df-container\">\n",
              "      <div>\n",
              "<style scoped>\n",
              "    .dataframe tbody tr th:only-of-type {\n",
              "        vertical-align: middle;\n",
              "    }\n",
              "\n",
              "    .dataframe tbody tr th {\n",
              "        vertical-align: top;\n",
              "    }\n",
              "\n",
              "    .dataframe thead th {\n",
              "        text-align: right;\n",
              "    }\n",
              "</style>\n",
              "<table border=\"1\" class=\"dataframe\">\n",
              "  <thead>\n",
              "    <tr style=\"text-align: right;\">\n",
              "      <th></th>\n",
              "      <th>OptimazerName</th>\n",
              "      <th>R2</th>\n",
              "    </tr>\n",
              "  </thead>\n",
              "  <tbody>\n",
              "    <tr>\n",
              "      <th>0</th>\n",
              "      <td>SGD</td>\n",
              "      <td>0.741231441513831</td>\n",
              "    </tr>\n",
              "    <tr>\n",
              "      <th>1</th>\n",
              "      <td>Adam</td>\n",
              "      <td>0.7343838304386947</td>\n",
              "    </tr>\n",
              "    <tr>\n",
              "      <th>2</th>\n",
              "      <td>RMSProp</td>\n",
              "      <td>0.7209921358083264</td>\n",
              "    </tr>\n",
              "  </tbody>\n",
              "</table>\n",
              "</div>\n",
              "      <button class=\"colab-df-convert\" onclick=\"convertToInteractive('df-a9252bd5-2f15-49f8-8e8c-ba5c04e5f6dd')\"\n",
              "              title=\"Convert this dataframe to an interactive table.\"\n",
              "              style=\"display:none;\">\n",
              "        \n",
              "  <svg xmlns=\"http://www.w3.org/2000/svg\" height=\"24px\"viewBox=\"0 0 24 24\"\n",
              "       width=\"24px\">\n",
              "    <path d=\"M0 0h24v24H0V0z\" fill=\"none\"/>\n",
              "    <path d=\"M18.56 5.44l.94 2.06.94-2.06 2.06-.94-2.06-.94-.94-2.06-.94 2.06-2.06.94zm-11 1L8.5 8.5l.94-2.06 2.06-.94-2.06-.94L8.5 2.5l-.94 2.06-2.06.94zm10 10l.94 2.06.94-2.06 2.06-.94-2.06-.94-.94-2.06-.94 2.06-2.06.94z\"/><path d=\"M17.41 7.96l-1.37-1.37c-.4-.4-.92-.59-1.43-.59-.52 0-1.04.2-1.43.59L10.3 9.45l-7.72 7.72c-.78.78-.78 2.05 0 2.83L4 21.41c.39.39.9.59 1.41.59.51 0 1.02-.2 1.41-.59l7.78-7.78 2.81-2.81c.8-.78.8-2.07 0-2.86zM5.41 20L4 18.59l7.72-7.72 1.47 1.35L5.41 20z\"/>\n",
              "  </svg>\n",
              "      </button>\n",
              "      \n",
              "  <style>\n",
              "    .colab-df-container {\n",
              "      display:flex;\n",
              "      flex-wrap:wrap;\n",
              "      gap: 12px;\n",
              "    }\n",
              "\n",
              "    .colab-df-convert {\n",
              "      background-color: #E8F0FE;\n",
              "      border: none;\n",
              "      border-radius: 50%;\n",
              "      cursor: pointer;\n",
              "      display: none;\n",
              "      fill: #1967D2;\n",
              "      height: 32px;\n",
              "      padding: 0 0 0 0;\n",
              "      width: 32px;\n",
              "    }\n",
              "\n",
              "    .colab-df-convert:hover {\n",
              "      background-color: #E2EBFA;\n",
              "      box-shadow: 0px 1px 2px rgba(60, 64, 67, 0.3), 0px 1px 3px 1px rgba(60, 64, 67, 0.15);\n",
              "      fill: #174EA6;\n",
              "    }\n",
              "\n",
              "    [theme=dark] .colab-df-convert {\n",
              "      background-color: #3B4455;\n",
              "      fill: #D2E3FC;\n",
              "    }\n",
              "\n",
              "    [theme=dark] .colab-df-convert:hover {\n",
              "      background-color: #434B5C;\n",
              "      box-shadow: 0px 1px 3px 1px rgba(0, 0, 0, 0.15);\n",
              "      filter: drop-shadow(0px 1px 2px rgba(0, 0, 0, 0.3));\n",
              "      fill: #FFFFFF;\n",
              "    }\n",
              "  </style>\n",
              "\n",
              "      <script>\n",
              "        const buttonEl =\n",
              "          document.querySelector('#df-a9252bd5-2f15-49f8-8e8c-ba5c04e5f6dd button.colab-df-convert');\n",
              "        buttonEl.style.display =\n",
              "          google.colab.kernel.accessAllowed ? 'block' : 'none';\n",
              "\n",
              "        async function convertToInteractive(key) {\n",
              "          const element = document.querySelector('#df-a9252bd5-2f15-49f8-8e8c-ba5c04e5f6dd');\n",
              "          const dataTable =\n",
              "            await google.colab.kernel.invokeFunction('convertToInteractive',\n",
              "                                                     [key], {});\n",
              "          if (!dataTable) return;\n",
              "\n",
              "          const docLinkHtml = 'Like what you see? Visit the ' +\n",
              "            '<a target=\"_blank\" href=https://colab.research.google.com/notebooks/data_table.ipynb>data table notebook</a>'\n",
              "            + ' to learn more about interactive tables.';\n",
              "          element.innerHTML = '';\n",
              "          dataTable['output_type'] = 'display_data';\n",
              "          await google.colab.output.renderOutput(dataTable, element);\n",
              "          const docLink = document.createElement('div');\n",
              "          docLink.innerHTML = docLinkHtml;\n",
              "          element.appendChild(docLink);\n",
              "        }\n",
              "      </script>\n",
              "    </div>\n",
              "  </div>\n",
              "  "
            ]
          },
          "metadata": {},
          "execution_count": 1417
        }
      ]
    },
    {
      "cell_type": "markdown",
      "source": [
        "### **Вывод:**\n",
        "\n",
        "При прочих равных параметрах модели наилучшим образом сошелся оптимизатор **SGD** (lr=5e-3). При этом значение шага понадобилось сделать меньше, чем у оптимизаторов **Adam** и **RMSprop** (lr=1e-4).\n",
        "В целом модель находит общие закономерности, но достичь идеально точных значений довольно сложно."
      ],
      "metadata": {
        "id": "EmJsiXnsES5L"
      }
    }
  ]
}