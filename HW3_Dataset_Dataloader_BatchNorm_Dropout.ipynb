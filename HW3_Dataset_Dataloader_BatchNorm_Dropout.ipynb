{
  "nbformat": 4,
  "nbformat_minor": 0,
  "metadata": {
    "colab": {
      "name": "HW3_Dataset_Dataloader_BatchNorm_Dropout.ipynb",
      "provenance": [],
      "collapsed_sections": []
    },
    "kernelspec": {
      "name": "python3",
      "display_name": "Python 3"
    },
    "language_info": {
      "name": "python"
    }
  },
  "cells": [
    {
      "cell_type": "markdown",
      "source": [
        "## **Практическое задание**"
      ],
      "metadata": {
        "id": "uMPIn2Z0LYe3"
      }
    },
    {
      "cell_type": "markdown",
      "source": [
        "Будем практиковаться на датасете недвижимости (sklearn.datasets.fetch_california_housing)\n",
        "\n",
        "Ваша задача:\n",
        "1. Создать Dataset для загрузки данных\n",
        "2. Обернуть его в Dataloader\n",
        "3. Написать архитектуру сети, которая предсказывает стоимость недвижимости. Сеть должна включать BatchNorm слои и Dropout (или НЕ включать, но нужно обосновать)\n",
        "4. Сравните сходимость Adam, RMSProp и SGD, сделайте вывод по качеству работы модели\n",
        "\n",
        "train-test разделение нужно сделать с помощью sklearn random_state=13, test_size = 0.25"
      ],
      "metadata": {
        "id": "_1kh-e0oXz7V"
      }
    },
    {
      "cell_type": "code",
      "execution_count": 1,
      "metadata": {
        "id": "ljCSl2rmA7n3"
      },
      "outputs": [],
      "source": [
        "import math\n",
        "import torch\n",
        "import numpy as np\n",
        "import torch.nn.functional as F\n",
        "import torch.nn as nn\n",
        "import matplotlib.pyplot as plt\n",
        "from sklearn.datasets import fetch_california_housing\n",
        "from sklearn.preprocessing import StandardScaler\n",
        "from sklearn.model_selection import train_test_split\n",
        "from sklearn.metrics import r2_score\n",
        "import pandas as pd\n",
        "result_table = pd.DataFrame(columns=['OptimazerName', 'R2'])"
      ]
    },
    {
      "cell_type": "markdown",
      "source": [
        "**1. Создать Dataset для загрузки данных**"
      ],
      "metadata": {
        "id": "QyIm9NKAVUZz"
      }
    },
    {
      "cell_type": "code",
      "source": [
        "# класс для загрузки данных датасета sklearn.datasets.fetch_california_housing\n",
        "\n",
        "class FetchCaliforniaHousingDataset(torch.utils.data.Dataset):\n",
        "    def __init__(self, data, target, standartization=True):\n",
        "        self.X = data\n",
        "        self.y = target\n",
        "        self.standartization = standartization\n",
        "\n",
        "        if self.standartization is True:\n",
        "            self.X = StandardScaler().fit_transform(self.X)\n",
        "\n",
        "    def __len__(self):\n",
        "        return self.X.shape[0]\n",
        "\n",
        "    def __getitem__(self, index):\n",
        "        sample = self.X[index].astype(np.float32)   # изменить тип float64 на float32\n",
        "        label = self.y[index].astype(np.float32).reshape(-1, 1)   # изменить тип float64 на float32 + изменим размерность [batch_size, 1]\n",
        "\n",
        "        return sample, label"
      ],
      "metadata": {
        "id": "37tpd_mhOF1M"
      },
      "execution_count": 2,
      "outputs": []
    },
    {
      "cell_type": "code",
      "source": [
        "# загружаем датасет из sklearn\n",
        "cal_housing = fetch_california_housing()\n",
        "\n",
        "# разделяем данные на тренировочные и тестовые\n",
        "X_train, X_test, y_train, y_test = train_test_split(cal_housing.data, cal_housing.target, test_size=0.25, random_state=13)\n",
        "\n",
        "# создаем собственные датасеты\n",
        "data_train = FetchCaliforniaHousingDataset(X_train, y_train)\n",
        "data_test = FetchCaliforniaHousingDataset(X_test, y_test)\n",
        "\n",
        "print(f'Train length: {len(data_train)}')\n",
        "print(f'Test length: {len(data_test)}')"
      ],
      "metadata": {
        "colab": {
          "base_uri": "https://localhost:8080/"
        },
        "id": "stymGZjYOF4C",
        "outputId": "a592a4ce-7ab9-4874-b5be-068e7ffdf6e6"
      },
      "execution_count": 3,
      "outputs": [
        {
          "output_type": "stream",
          "name": "stdout",
          "text": [
            "Train length: 15480\n",
            "Test length: 5160\n"
          ]
        }
      ]
    },
    {
      "cell_type": "code",
      "source": [
        "# посмотрим на единичные экземпляры\n",
        "data_train[0], data_test[10]"
      ],
      "metadata": {
        "colab": {
          "base_uri": "https://localhost:8080/"
        },
        "id": "ifKu4bn4PKjC",
        "outputId": "e7d3d772-a259-4a38-db97-f6872c45e5eb"
      },
      "execution_count": 4,
      "outputs": [
        {
          "output_type": "execute_result",
          "data": {
            "text/plain": [
              "((array([-0.18148348,  0.57913685, -0.34002075, -0.00446324, -0.06538332,\n",
              "         -0.08711252, -0.67176217,  0.67560685], dtype=float32),\n",
              "  array([[2.68]], dtype=float32)),\n",
              " (array([ 0.28412172,  0.8396363 , -0.2598781 , -0.1186917 , -0.97337216,\n",
              "         -0.3103703 , -0.62853336,  0.6278174 ], dtype=float32),\n",
              "  array([[1.958]], dtype=float32)))"
            ]
          },
          "metadata": {},
          "execution_count": 4
        }
      ]
    },
    {
      "cell_type": "markdown",
      "source": [
        "**2. Обернуть в Dataloader**"
      ],
      "metadata": {
        "id": "Ubp4nYAWcefy"
      }
    },
    {
      "cell_type": "code",
      "source": [
        "BATCH_SIZE = 30"
      ],
      "metadata": {
        "id": "5RpM4nq0cIlx"
      },
      "execution_count": 5,
      "outputs": []
    },
    {
      "cell_type": "code",
      "source": [
        "# сформируем батчи\n",
        "data_train_loader = torch.utils.data.DataLoader(data_train, batch_size=BATCH_SIZE, shuffle=True,\n",
        "                                          num_workers=2, drop_last=True)\n",
        "\n",
        "data_test_loader = torch.utils.data.DataLoader(data_test, batch_size=BATCH_SIZE, shuffle=True,\n",
        "                                          num_workers=2, drop_last=True)\n",
        "\n",
        "print(f'Number of train batches: {len(data_train_loader)}')\n",
        "print(f'Number of test batches: {len(data_test_loader)}')"
      ],
      "metadata": {
        "colab": {
          "base_uri": "https://localhost:8080/"
        },
        "id": "Fee37Rv5PKlx",
        "outputId": "905b8de5-36af-4cf3-972e-f5fddd1c13d6"
      },
      "execution_count": 6,
      "outputs": [
        {
          "output_type": "stream",
          "name": "stdout",
          "text": [
            "Number of train batches: 516\n",
            "Number of test batches: 172\n"
          ]
        }
      ]
    },
    {
      "cell_type": "code",
      "source": [
        "# посмотрим на тензоры\n",
        "for i, batch in enumerate(data_train_loader):\n",
        "    print(i, batch)\n",
        "    if i == 0:\n",
        "      break"
      ],
      "metadata": {
        "colab": {
          "base_uri": "https://localhost:8080/"
        },
        "id": "IiHKqQJHOF8w",
        "outputId": "1e46f41c-eb2a-4d14-be8a-9326c0cee6b0"
      },
      "execution_count": 7,
      "outputs": [
        {
          "output_type": "stream",
          "name": "stdout",
          "text": [
            "0 [tensor([[-2.9488e-01, -6.9374e-01, -1.9545e-01, -2.8379e-01, -9.7709e-01,\n",
            "         -3.3919e-02,  1.5861e+00, -9.6527e-01],\n",
            "        [-5.9263e-01,  2.2253e-02, -9.4705e-02, -2.1258e-01,  7.6897e-01,\n",
            "          1.8519e-02,  1.3207e+00, -9.5035e-01],\n",
            "        [-1.0959e+00,  2.2253e-02, -3.0103e-01, -3.5703e-01, -1.3404e-01,\n",
            "          1.6287e-02,  3.6173e-01, -5.0357e-02],\n",
            "        [-8.7763e-01,  3.4047e-01, -8.4127e-01, -1.5592e-01,  9.8364e-01,\n",
            "          1.5642e-01, -7.6021e-01,  6.6566e-01],\n",
            "        [-3.6388e-01,  9.7691e-01,  2.5927e-01, -1.4305e-01, -4.5301e-01,\n",
            "         -4.1563e-02,  2.3868e+00, -2.2680e+00],\n",
            "        [-1.0643e+00, -5.7302e-02, -1.4860e-01,  1.3693e-01, -5.2167e-01,\n",
            "         -1.6587e-02,  1.6047e+00, -9.8516e-01],\n",
            "        [-6.0025e-02, -8.5285e-01,  3.0517e-01,  1.8475e-01,  1.0836e+00,\n",
            "         -3.5821e-02, -6.9969e-01,  1.7837e-01],\n",
            "        [ 1.4102e+00, -6.9374e-01,  3.0859e-01, -2.2362e-01, -5.4861e-01,\n",
            "         -2.3999e-02, -9.8367e-01,  9.4411e-01],\n",
            "        [ 2.0706e+00,  2.2253e-02,  4.4473e-01, -2.8552e-01, -5.8598e-01,\n",
            "         -2.1903e-03,  8.3658e-01, -1.3133e+00],\n",
            "        [-3.1485e-01,  4.2003e-01,  1.0639e-01, -2.3816e-01, -2.5311e-01,\n",
            "         -5.6833e-02,  5.2933e-01, -9.0135e-02],\n",
            "        [-1.5657e-01,  3.4047e-01, -8.0756e-04, -7.7159e-02, -5.6599e-01,\n",
            "         -2.1496e-02,  1.1950e+00, -1.4426e+00],\n",
            "        [-5.7625e-01, -8.5285e-01,  2.7512e-01, -1.0198e-01, -5.3644e-01,\n",
            "         -6.3433e-02,  1.3533e+00, -8.8571e-01],\n",
            "        [-3.3965e-01, -1.0120e+00, -2.1446e-01, -1.5123e-01, -2.2182e-01,\n",
            "         -2.2112e-02,  1.7630e+00, -2.0890e+00],\n",
            "        [-4.5119e-02,  5.7914e-01,  1.0107e-01, -1.2724e-01, -2.5224e-01,\n",
            "          7.6390e-03, -1.3654e+00,  1.2773e+00],\n",
            "        [-1.0673e-02, -1.4097e+00,  4.8142e-01, -5.2350e-02, -5.7121e-01,\n",
            "         -3.0846e-02,  1.5721e+00, -7.3157e-01],\n",
            "        [ 1.4049e-01, -2.1641e-01, -5.7695e-01, -3.8762e-01, -5.6599e-01,\n",
            "         -5.2510e-02, -8.3470e-01,  7.9992e-01],\n",
            "        [-9.3957e-01,  9.7691e-01, -2.4308e-01, -2.3311e-01, -6.0076e-01,\n",
            "          3.1046e-02,  5.1070e-01, -1.1500e-01],\n",
            "        [-5.0788e-01, -7.7330e-01, -1.3669e-01,  1.8080e-01,  1.2044e+00,\n",
            "          8.2630e-02, -7.2763e-01,  9.7395e-01],\n",
            "        [-6.8349e-01, -6.1419e-01, -4.6352e-01, -3.4226e-02,  1.1931e+00,\n",
            "         -9.7389e-02, -7.4159e-01,  1.1927e+00],\n",
            "        [ 2.4273e+00,  1.8520e+00,  6.1491e-01, -3.3653e-01, -6.6160e-01,\n",
            "         -2.8940e-02,  8.9710e-01, -1.3879e+00],\n",
            "        [-5.3864e-01, -1.0915e+00,  7.5991e-04, -2.5730e-02, -1.4360e-01,\n",
            "         -4.3178e-02,  7.7141e-01, -2.5495e-02],\n",
            "        [ 1.0474e+00, -5.3463e-01,  1.0196e+00,  2.1266e-01, -2.8179e-01,\n",
            "         -4.9743e-02,  4.3622e-01, -1.1741e+00],\n",
            "        [ 3.6123e-01,  1.2951e+00,  1.7769e-01, -1.5475e-01, -6.6247e-01,\n",
            "         -3.5738e-02, -7.7418e-01,  7.6014e-01],\n",
            "        [-2.7129e-01,  1.0181e-01, -8.3110e-01, -1.5832e-01,  6.0557e-01,\n",
            "         -1.4391e-01,  8.9710e-01, -1.3730e+00],\n",
            "        [-1.8011e-01,  2.6092e-01,  1.8284e-01,  1.4556e-03, -2.6963e-01,\n",
            "         -6.2755e-03,  6.0847e-01, -1.2139e+00],\n",
            "        [-1.1782e+00, -8.5285e-01,  2.3359e-01,  6.1887e-01,  1.7311e+00,\n",
            "          7.5166e-01, -9.8367e-01,  2.1723e+00],\n",
            "        [ 9.3866e-01, -8.5285e-01,  2.5735e-01, -8.9317e-02,  2.1848e+00,\n",
            "         -3.2435e-02, -8.1142e-01,  8.1981e-01],\n",
            "        [ 3.9858e-01, -1.8075e+00,  2.1736e-01, -2.6586e-01,  1.3600e+00,\n",
            "         -1.6298e-02, -1.1187e+00,  1.1629e+00],\n",
            "        [-7.9552e-01, -6.1419e-01, -3.4272e-01, -2.1173e-01, -8.7453e-01,\n",
            "          3.2127e-02,  1.4758e-01,  8.3897e-02],\n",
            "        [ 1.6846e-01,  4.2003e-01,  5.0807e-02, -3.4146e-01, -1.2448e-01,\n",
            "         -1.5985e-02, -8.6729e-01,  8.0489e-01]]), tensor([[[0.7080]],\n",
            "\n",
            "        [[0.7820]],\n",
            "\n",
            "        [[0.5790]],\n",
            "\n",
            "        [[1.0080]],\n",
            "\n",
            "        [[1.0420]],\n",
            "\n",
            "        [[0.6230]],\n",
            "\n",
            "        [[3.8040]],\n",
            "\n",
            "        [[2.7200]],\n",
            "\n",
            "        [[4.6990]],\n",
            "\n",
            "        [[0.8960]],\n",
            "\n",
            "        [[2.5180]],\n",
            "\n",
            "        [[1.1800]],\n",
            "\n",
            "        [[1.1620]],\n",
            "\n",
            "        [[1.2690]],\n",
            "\n",
            "        [[1.8720]],\n",
            "\n",
            "        [[2.0580]],\n",
            "\n",
            "        [[0.4880]],\n",
            "\n",
            "        [[1.2620]],\n",
            "\n",
            "        [[1.0270]],\n",
            "\n",
            "        [[5.0000]],\n",
            "\n",
            "        [[1.0440]],\n",
            "\n",
            "        [[4.1710]],\n",
            "\n",
            "        [[1.8800]],\n",
            "\n",
            "        [[3.4500]],\n",
            "\n",
            "        [[2.8420]],\n",
            "\n",
            "        [[0.5350]],\n",
            "\n",
            "        [[3.1300]],\n",
            "\n",
            "        [[2.0500]],\n",
            "\n",
            "        [[0.4750]],\n",
            "\n",
            "        [[2.2420]]])]\n"
          ]
        }
      ]
    },
    {
      "cell_type": "markdown",
      "source": [
        "**3. Написать архитектуру сети, которая предсказывает стоимость недвижимости. Сеть должна включать BatchNorm слои и Dropout (или НЕ включать, но нужно обосновать)**"
      ],
      "metadata": {
        "id": "1yS4tj3jiab3"
      }
    },
    {
      "cell_type": "code",
      "source": [
        "# создадим архитектуру сети\n",
        "\n",
        "class Net(nn.Module):\n",
        "    def __init__(self, input_dim, hidden_dim, output_dim):\n",
        "        super().__init__()\n",
        "        self.fc1 = nn.Linear(input_dim, 3*hidden_dim)\n",
        "        self.relu = nn.ReLU()\n",
        "        self.dp = nn.Dropout(0.1)\n",
        "        self.bn = nn.BatchNorm1d(3*hidden_dim)\n",
        "        self.fc2 = nn.Linear(3*hidden_dim, output_dim)\n",
        "        \n",
        "        \n",
        "    def forward(self, x):\n",
        "        x = self.fc1(x)\n",
        "        x = self.relu(x)\n",
        "        x = self.dp(x)\n",
        "        x = self.bn(x)\n",
        "        x = self.fc2(x)\n",
        "        return x\n",
        "\n",
        "\n",
        "    def predict(self, x):\n",
        "        x = self.fc1(x)\n",
        "        x = self.relu(x)\n",
        "        x = self.dp(x)\n",
        "        x = self.bn(x)\n",
        "        x = self.fc2(x)\n",
        "        return x"
      ],
      "metadata": {
        "id": "07fvU3TSqvY5"
      },
      "execution_count": 8,
      "outputs": []
    },
    {
      "cell_type": "code",
      "source": [
        "INPUT_DIMENSION = len(data_train[0][0])\n",
        "HIDDEN_DIMENSION = 100\n",
        "OUTPUT_DIMENSION = 1"
      ],
      "metadata": {
        "id": "rCBTOfj-f6Dd"
      },
      "execution_count": 9,
      "outputs": []
    },
    {
      "cell_type": "code",
      "source": [
        "# print(torch.seed())\n",
        "torch.manual_seed(11340019636634753458)\n",
        "net = Net(INPUT_DIMENSION, HIDDEN_DIMENSION, OUTPUT_DIMENSION)\n",
        "print(net)"
      ],
      "metadata": {
        "colab": {
          "base_uri": "https://localhost:8080/"
        },
        "id": "-eLAf-p1qvcc",
        "outputId": "0a63c070-46f6-4ca5-c89b-3b91ae821177"
      },
      "execution_count": 10,
      "outputs": [
        {
          "output_type": "stream",
          "name": "stdout",
          "text": [
            "Net(\n",
            "  (fc1): Linear(in_features=8, out_features=300, bias=True)\n",
            "  (relu): ReLU()\n",
            "  (dp): Dropout(p=0.1, inplace=False)\n",
            "  (bn): BatchNorm1d(300, eps=1e-05, momentum=0.1, affine=True, track_running_stats=True)\n",
            "  (fc2): Linear(in_features=300, out_features=1, bias=True)\n",
            ")\n"
          ]
        }
      ]
    },
    {
      "cell_type": "code",
      "source": [
        "net.fc1.weight[0][:5]"
      ],
      "metadata": {
        "colab": {
          "base_uri": "https://localhost:8080/"
        },
        "id": "neQev0q2zkPo",
        "outputId": "058991c9-cc36-4669-a46d-9a835883aa50"
      },
      "execution_count": 11,
      "outputs": [
        {
          "output_type": "execute_result",
          "data": {
            "text/plain": [
              "tensor([-0.2354,  0.0023, -0.0441, -0.0024, -0.0438], grad_fn=<SliceBackward0>)"
            ]
          },
          "metadata": {},
          "execution_count": 11
        }
      ]
    },
    {
      "cell_type": "code",
      "source": [
        "torch.initial_seed()"
      ],
      "metadata": {
        "colab": {
          "base_uri": "https://localhost:8080/"
        },
        "id": "IxpPHHHIzm5m",
        "outputId": "9189244a-7188-45fb-ddc0-844964a8e0c7"
      },
      "execution_count": 12,
      "outputs": [
        {
          "output_type": "execute_result",
          "data": {
            "text/plain": [
              "11340019636634753458"
            ]
          },
          "metadata": {},
          "execution_count": 12
        }
      ]
    },
    {
      "cell_type": "code",
      "source": [
        "# зададим оптимизатор и критерий\n",
        "# optimizer = torch.optim.SGD(net.parameters(), lr=5e-3)\n",
        "# optimizer = torch.optim.Adam(net.parameters(), lr=1e-4)\n",
        "optimizer = torch.optim.RMSprop(net.parameters(), lr=1e-4)\n",
        "criterion = nn.MSELoss()"
      ],
      "metadata": {
        "id": "gLRUZkDCu0Gl"
      },
      "execution_count": 13,
      "outputs": []
    },
    {
      "cell_type": "code",
      "source": [
        "# обучим модель\n",
        "\n",
        "num_epochs = 3\n",
        "\n",
        "for epoch in range(num_epochs):  \n",
        "    running_loss, running_items = 0.0, 0.0\n",
        "    for i, data in enumerate(data_train_loader):\n",
        "        inputs, labels = data[0], data[1]\n",
        "        labels = labels.reshape(-1, 1)\n",
        "\n",
        "        # обнуляем градиент\n",
        "        optimizer.zero_grad()\n",
        "\n",
        "        outputs = net(inputs)\n",
        "        loss = criterion(outputs, labels)\n",
        "        loss.backward()\n",
        "        optimizer.step()\n",
        "\n",
        "        # выводим статистику о процессе обучения\n",
        "        running_loss += loss.item()\n",
        "        running_items += len(labels)\n",
        "\n",
        "        if i % 300 == 0:    # печатаем каждые 300 mini-batches\n",
        "            net.eval()\n",
        "            true_labels = np.array([labels[j][0] for j in range(len(labels))])\n",
        "            pred_labels = np.array([outputs.detach().numpy()[j][0] for j in range(len(outputs))])\n",
        "\n",
        "            print(f'Epoch [{epoch + 1}/{num_epochs}]. ' \\\n",
        "                  f'Step [{i + 1}/{len(data_train_loader)}]. ' \\\n",
        "                  f'Loss: {running_loss / running_items:.3f}. ' \\\n",
        "                  f'R2: {r2_score(true_labels, pred_labels):.3f}', end='. ')\n",
        "\n",
        "            test_running_total = 0.0\n",
        "            for i, data in enumerate(data_test_loader):            \n",
        "                 test_outputs = net(data[0])\n",
        "                 test_labels = data[1].reshape(-1, 1)\n",
        "                 test_running_total += len(data[1])\n",
        "                 \n",
        "                 test_true_labels = np.array([test_labels[j][0] for j in range(len(test_labels))])\n",
        "                 test_pred_labels = np.array([test_outputs.detach().numpy()[j][0] for j in range(len(test_outputs))])\n",
        "            \n",
        "            \n",
        "            print(f'Test R2: {r2_score(test_true_labels, test_pred_labels):.3f}')\n",
        "            net.train()\n",
        "  \n",
        "        \n",
        "print('Training is finished!')"
      ],
      "metadata": {
        "colab": {
          "base_uri": "https://localhost:8080/"
        },
        "id": "wktk3wdmu0Jh",
        "outputId": "42358817-5636-4cfc-cfb3-261862712f12"
      },
      "execution_count": 14,
      "outputs": [
        {
          "output_type": "stream",
          "name": "stdout",
          "text": [
            "Epoch [1/3]. Step [1/516]. Loss: 0.200. R2: -3.634. Test R2: -3.917\n",
            "Epoch [1/3]. Step [301/516]. Loss: 0.132. R2: -2.817. Test R2: -1.037\n",
            "Epoch [2/3]. Step [1/516]. Loss: 0.036. R2: -0.856. Test R2: -0.245\n",
            "Epoch [2/3]. Step [301/516]. Loss: 0.048. R2: 0.209. Test R2: 0.030\n",
            "Epoch [3/3]. Step [1/516]. Loss: 0.028. R2: 0.389. Test R2: 0.350\n",
            "Epoch [3/3]. Step [301/516]. Loss: 0.023. R2: 0.153. Test R2: 0.719\n",
            "Training is finished!\n"
          ]
        }
      ]
    },
    {
      "cell_type": "code",
      "source": [
        "# посмотрим результаты на тесте\n",
        "net.eval()\n",
        "data_iter = iter(data_test_loader)\n",
        "test_samples, test_labels = data_iter.next()"
      ],
      "metadata": {
        "id": "m7vTKfDoHv8l"
      },
      "execution_count": 15,
      "outputs": []
    },
    {
      "cell_type": "code",
      "source": [
        "# делаем предсказания\n",
        "predictions = net.predict(test_samples)\n",
        "# predictions"
      ],
      "metadata": {
        "id": "04ytgj4hu9gA"
      },
      "execution_count": 16,
      "outputs": []
    },
    {
      "cell_type": "code",
      "source": [
        "# формируем списки исходных и предсказанных значений\n",
        "test_true_labels = np.array([test_labels[j][0][0] for j in range(len(test_labels))])\n",
        "predictions_labels = np.array([predictions.detach().numpy()[j][0] for j in range(len(test_labels))])\n",
        "\n",
        "print(test_true_labels[:5])\n",
        "print(predictions_labels[:5])"
      ],
      "metadata": {
        "colab": {
          "base_uri": "https://localhost:8080/"
        },
        "id": "W3yezZdsu9jH",
        "outputId": "e323be39-65bd-46dc-f9f3-47e71e86b14f"
      },
      "execution_count": 47,
      "outputs": [
        {
          "output_type": "stream",
          "name": "stdout",
          "text": [
            "[2.583 1.158 1.418 4.5   1.403]\n",
            "[ 2.5155165   2.08492     1.4995068   3.7987003  -0.04628997]\n"
          ]
        }
      ]
    },
    {
      "cell_type": "code",
      "source": [
        "# смотрим метрику \n",
        "R2 = r2_score(test_true_labels, predictions_labels)\n",
        "print(R2)"
      ],
      "metadata": {
        "colab": {
          "base_uri": "https://localhost:8080/"
        },
        "id": "ghL4qLZDk4k_",
        "outputId": "aca03208-7e69-43c9-876c-a11fa968edb9"
      },
      "execution_count": 18,
      "outputs": [
        {
          "output_type": "stream",
          "name": "stdout",
          "text": [
            "0.7209921358083264\n"
          ]
        }
      ]
    },
    {
      "cell_type": "code",
      "source": [
        "# посмотрим на график\n",
        "plt.plot(range(len(test_true_labels)), test_true_labels, label='test')\n",
        "plt.scatter(range(len(predictions_labels)), predictions_labels, c='red', label='pred')\n",
        "plt.title('Compare TRUE_TEST_LABELS and PREDICTIONS')\n",
        "plt.legend(loc='best')\n",
        "plt.show()"
      ],
      "metadata": {
        "colab": {
          "base_uri": "https://localhost:8080/",
          "height": 362
        },
        "id": "t2KhHLUmu0M7",
        "outputId": "118e3771-7443-4678-bb56-6f900ce17212"
      },
      "execution_count": 48,
      "outputs": [
        {
          "output_type": "display_data",
          "data": {
            "text/plain": [
              "<Figure size 576x396 with 1 Axes>"
            ],
            "image/png": "[encoded data removed]"
          },
          "metadata": {}
        }
      ]
    },
    {
      "cell_type": "code",
      "source": [
        "# стандартный способ демонстрации качества предсказания регрессии\n",
        "plt.plot(test_true_labels, predictions_labels, 'ro')\n",
        "plt.title('Quality of predictions')\n",
        "plt.show()"
      ],
      "metadata": {
        "colab": {
          "base_uri": "https://localhost:8080/",
          "height": 362
        },
        "id": "KorlLlrZ8Hna",
        "outputId": "4073fa22-3604-4526-da37-9805fd3041e9"
      },
      "execution_count": 51,
      "outputs": [
        {
          "output_type": "display_data",
          "data": {
            "text/plain": [
              "<Figure size 576x396 with 1 Axes>"
            ],
            "image/png": "[encoded data removed]"
          },
          "metadata": {}
        }
      ]
    },
    {
      "cell_type": "markdown",
      "source": [
        "**4. Сравните сходимость Adam, RMSProp и SGD, сделайте вывод по качеству работы модели**"
      ],
      "metadata": {
        "id": "33xb4uiv2oi8"
      }
    },
    {
      "cell_type": "code",
      "source": [
        "# R2_SGD = np.copy(R2)\n",
        "# result_table.loc[0] = ['SGD', R2_SGD]\n",
        "\n",
        "# R2_Adam = np.copy(R2)\n",
        "# result_table.loc[1] = ['Adam', R2_Adam]\n",
        "\n",
        "R2_RMSProp = np.copy(R2)\n",
        "result_table.loc[2] = ['RMSProp', R2_RMSProp]\n",
        "\n",
        "result_table"
      ],
      "metadata": {
        "id": "Pv-V09qksUlJ",
        "colab": {
          "base_uri": "https://localhost:8080/",
          "height": 81
        },
        "outputId": "dc62d629-8d8c-4a4c-a8dd-b43bd74e7f90"
      },
      "execution_count": 20,
      "outputs": [
        {
          "output_type": "execute_result",
          "data": {
            "text/plain": [
              "  OptimazerName                  R2\n",
              "2       RMSProp  0.7209921358083264"
            ],
            "text/html": [
              "\n",
              "  <div id=\"df-eaef608e-ba1e-4e11-932a-b76369fa82ff\">\n",
              "    <div class=\"colab-df-container\">\n",
              "      <div>\n",
              "<style scoped>\n",
              "    .dataframe tbody tr th:only-of-type {\n",
              "        vertical-align: middle;\n",
              "    }\n",
              "\n",
              "    .dataframe tbody tr th {\n",
              "        vertical-align: top;\n",
              "    }\n",
              "\n",
              "    .dataframe thead th {\n",
              "        text-align: right;\n",
              "    }\n",
              "</style>\n",
              "<table border=\"1\" class=\"dataframe\">\n",
              "  <thead>\n",
              "    <tr style=\"text-align: right;\">\n",
              "      <th></th>\n",
              "      <th>OptimazerName</th>\n",
              "      <th>R2</th>\n",
              "    </tr>\n",
              "  </thead>\n",
              "  <tbody>\n",
              "    <tr>\n",
              "      <th>2</th>\n",
              "      <td>RMSProp</td>\n",
              "      <td>0.7209921358083264</td>\n",
              "    </tr>\n",
              "  </tbody>\n",
              "</table>\n",
              "</div>\n",
              "      <button class=\"colab-df-convert\" onclick=\"convertToInteractive('df-eaef608e-ba1e-4e11-932a-b76369fa82ff')\"\n",
              "              title=\"Convert this dataframe to an interactive table.\"\n",
              "              style=\"display:none;\">\n",
              "        \n",
              "  <svg xmlns=\"http://www.w3.org/2000/svg\" height=\"24px\"viewBox=\"0 0 24 24\"\n",
              "       width=\"24px\">\n",
              "    <path d=\"M0 0h24v24H0V0z\" fill=\"none\"/>\n",
              "    <path d=\"M18.56 5.44l.94 2.06.94-2.06 2.06-.94-2.06-.94-.94-2.06-.94 2.06-2.06.94zm-11 1L8.5 8.5l.94-2.06 2.06-.94-2.06-.94L8.5 2.5l-.94 2.06-2.06.94zm10 10l.94 2.06.94-2.06 2.06-.94-2.06-.94-.94-2.06-.94 2.06-2.06.94z\"/><path d=\"M17.41 7.96l-1.37-1.37c-.4-.4-.92-.59-1.43-.59-.52 0-1.04.2-1.43.59L10.3 9.45l-7.72 7.72c-.78.78-.78 2.05 0 2.83L4 21.41c.39.39.9.59 1.41.59.51 0 1.02-.2 1.41-.59l7.78-7.78 2.81-2.81c.8-.78.8-2.07 0-2.86zM5.41 20L4 18.59l7.72-7.72 1.47 1.35L5.41 20z\"/>\n",
              "  </svg>\n",
              "      </button>\n",
              "      \n",
              "  <style>\n",
              "    .colab-df-container {\n",
              "      display:flex;\n",
              "      flex-wrap:wrap;\n",
              "      gap: 12px;\n",
              "    }\n",
              "\n",
              "    .colab-df-convert {\n",
              "      background-color: #E8F0FE;\n",
              "      border: none;\n",
              "      border-radius: 50%;\n",
              "      cursor: pointer;\n",
              "      display: none;\n",
              "      fill: #1967D2;\n",
              "      height: 32px;\n",
              "      padding: 0 0 0 0;\n",
              "      width: 32px;\n",
              "    }\n",
              "\n",
              "    .colab-df-convert:hover {\n",
              "      background-color: #E2EBFA;\n",
              "      box-shadow: 0px 1px 2px rgba(60, 64, 67, 0.3), 0px 1px 3px 1px rgba(60, 64, 67, 0.15);\n",
              "      fill: #174EA6;\n",
              "    }\n",
              "\n",
              "    [theme=dark] .colab-df-convert {\n",
              "      background-color: #3B4455;\n",
              "      fill: #D2E3FC;\n",
              "    }\n",
              "\n",
              "    [theme=dark] .colab-df-convert:hover {\n",
              "      background-color: #434B5C;\n",
              "      box-shadow: 0px 1px 3px 1px rgba(0, 0, 0, 0.15);\n",
              "      filter: drop-shadow(0px 1px 2px rgba(0, 0, 0, 0.3));\n",
              "      fill: #FFFFFF;\n",
              "    }\n",
              "  </style>\n",
              "\n",
              "      <script>\n",
              "        const buttonEl =\n",
              "          document.querySelector('#df-eaef608e-ba1e-4e11-932a-b76369fa82ff button.colab-df-convert');\n",
              "        buttonEl.style.display =\n",
              "          google.colab.kernel.accessAllowed ? 'block' : 'none';\n",
              "\n",
              "        async function convertToInteractive(key) {\n",
              "          const element = document.querySelector('#df-eaef608e-ba1e-4e11-932a-b76369fa82ff');\n",
              "          const dataTable =\n",
              "            await google.colab.kernel.invokeFunction('convertToInteractive',\n",
              "                                                     [key], {});\n",
              "          if (!dataTable) return;\n",
              "\n",
              "          const docLinkHtml = 'Like what you see? Visit the ' +\n",
              "            '<a target=\"_blank\" href=https://colab.research.google.com/notebooks/data_table.ipynb>data table notebook</a>'\n",
              "            + ' to learn more about interactive tables.';\n",
              "          element.innerHTML = '';\n",
              "          dataTable['output_type'] = 'display_data';\n",
              "          await google.colab.output.renderOutput(dataTable, element);\n",
              "          const docLink = document.createElement('div');\n",
              "          docLink.innerHTML = docLinkHtml;\n",
              "          element.appendChild(docLink);\n",
              "        }\n",
              "      </script>\n",
              "    </div>\n",
              "  </div>\n",
              "  "
            ]
          },
          "metadata": {},
          "execution_count": 20
        }
      ]
    },
    {
      "cell_type": "markdown",
      "source": [
        "### **Вывод:**\n",
        "\n",
        "При прочих равных параметрах модели наилучшим образом сошелся оптимизатор **SGD** (lr=5e-3). При этом значение шага понадобилось сделать меньше, чем у оптимизаторов **Adam** и **RMSprop** (lr=1e-4).\n",
        "В целом модель находит общие закономерности, но достичь идеально точных значений довольно сложно."
      ],
      "metadata": {
        "id": "EmJsiXnsES5L"
      }
    }
  ]
}