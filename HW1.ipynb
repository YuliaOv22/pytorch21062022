{
  "cells": [
    {
      "cell_type": "code",
      "execution_count": null,
      "metadata": {
        "id": "_CNZn_3CofVO"
      },
      "outputs": [],
      "source": [
        "import numpy as np\n",
        "import random\n",
        "import torch"
      ]
    },
    {
      "cell_type": "code",
      "execution_count": null,
      "metadata": {
        "id": "QGYTKAxeofVR"
      },
      "outputs": [],
      "source": [
        "# 1. Создайте случайный FloatTensor размера 3x4x5"
      ]
    },
    {
      "cell_type": "code",
      "source": [
        "my_first_tensor = torch.rand(3, 4, 5)  # или принудительно torch.FloatTensor()\n",
        "my_first_tensor"
      ],
      "metadata": {
        "colab": {
          "base_uri": "https://localhost:8080/"
        },
        "id": "3xgswIjiYkrn",
        "outputId": "d6be48b8-eb89-4c60-db89-1f2a9b93f443"
      },
      "execution_count": null,
      "outputs": [
        {
          "output_type": "execute_result",
          "data": {
            "text/plain": [
              "tensor([[[2.5520e-01, 2.0596e-01, 8.1774e-01, 6.0871e-02, 5.7741e-01],\n",
              "         [6.2457e-01, 8.7041e-01, 1.9583e-01, 4.0723e-01, 2.8176e-01],\n",
              "         [7.2321e-01, 3.1396e-01, 4.3009e-01, 4.3767e-01, 5.0496e-01],\n",
              "         [3.9120e-01, 7.5441e-01, 3.5368e-01, 5.6801e-01, 4.5781e-01]],\n",
              "\n",
              "        [[9.4811e-01, 9.5478e-01, 7.4587e-01, 2.6686e-01, 6.6083e-01],\n",
              "         [4.6966e-01, 5.8996e-01, 5.4560e-02, 3.5448e-01, 1.6377e-01],\n",
              "         [4.9065e-01, 1.8273e-01, 2.2838e-01, 1.7614e-01, 2.2173e-03],\n",
              "         [8.1601e-01, 1.3909e-02, 9.1965e-01, 6.2150e-01, 6.7893e-01]],\n",
              "\n",
              "        [[8.6124e-01, 3.6650e-01, 4.4423e-01, 6.4784e-02, 9.7211e-01],\n",
              "         [4.1947e-01, 4.6241e-01, 1.0646e-01, 8.3565e-01, 6.0470e-01],\n",
              "         [8.6808e-01, 6.1220e-01, 3.3889e-01, 1.2296e-04, 9.7576e-01],\n",
              "         [3.7902e-01, 4.2646e-02, 6.9354e-01, 2.7102e-01, 2.6166e-01]]])"
            ]
          },
          "metadata": {},
          "execution_count": 83
        }
      ]
    },
    {
      "cell_type": "code",
      "execution_count": null,
      "metadata": {
        "id": "7GV_q8DdofVV"
      },
      "outputs": [],
      "source": [
        "# 2. Выведите его форму (shape)"
      ]
    },
    {
      "cell_type": "code",
      "source": [
        "my_first_tensor.size()"
      ],
      "metadata": {
        "colab": {
          "base_uri": "https://localhost:8080/"
        },
        "id": "e2RLpJwTYzSK",
        "outputId": "9bd9b9d4-41c2-438c-8644-95ea52e917a6"
      },
      "execution_count": null,
      "outputs": [
        {
          "output_type": "execute_result",
          "data": {
            "text/plain": [
              "torch.Size([3, 4, 5])"
            ]
          },
          "metadata": {},
          "execution_count": 85
        }
      ]
    },
    {
      "cell_type": "code",
      "execution_count": null,
      "metadata": {
        "id": "f1OTy65FofVX"
      },
      "outputs": [],
      "source": [
        "# 3. Приведите его к форме 6х10"
      ]
    },
    {
      "cell_type": "code",
      "source": [
        "my_first_tensor = my_first_tensor.reshape([6, 10])\n",
        "my_first_tensor"
      ],
      "metadata": {
        "colab": {
          "base_uri": "https://localhost:8080/"
        },
        "id": "0SWOaH8_ZIg5",
        "outputId": "bb6a20d3-e485-4e80-dc65-363d0aa660e0"
      },
      "execution_count": null,
      "outputs": [
        {
          "output_type": "execute_result",
          "data": {
            "text/plain": [
              "tensor([[2.5520e-01, 2.0596e-01, 8.1774e-01, 6.0871e-02, 5.7741e-01, 6.2457e-01,\n",
              "         8.7041e-01, 1.9583e-01, 4.0723e-01, 2.8176e-01],\n",
              "        [7.2321e-01, 3.1396e-01, 4.3009e-01, 4.3767e-01, 5.0496e-01, 3.9120e-01,\n",
              "         7.5441e-01, 3.5368e-01, 5.6801e-01, 4.5781e-01],\n",
              "        [9.4811e-01, 9.5478e-01, 7.4587e-01, 2.6686e-01, 6.6083e-01, 4.6966e-01,\n",
              "         5.8996e-01, 5.4560e-02, 3.5448e-01, 1.6377e-01],\n",
              "        [4.9065e-01, 1.8273e-01, 2.2838e-01, 1.7614e-01, 2.2173e-03, 8.1601e-01,\n",
              "         1.3909e-02, 9.1965e-01, 6.2150e-01, 6.7893e-01],\n",
              "        [8.6124e-01, 3.6650e-01, 4.4423e-01, 6.4784e-02, 9.7211e-01, 4.1947e-01,\n",
              "         4.6241e-01, 1.0646e-01, 8.3565e-01, 6.0470e-01],\n",
              "        [8.6808e-01, 6.1220e-01, 3.3889e-01, 1.2296e-04, 9.7576e-01, 3.7902e-01,\n",
              "         4.2646e-02, 6.9354e-01, 2.7102e-01, 2.6166e-01]])"
            ]
          },
          "metadata": {},
          "execution_count": 87
        }
      ]
    },
    {
      "cell_type": "code",
      "source": [
        "my_first_tensor.size()"
      ],
      "metadata": {
        "colab": {
          "base_uri": "https://localhost:8080/"
        },
        "id": "fiB4ds1Fa83E",
        "outputId": "f7b9d11e-edb2-4e93-dcfb-20f398339524"
      },
      "execution_count": null,
      "outputs": [
        {
          "output_type": "execute_result",
          "data": {
            "text/plain": [
              "torch.Size([6, 10])"
            ]
          },
          "metadata": {},
          "execution_count": 88
        }
      ]
    },
    {
      "cell_type": "code",
      "execution_count": null,
      "metadata": {
        "id": "BEVOv9_TofVe"
      },
      "outputs": [],
      "source": [
        "# 4. Создайте случайный IntTensor размера 10"
      ]
    },
    {
      "cell_type": "code",
      "source": [
        "my_second_tensor = torch.randint(5, (10,), dtype=torch.int32)\n",
        "my_second_tensor"
      ],
      "metadata": {
        "colab": {
          "base_uri": "https://localhost:8080/"
        },
        "id": "q5HIT7DrZhc6",
        "outputId": "e4fee069-32cb-4fb6-a5f1-bf7848564022"
      },
      "execution_count": null,
      "outputs": [
        {
          "output_type": "execute_result",
          "data": {
            "text/plain": [
              "tensor([3, 2, 1, 2, 3, 3, 1, 0, 4, 2], dtype=torch.int32)"
            ]
          },
          "metadata": {},
          "execution_count": 90
        }
      ]
    },
    {
      "cell_type": "code",
      "source": [
        "print(f'Shape: {my_second_tensor.size()}')\n",
        "print(f'Type: {my_second_tensor.type()}')"
      ],
      "metadata": {
        "colab": {
          "base_uri": "https://localhost:8080/"
        },
        "id": "q1lIvsGYa_sJ",
        "outputId": "f78aeb8b-04e8-4d6b-d455-bfaa4f9b5750"
      },
      "execution_count": null,
      "outputs": [
        {
          "output_type": "stream",
          "name": "stdout",
          "text": [
            "Shape: torch.Size([10])\n",
            "Type: torch.IntTensor\n"
          ]
        }
      ]
    },
    {
      "cell_type": "code",
      "source": [
        "# 5. Умножьте созданный FloatTensor на созданный IntTensor поэлементно"
      ],
      "metadata": {
        "id": "TAX3DUiSa07K"
      },
      "execution_count": null,
      "outputs": []
    },
    {
      "cell_type": "code",
      "source": [
        "multiply = torch.mul(my_first_tensor, my_second_tensor)  # или my_first_tensor*my_second_tensor // или my_first_tensor.mul(my_second_tensor)\n",
        "multiply"
      ],
      "metadata": {
        "colab": {
          "base_uri": "https://localhost:8080/"
        },
        "id": "XdC95kYrba0Q",
        "outputId": "8d036758-915d-47c7-eda4-9f85e775a820"
      },
      "execution_count": null,
      "outputs": [
        {
          "output_type": "execute_result",
          "data": {
            "text/plain": [
              "tensor([[7.6561e-01, 4.1192e-01, 8.1774e-01, 1.2174e-01, 1.7322e+00, 1.8737e+00,\n",
              "         8.7041e-01, 0.0000e+00, 1.6289e+00, 5.6352e-01],\n",
              "        [2.1696e+00, 6.2793e-01, 4.3009e-01, 8.7535e-01, 1.5149e+00, 1.1736e+00,\n",
              "         7.5441e-01, 0.0000e+00, 2.2720e+00, 9.1562e-01],\n",
              "        [2.8443e+00, 1.9096e+00, 7.4587e-01, 5.3371e-01, 1.9825e+00, 1.4090e+00,\n",
              "         5.8996e-01, 0.0000e+00, 1.4179e+00, 3.2753e-01],\n",
              "        [1.4719e+00, 3.6547e-01, 2.2838e-01, 3.5228e-01, 6.6519e-03, 2.4480e+00,\n",
              "         1.3909e-02, 0.0000e+00, 2.4860e+00, 1.3579e+00],\n",
              "        [2.5837e+00, 7.3299e-01, 4.4423e-01, 1.2957e-01, 2.9163e+00, 1.2584e+00,\n",
              "         4.6241e-01, 0.0000e+00, 3.3426e+00, 1.2094e+00],\n",
              "        [2.6042e+00, 1.2244e+00, 3.3889e-01, 2.4593e-04, 2.9273e+00, 1.1370e+00,\n",
              "         4.2646e-02, 0.0000e+00, 1.0841e+00, 5.2333e-01]])"
            ]
          },
          "metadata": {},
          "execution_count": 93
        }
      ]
    },
    {
      "cell_type": "code",
      "execution_count": null,
      "metadata": {
        "id": "eUxdWlQZofVi"
      },
      "outputs": [],
      "source": [
        "# 6. Умножьте тензор матрично на себя, чтобы результат был размерности 6x6\n",
        "# Подсказка: .dot может не подойти"
      ]
    },
    {
      "cell_type": "code",
      "source": [
        "matmultiply = torch.matmul(multiply, multiply.T)\n",
        "matmultiply"
      ],
      "metadata": {
        "colab": {
          "base_uri": "https://localhost:8080/"
        },
        "id": "PlG3TuwYcMZa",
        "outputId": "f3d47eb2-acb6-4acd-9a6e-a1726a0e8f52"
      },
      "execution_count": null,
      "outputs": [
        {
          "output_type": "execute_result",
          "data": {
            "text/plain": [
              "tensor([[11.6793, 12.0747, 12.7210, 10.9323, 16.5976, 12.0744],\n",
              "        [12.0747, 16.2946, 16.7815, 13.6148, 21.3159, 15.3083],\n",
              "        [12.7210, 16.7815, 20.9592, 12.6832, 22.1123, 19.1374],\n",
              "        [10.9323, 13.6148, 12.6832, 16.4935, 17.2764, 10.5674],\n",
              "        [16.5976, 21.3159, 22.1123, 17.2764, 30.3651, 22.0207],\n",
              "        [12.0744, 15.3083, 19.1374, 10.5674, 22.0207, 19.7088]])"
            ]
          },
          "metadata": {},
          "execution_count": 95
        }
      ]
    },
    {
      "cell_type": "code",
      "source": [
        "matmultiply.size()"
      ],
      "metadata": {
        "colab": {
          "base_uri": "https://localhost:8080/"
        },
        "id": "Oxdwi3TueIph",
        "outputId": "4a353b6d-fd35-4207-aba2-214275debd89"
      },
      "execution_count": null,
      "outputs": [
        {
          "output_type": "execute_result",
          "data": {
            "text/plain": [
              "torch.Size([6, 6])"
            ]
          },
          "metadata": {},
          "execution_count": 96
        }
      ]
    },
    {
      "cell_type": "code",
      "execution_count": null,
      "metadata": {
        "id": "u3V6CsNkofVj"
      },
      "outputs": [],
      "source": [
        "# 7. Посчитайте производную функции y = x**3 + z - 75t в точке (1, 0.5, 2)"
      ]
    },
    {
      "cell_type": "code",
      "source": [
        "x = torch.tensor(1.0, requires_grad=True)\n",
        "z = torch.tensor(0.5, requires_grad=True)\n",
        "t = torch.tensor(2.0, requires_grad=True)\n",
        "\n",
        "y = torch.pow(x, 3) + z - 75*t\n",
        "y.backward()\n",
        "\n",
        "print(f'({x.grad}, {z.grad}, {t.grad})')\n"
      ],
      "metadata": {
        "colab": {
          "base_uri": "https://localhost:8080/"
        },
        "id": "AEIF95fHPbN4",
        "outputId": "23e89552-2aa3-4f9e-b0ad-ff044e342442"
      },
      "execution_count": null,
      "outputs": [
        {
          "output_type": "stream",
          "name": "stdout",
          "text": [
            "(3.0, 1.0, -75.0)\n"
          ]
        }
      ]
    },
    {
      "cell_type": "code",
      "execution_count": null,
      "metadata": {
        "id": "FzH6QkyxofVm"
      },
      "outputs": [],
      "source": [
        "# 8. Создайте единичный тензор размера 5x6"
      ]
    },
    {
      "cell_type": "code",
      "source": [
        "ones_tensor = torch.ones(5, 6)\n",
        "ones_tensor"
      ],
      "metadata": {
        "colab": {
          "base_uri": "https://localhost:8080/"
        },
        "id": "kjUyKZevhuL5",
        "outputId": "412964fb-8f4d-4490-f39f-2228dcac4bb6"
      },
      "execution_count": null,
      "outputs": [
        {
          "output_type": "execute_result",
          "data": {
            "text/plain": [
              "tensor([[1., 1., 1., 1., 1., 1.],\n",
              "        [1., 1., 1., 1., 1., 1.],\n",
              "        [1., 1., 1., 1., 1., 1.],\n",
              "        [1., 1., 1., 1., 1., 1.],\n",
              "        [1., 1., 1., 1., 1., 1.]])"
            ]
          },
          "metadata": {},
          "execution_count": 100
        }
      ]
    },
    {
      "cell_type": "code",
      "source": [
        "ones_tensor.size()"
      ],
      "metadata": {
        "colab": {
          "base_uri": "https://localhost:8080/"
        },
        "id": "TDhXPt9gh6ve",
        "outputId": "ce064a0c-2e03-452e-88b7-66d969991839"
      },
      "execution_count": null,
      "outputs": [
        {
          "output_type": "execute_result",
          "data": {
            "text/plain": [
              "torch.Size([5, 6])"
            ]
          },
          "metadata": {},
          "execution_count": 101
        }
      ]
    },
    {
      "cell_type": "code",
      "execution_count": null,
      "metadata": {
        "id": "z49ttvWPofVo"
      },
      "outputs": [],
      "source": [
        "# 9. Переведите его в формат numpy"
      ]
    },
    {
      "cell_type": "code",
      "source": [
        "ones_tensor = ones_tensor.numpy()\n",
        "ones_tensor"
      ],
      "metadata": {
        "colab": {
          "base_uri": "https://localhost:8080/"
        },
        "id": "v_9yf2D5h8_E",
        "outputId": "4108dd02-0c61-489d-f4ea-251bea916605"
      },
      "execution_count": null,
      "outputs": [
        {
          "output_type": "execute_result",
          "data": {
            "text/plain": [
              "array([[1., 1., 1., 1., 1., 1.],\n",
              "       [1., 1., 1., 1., 1., 1.],\n",
              "       [1., 1., 1., 1., 1., 1.],\n",
              "       [1., 1., 1., 1., 1., 1.],\n",
              "       [1., 1., 1., 1., 1., 1.]], dtype=float32)"
            ]
          },
          "metadata": {},
          "execution_count": 103
        }
      ]
    },
    {
      "cell_type": "code",
      "source": [
        "type(ones_tensor)"
      ],
      "metadata": {
        "colab": {
          "base_uri": "https://localhost:8080/"
        },
        "id": "HoUWYElUiLak",
        "outputId": "af26210d-2511-4435-b274-1faec27d105f"
      },
      "execution_count": null,
      "outputs": [
        {
          "output_type": "execute_result",
          "data": {
            "text/plain": [
              "numpy.ndarray"
            ]
          },
          "metadata": {},
          "execution_count": 104
        }
      ]
    }
  ],
  "metadata": {
    "kernelspec": {
      "display_name": "Python 3",
      "language": "python",
      "name": "python3"
    },
    "language_info": {
      "codemirror_mode": {
        "name": "ipython",
        "version": 3
      },
      "file_extension": ".py",
      "mimetype": "text/x-python",
      "name": "python",
      "nbconvert_exporter": "python",
      "pygments_lexer": "ipython3",
      "version": "3.7.4"
    },
    "colab": {
      "name": "HW1.ipynb",
      "provenance": [],
      "collapsed_sections": []
    }
  },
  "nbformat": 4,
  "nbformat_minor": 0
}