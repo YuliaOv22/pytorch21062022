{
 "cells": [
  {
   "cell_type": "markdown",
   "id": "76ffbc8b",
   "metadata": {
    "papermill": {
     "duration": 0.010998,
     "end_time": "2022-07-14T10:33:15.865111",
     "exception": false,
     "start_time": "2022-07-14T10:33:15.854113",
     "status": "completed"
    },
    "tags": []
   },
   "source": [
    "## Практическое задание"
   ]
  },
  {
   "cell_type": "markdown",
   "id": "27f17518",
   "metadata": {
    "papermill": {
     "duration": 0.009751,
     "end_time": "2022-07-14T10:33:15.885098",
     "exception": false,
     "start_time": "2022-07-14T10:33:15.875347",
     "status": "completed"
    },
    "tags": []
   },
   "source": [
    "1. Попробуйте обучить нейронную сеть с применением одномерных сверток для предсказания сентимента сообщений с твитера на примере https://www.kaggle.com/datasets/arkhoshghalb/twitter-sentiment-analysis-hatred-speech\n",
    "\n",
    "2. Опишите, какой результат вы получили? Что помогло вам улучшить ее точность?"
   ]
  },
  {
   "cell_type": "code",
   "execution_count": 1,
   "id": "eb7f614b",
   "metadata": {
    "_cell_guid": "b1076dfc-b9ad-4769-8c92-a6c4dae69d19",
    "_uuid": "8f2839f25d086af736a60e9eeb907d3b93b6e0e5",
    "execution": {
     "iopub.execute_input": "2022-07-14T10:33:15.907450Z",
     "iopub.status.busy": "2022-07-14T10:33:15.906348Z",
     "iopub.status.idle": "2022-07-14T10:33:32.456561Z",
     "shell.execute_reply": "2022-07-14T10:33:32.455368Z"
    },
    "papermill": {
     "duration": 16.564232,
     "end_time": "2022-07-14T10:33:32.459614",
     "exception": false,
     "start_time": "2022-07-14T10:33:15.895382",
     "status": "completed"
    },
    "tags": []
   },
   "outputs": [
    {
     "name": "stdout",
     "output_type": "stream",
     "text": [
      "Requirement already satisfied: stop-words in /opt/conda/lib/python3.7/site-packages (2018.7.23)\r\n",
      "Collecting pymorphy2\r\n",
      "  Downloading pymorphy2-0.9.1-py3-none-any.whl (55 kB)\r\n",
      "\u001b[2K     \u001b[90m━━━━━━━━━━━━━━━━━━━━━━━━━━━━━━━━━━━━━━━\u001b[0m \u001b[32m55.5/55.5 kB\u001b[0m \u001b[31m492.5 kB/s\u001b[0m eta \u001b[36m0:00:00\u001b[0m\r\n",
      "\u001b[?25hCollecting pymorphy2-dicts-ru<3.0,>=2.4\r\n",
      "  Downloading pymorphy2_dicts_ru-2.4.417127.4579844-py2.py3-none-any.whl (8.2 MB)\r\n",
      "\u001b[2K     \u001b[90m━━━━━━━━━━━━━━━━━━━━━━━━━━━━━━━━━━━━━━━━\u001b[0m \u001b[32m8.2/8.2 MB\u001b[0m \u001b[31m14.6 MB/s\u001b[0m eta \u001b[36m0:00:00\u001b[0m\r\n",
      "\u001b[?25hCollecting dawg-python>=0.7.1\r\n",
      "  Downloading DAWG_Python-0.7.2-py2.py3-none-any.whl (11 kB)\r\n",
      "Requirement already satisfied: docopt>=0.6 in /opt/conda/lib/python3.7/site-packages (from pymorphy2) (0.6.2)\r\n",
      "Installing collected packages: pymorphy2-dicts-ru, dawg-python, pymorphy2\r\n",
      "Successfully installed dawg-python-0.7.2 pymorphy2-0.9.1 pymorphy2-dicts-ru-2.4.417127.4579844\r\n",
      "\u001b[33mWARNING: Running pip as the 'root' user can result in broken permissions and conflicting behaviour with the system package manager. It is recommended to use a virtual environment instead: https://pip.pypa.io/warnings/venv\u001b[0m\u001b[33m\r\n",
      "\u001b[0m"
     ]
    }
   ],
   "source": [
    "import numpy as np\n",
    "import pandas as pd\n",
    "import matplotlib.pyplot as plt\n",
    "from sklearn.model_selection import train_test_split\n",
    "!pip install stop-words pymorphy2\n",
    "from string import punctuation\n",
    "from stop_words import get_stop_words\n",
    "from nltk.stem import WordNetLemmatizer, PorterStemmer\n",
    "from tqdm import tqdm \n",
    "import torch\n",
    "import torch.nn as nn\n",
    "import torch.nn.functional as F\n",
    "from torch.utils.data import DataLoader, Dataset\n",
    "import nltk\n",
    "from nltk.tokenize import word_tokenize\n",
    "from nltk.probability import FreqDist"
   ]
  },
  {
   "cell_type": "code",
   "execution_count": 2,
   "id": "57f68800",
   "metadata": {
    "execution": {
     "iopub.execute_input": "2022-07-14T10:33:32.484923Z",
     "iopub.status.busy": "2022-07-14T10:33:32.484262Z",
     "iopub.status.idle": "2022-07-14T10:33:32.493812Z",
     "shell.execute_reply": "2022-07-14T10:33:32.492637Z"
    },
    "papermill": {
     "duration": 0.024069,
     "end_time": "2022-07-14T10:33:32.495983",
     "exception": false,
     "start_time": "2022-07-14T10:33:32.471914",
     "status": "completed"
    },
    "tags": []
   },
   "outputs": [],
   "source": [
    "# вспомогательные функции\n",
    "\n",
    "# функция преобразования текста\n",
    "def preprocess_text(txt):\n",
    "    txt = str(txt)    \n",
    "    txt = ''.join(c for c in txt if c not in puncts)\n",
    "    txt = txt.lower()\n",
    "    txt = [stemmer.stem(word) for word in txt.split() if word not in sw]\n",
    "    txt = [lemmatizer.lemmatize(word) for word in txt]\n",
    "    return ' '.join(txt)\n",
    "\n",
    "\n",
    "# функция превращения текста в последовательность\n",
    "def text_to_sequence(text, maxlen):\n",
    "    result = []\n",
    "    tokens = word_tokenize(text.lower())\n",
    "    tokens_filtered = [word for word in tokens if word.isalnum()]\n",
    "    for word in tokens_filtered:\n",
    "        if word in vocabulary:\n",
    "            result.append(vocabulary[word])\n",
    "\n",
    "    padding = [0] * (maxlen-len(result))\n",
    "    return result[-maxlen:] + padding"
   ]
  },
  {
   "cell_type": "markdown",
   "id": "9c9a94cc",
   "metadata": {
    "papermill": {
     "duration": 0.011218,
     "end_time": "2022-07-14T10:33:32.518141",
     "exception": false,
     "start_time": "2022-07-14T10:33:32.506923",
     "status": "completed"
    },
    "tags": []
   },
   "source": [
    "## Загрузка данных"
   ]
  },
  {
   "cell_type": "code",
   "execution_count": 3,
   "id": "9ef0c451",
   "metadata": {
    "execution": {
     "iopub.execute_input": "2022-07-14T10:33:32.542933Z",
     "iopub.status.busy": "2022-07-14T10:33:32.542059Z",
     "iopub.status.idle": "2022-07-14T10:33:32.547140Z",
     "shell.execute_reply": "2022-07-14T10:33:32.546297Z"
    },
    "papermill": {
     "duration": 0.020007,
     "end_time": "2022-07-14T10:33:32.548986",
     "exception": false,
     "start_time": "2022-07-14T10:33:32.528979",
     "status": "completed"
    },
    "tags": []
   },
   "outputs": [],
   "source": [
    "# зададим параметры\n",
    "\n",
    "max_words = 3000\n",
    "max_len = 30\n",
    "num_classes = 1\n",
    "\n",
    "# обучение\n",
    "epochs = 10\n",
    "batch_size = 256\n",
    "print_batch_n = 100"
   ]
  },
  {
   "cell_type": "code",
   "execution_count": 4,
   "id": "30afb594",
   "metadata": {
    "execution": {
     "iopub.execute_input": "2022-07-14T10:33:32.572567Z",
     "iopub.status.busy": "2022-07-14T10:33:32.571752Z",
     "iopub.status.idle": "2022-07-14T10:33:32.785614Z",
     "shell.execute_reply": "2022-07-14T10:33:32.784637Z"
    },
    "papermill": {
     "duration": 0.227964,
     "end_time": "2022-07-14T10:33:32.787760",
     "exception": false,
     "start_time": "2022-07-14T10:33:32.559796",
     "status": "completed"
    },
    "tags": []
   },
   "outputs": [
    {
     "data": {
      "text/html": [
       "<div>\n",
       "<style scoped>\n",
       "    .dataframe tbody tr th:only-of-type {\n",
       "        vertical-align: middle;\n",
       "    }\n",
       "\n",
       "    .dataframe tbody tr th {\n",
       "        vertical-align: top;\n",
       "    }\n",
       "\n",
       "    .dataframe thead th {\n",
       "        text-align: right;\n",
       "    }\n",
       "</style>\n",
       "<table border=\"1\" class=\"dataframe\">\n",
       "  <thead>\n",
       "    <tr style=\"text-align: right;\">\n",
       "      <th></th>\n",
       "      <th>id</th>\n",
       "      <th>label</th>\n",
       "      <th>tweet</th>\n",
       "    </tr>\n",
       "  </thead>\n",
       "  <tbody>\n",
       "    <tr>\n",
       "      <th>0</th>\n",
       "      <td>1</td>\n",
       "      <td>0</td>\n",
       "      <td>@user when a father is dysfunctional and is s...</td>\n",
       "    </tr>\n",
       "    <tr>\n",
       "      <th>1</th>\n",
       "      <td>2</td>\n",
       "      <td>0</td>\n",
       "      <td>@user @user thanks for #lyft credit i can't us...</td>\n",
       "    </tr>\n",
       "    <tr>\n",
       "      <th>2</th>\n",
       "      <td>3</td>\n",
       "      <td>0</td>\n",
       "      <td>bihday your majesty</td>\n",
       "    </tr>\n",
       "    <tr>\n",
       "      <th>3</th>\n",
       "      <td>4</td>\n",
       "      <td>0</td>\n",
       "      <td>#model   i love u take with u all the time in ...</td>\n",
       "    </tr>\n",
       "    <tr>\n",
       "      <th>4</th>\n",
       "      <td>5</td>\n",
       "      <td>0</td>\n",
       "      <td>factsguide: society now    #motivation</td>\n",
       "    </tr>\n",
       "  </tbody>\n",
       "</table>\n",
       "</div>"
      ],
      "text/plain": [
       "   id  label                                              tweet\n",
       "0   1      0   @user when a father is dysfunctional and is s...\n",
       "1   2      0  @user @user thanks for #lyft credit i can't us...\n",
       "2   3      0                                bihday your majesty\n",
       "3   4      0  #model   i love u take with u all the time in ...\n",
       "4   5      0             factsguide: society now    #motivation"
      ]
     },
     "execution_count": 4,
     "metadata": {},
     "output_type": "execute_result"
    }
   ],
   "source": [
    "# прочитаем данные\n",
    "train_data = pd.read_csv('../input/twitter-sentiment-analysis-hatred-speech/train.csv')\n",
    "test_data = pd.read_csv('../input/twitter-sentiment-analysis-hatred-speech/test.csv')\n",
    "\n",
    "train_data.head()"
   ]
  },
  {
   "cell_type": "code",
   "execution_count": 5,
   "id": "afe35037",
   "metadata": {
    "execution": {
     "iopub.execute_input": "2022-07-14T10:33:32.811964Z",
     "iopub.status.busy": "2022-07-14T10:33:32.811109Z",
     "iopub.status.idle": "2022-07-14T10:33:32.831137Z",
     "shell.execute_reply": "2022-07-14T10:33:32.830261Z"
    },
    "papermill": {
     "duration": 0.033944,
     "end_time": "2022-07-14T10:33:32.833205",
     "exception": false,
     "start_time": "2022-07-14T10:33:32.799261",
     "status": "completed"
    },
    "tags": []
   },
   "outputs": [],
   "source": [
    "# разделим данные на тренировочную и валидационную выборки\n",
    "X_train, X_valid, y_train, y_valid = train_test_split(train_data, train_data['label'], test_size=0.2, random_state=42)\n",
    "X_train.drop('label', axis=1, inplace=True)\n",
    "X_valid.drop('label', axis=1, inplace=True)"
   ]
  },
  {
   "cell_type": "code",
   "execution_count": 6,
   "id": "faafa6bc",
   "metadata": {
    "execution": {
     "iopub.execute_input": "2022-07-14T10:33:32.857771Z",
     "iopub.status.busy": "2022-07-14T10:33:32.856312Z",
     "iopub.status.idle": "2022-07-14T10:33:32.863461Z",
     "shell.execute_reply": "2022-07-14T10:33:32.862606Z"
    },
    "papermill": {
     "duration": 0.021136,
     "end_time": "2022-07-14T10:33:32.865221",
     "exception": false,
     "start_time": "2022-07-14T10:33:32.844085",
     "status": "completed"
    },
    "tags": []
   },
   "outputs": [
    {
     "name": "stdout",
     "output_type": "stream",
     "text": [
      "Train shapes: (25569, 2), (25569,)\n",
      "Valid shapes: (6393, 2), (6393,)\n",
      "Test shape: (17197, 2)\n"
     ]
    }
   ],
   "source": [
    "print(f'Train shapes: {X_train.shape}, {y_train.shape}')\n",
    "print(f'Valid shapes: {X_valid.shape}, {y_valid.shape}')\n",
    "print(f'Test shape: {test_data.shape}')"
   ]
  },
  {
   "cell_type": "code",
   "execution_count": 7,
   "id": "3f724181",
   "metadata": {
    "execution": {
     "iopub.execute_input": "2022-07-14T10:33:32.888566Z",
     "iopub.status.busy": "2022-07-14T10:33:32.888314Z",
     "iopub.status.idle": "2022-07-14T10:33:32.897352Z",
     "shell.execute_reply": "2022-07-14T10:33:32.896407Z"
    },
    "papermill": {
     "duration": 0.022877,
     "end_time": "2022-07-14T10:33:32.899267",
     "exception": false,
     "start_time": "2022-07-14T10:33:32.876390",
     "status": "completed"
    },
    "tags": []
   },
   "outputs": [
    {
     "data": {
      "text/plain": [
       "0    23783\n",
       "1     1786\n",
       "Name: label, dtype: int64"
      ]
     },
     "execution_count": 7,
     "metadata": {},
     "output_type": "execute_result"
    }
   ],
   "source": [
    "# label 1 - the tweet is racist/sexist\n",
    "# label 0 - the tweet is NOT racist/sexist\n",
    "\n",
    "y_train.value_counts()"
   ]
  },
  {
   "cell_type": "markdown",
   "id": "8b690d01",
   "metadata": {
    "papermill": {
     "duration": 0.010932,
     "end_time": "2022-07-14T10:33:32.921218",
     "exception": false,
     "start_time": "2022-07-14T10:33:32.910286",
     "status": "completed"
    },
    "tags": []
   },
   "source": [
    "## Предобработка данных"
   ]
  },
  {
   "cell_type": "code",
   "execution_count": 8,
   "id": "dbaf7725",
   "metadata": {
    "execution": {
     "iopub.execute_input": "2022-07-14T10:33:32.944328Z",
     "iopub.status.busy": "2022-07-14T10:33:32.944068Z",
     "iopub.status.idle": "2022-07-14T10:33:32.949177Z",
     "shell.execute_reply": "2022-07-14T10:33:32.948109Z"
    },
    "papermill": {
     "duration": 0.019083,
     "end_time": "2022-07-14T10:33:32.951290",
     "exception": false,
     "start_time": "2022-07-14T10:33:32.932207",
     "status": "completed"
    },
    "tags": []
   },
   "outputs": [],
   "source": [
    "# создадим множество стоп-слов для английского языка\n",
    "sw = set(get_stop_words('en'))\n",
    "# sw"
   ]
  },
  {
   "cell_type": "code",
   "execution_count": 9,
   "id": "1db4eaec",
   "metadata": {
    "execution": {
     "iopub.execute_input": "2022-07-14T10:33:32.976021Z",
     "iopub.status.busy": "2022-07-14T10:33:32.975205Z",
     "iopub.status.idle": "2022-07-14T10:33:32.979912Z",
     "shell.execute_reply": "2022-07-14T10:33:32.979049Z"
    },
    "papermill": {
     "duration": 0.019545,
     "end_time": "2022-07-14T10:33:32.981817",
     "exception": false,
     "start_time": "2022-07-14T10:33:32.962272",
     "status": "completed"
    },
    "tags": []
   },
   "outputs": [],
   "source": [
    "# создадим множество с пунктуацией\n",
    "puncts = set(punctuation)\n",
    "# puncts"
   ]
  },
  {
   "cell_type": "code",
   "execution_count": 10,
   "id": "4d18fd70",
   "metadata": {
    "execution": {
     "iopub.execute_input": "2022-07-14T10:33:33.006466Z",
     "iopub.status.busy": "2022-07-14T10:33:33.005687Z",
     "iopub.status.idle": "2022-07-14T10:33:33.012149Z",
     "shell.execute_reply": "2022-07-14T10:33:33.011177Z"
    },
    "papermill": {
     "duration": 0.021133,
     "end_time": "2022-07-14T10:33:33.014214",
     "exception": false,
     "start_time": "2022-07-14T10:33:32.993081",
     "status": "completed"
    },
    "tags": []
   },
   "outputs": [
    {
     "data": {
      "text/plain": [
       "'dysfunct'"
      ]
     },
     "execution_count": 10,
     "metadata": {},
     "output_type": "execute_result"
    }
   ],
   "source": [
    "# сделаем стемминг (уберем лишние куски слова)\n",
    "stemmer = PorterStemmer()\n",
    "stemmer.stem('dysfunctional')"
   ]
  },
  {
   "cell_type": "code",
   "execution_count": 11,
   "id": "4edae5d0",
   "metadata": {
    "execution": {
     "iopub.execute_input": "2022-07-14T10:33:33.038682Z",
     "iopub.status.busy": "2022-07-14T10:33:33.037934Z",
     "iopub.status.idle": "2022-07-14T10:33:34.883559Z",
     "shell.execute_reply": "2022-07-14T10:33:34.882485Z"
    },
    "papermill": {
     "duration": 1.860488,
     "end_time": "2022-07-14T10:33:34.885998",
     "exception": false,
     "start_time": "2022-07-14T10:33:33.025510",
     "status": "completed"
    },
    "tags": []
   },
   "outputs": [
    {
     "data": {
      "text/plain": [
       "'make'"
      ]
     },
     "execution_count": 11,
     "metadata": {},
     "output_type": "execute_result"
    }
   ],
   "source": [
    "# сделаем лемматизацию\n",
    "lemmatizer = WordNetLemmatizer()\n",
    "lemmatizer.lemmatize('makes')"
   ]
  },
  {
   "cell_type": "code",
   "execution_count": 12,
   "id": "5b0fe38c",
   "metadata": {
    "execution": {
     "iopub.execute_input": "2022-07-14T10:33:34.910885Z",
     "iopub.status.busy": "2022-07-14T10:33:34.910577Z",
     "iopub.status.idle": "2022-07-14T10:33:34.917440Z",
     "shell.execute_reply": "2022-07-14T10:33:34.916580Z"
    },
    "papermill": {
     "duration": 0.020876,
     "end_time": "2022-07-14T10:33:34.919281",
     "exception": false,
     "start_time": "2022-07-14T10:33:34.898405",
     "status": "completed"
    },
    "tags": []
   },
   "outputs": [
    {
     "data": {
      "text/plain": [
       "array([\"@user @user @user because i've been paying attention for the past year/8 years. he's a â\\x80¦ \"],\n",
       "      dtype=object)"
      ]
     },
     "execution_count": 12,
     "metadata": {},
     "output_type": "execute_result"
    }
   ],
   "source": [
    "# посмотрим пример твита\n",
    "X_train['tweet'].iloc[:1].values"
   ]
  },
  {
   "cell_type": "code",
   "execution_count": 13,
   "id": "01ab0d53",
   "metadata": {
    "execution": {
     "iopub.execute_input": "2022-07-14T10:33:34.944265Z",
     "iopub.status.busy": "2022-07-14T10:33:34.943445Z",
     "iopub.status.idle": "2022-07-14T10:33:34.950860Z",
     "shell.execute_reply": "2022-07-14T10:33:34.949901Z"
    },
    "papermill": {
     "duration": 0.022145,
     "end_time": "2022-07-14T10:33:34.952757",
     "exception": false,
     "start_time": "2022-07-14T10:33:34.930612",
     "status": "completed"
    },
    "tags": []
   },
   "outputs": [
    {
     "data": {
      "text/plain": [
       "array(['user user user ive pay attent past year8 year he â\\x80¦'],\n",
       "      dtype=object)"
      ]
     },
     "execution_count": 13,
     "metadata": {},
     "output_type": "execute_result"
    }
   ],
   "source": [
    "# твит после обработки\n",
    "X_train['tweet'].iloc[:1].apply(preprocess_text).values"
   ]
  },
  {
   "cell_type": "code",
   "execution_count": 14,
   "id": "02ca9682",
   "metadata": {
    "execution": {
     "iopub.execute_input": "2022-07-14T10:33:34.977974Z",
     "iopub.status.busy": "2022-07-14T10:33:34.977722Z",
     "iopub.status.idle": "2022-07-14T10:33:49.385810Z",
     "shell.execute_reply": "2022-07-14T10:33:49.384551Z"
    },
    "papermill": {
     "duration": 14.423211,
     "end_time": "2022-07-14T10:33:49.388014",
     "exception": false,
     "start_time": "2022-07-14T10:33:34.964803",
     "status": "completed"
    },
    "tags": []
   },
   "outputs": [
    {
     "name": "stderr",
     "output_type": "stream",
     "text": [
      "100%|██████████| 25569/25569 [00:07<00:00, 3341.20it/s]\n",
      "100%|██████████| 6393/6393 [00:01<00:00, 3458.50it/s]\n",
      "100%|██████████| 17197/17197 [00:04<00:00, 3521.98it/s]\n"
     ]
    }
   ],
   "source": [
    "# обработаем данные\n",
    "tqdm.pandas()\n",
    "\n",
    "X_train['tweet'] = X_train['tweet'].progress_apply(preprocess_text)\n",
    "X_valid['tweet'] = X_valid['tweet'].progress_apply(preprocess_text)\n",
    "test_data['tweet'] = test_data['tweet'].progress_apply(preprocess_text)"
   ]
  },
  {
   "cell_type": "code",
   "execution_count": 15,
   "id": "29287004",
   "metadata": {
    "execution": {
     "iopub.execute_input": "2022-07-14T10:33:49.431976Z",
     "iopub.status.busy": "2022-07-14T10:33:49.430427Z",
     "iopub.status.idle": "2022-07-14T10:33:49.447066Z",
     "shell.execute_reply": "2022-07-14T10:33:49.446185Z"
    },
    "papermill": {
     "duration": 0.040089,
     "end_time": "2022-07-14T10:33:49.448911",
     "exception": false,
     "start_time": "2022-07-14T10:33:49.408822",
     "status": "completed"
    },
    "tags": []
   },
   "outputs": [],
   "source": [
    "# соединим все слова вместе\n",
    "train_corpus = \" \".join(X_train[\"tweet\"])\n",
    "train_corpus = train_corpus.lower()"
   ]
  },
  {
   "cell_type": "code",
   "execution_count": 16,
   "id": "616ba6bc",
   "metadata": {
    "execution": {
     "iopub.execute_input": "2022-07-14T10:33:49.490850Z",
     "iopub.status.busy": "2022-07-14T10:33:49.490009Z",
     "iopub.status.idle": "2022-07-14T10:33:52.051452Z",
     "shell.execute_reply": "2022-07-14T10:33:52.050533Z"
    },
    "papermill": {
     "duration": 2.58415,
     "end_time": "2022-07-14T10:33:52.053644",
     "exception": false,
     "start_time": "2022-07-14T10:33:49.469494",
     "status": "completed"
    },
    "tags": []
   },
   "outputs": [
    {
     "name": "stdout",
     "output_type": "stream",
     "text": [
      "[nltk_data] Downloading package punkt to /usr/share/nltk_data...\n",
      "[nltk_data]   Unzipping tokenizers/punkt.zip.\n"
     ]
    },
    {
     "data": {
      "text/plain": [
       "['user', 'user', 'user', 'ive', 'pay']"
      ]
     },
     "execution_count": 16,
     "metadata": {},
     "output_type": "execute_result"
    }
   ],
   "source": [
    "# сделаем токенизацию\n",
    "nltk.download(\"punkt\")\n",
    "\n",
    "tokens = word_tokenize(train_corpus)\n",
    "tokens[:5]"
   ]
  },
  {
   "cell_type": "code",
   "execution_count": 17,
   "id": "d9242392",
   "metadata": {
    "execution": {
     "iopub.execute_input": "2022-07-14T10:33:52.096111Z",
     "iopub.status.busy": "2022-07-14T10:33:52.095812Z",
     "iopub.status.idle": "2022-07-14T10:33:52.122304Z",
     "shell.execute_reply": "2022-07-14T10:33:52.121342Z"
    },
    "papermill": {
     "duration": 0.050227,
     "end_time": "2022-07-14T10:33:52.124269",
     "exception": false,
     "start_time": "2022-07-14T10:33:52.074042",
     "status": "completed"
    },
    "tags": []
   },
   "outputs": [],
   "source": [
    "# отфильтруем токены (проверим все символы, что они являются буквенно-цифровыми)\n",
    "tokens_filtered = [word for word in tokens if word.isalnum()]"
   ]
  },
  {
   "cell_type": "code",
   "execution_count": 18,
   "id": "dddb1374",
   "metadata": {
    "execution": {
     "iopub.execute_input": "2022-07-14T10:33:52.165611Z",
     "iopub.status.busy": "2022-07-14T10:33:52.165349Z",
     "iopub.status.idle": "2022-07-14T10:33:52.171226Z",
     "shell.execute_reply": "2022-07-14T10:33:52.170329Z"
    },
    "papermill": {
     "duration": 0.028487,
     "end_time": "2022-07-14T10:33:52.173187",
     "exception": false,
     "start_time": "2022-07-14T10:33:52.144700",
     "status": "completed"
    },
    "tags": []
   },
   "outputs": [
    {
     "data": {
      "text/plain": [
       "214868"
      ]
     },
     "execution_count": 18,
     "metadata": {},
     "output_type": "execute_result"
    }
   ],
   "source": [
    "len(tokens_filtered)"
   ]
  },
  {
   "cell_type": "code",
   "execution_count": 19,
   "id": "e9998671",
   "metadata": {
    "execution": {
     "iopub.execute_input": "2022-07-14T10:33:52.215477Z",
     "iopub.status.busy": "2022-07-14T10:33:52.214746Z",
     "iopub.status.idle": "2022-07-14T10:33:52.378295Z",
     "shell.execute_reply": "2022-07-14T10:33:52.377190Z"
    },
    "papermill": {
     "duration": 0.187623,
     "end_time": "2022-07-14T10:33:52.380749",
     "exception": false,
     "start_time": "2022-07-14T10:33:52.193126",
     "status": "completed"
    },
    "tags": []
   },
   "outputs": [
    {
     "data": {
      "text/plain": [
       "2999"
      ]
     },
     "execution_count": 19,
     "metadata": {},
     "output_type": "execute_result"
    }
   ],
   "source": [
    "# посчитаем количество повторений каждого слова\n",
    "dist = FreqDist(tokens_filtered)\n",
    "\n",
    "# берем топ 3000\n",
    "tokens_filtered_top = [pair[0] for pair in dist.most_common(max_words-1)]  # вычитание 1 для padding\n",
    "len(tokens_filtered_top)"
   ]
  },
  {
   "cell_type": "code",
   "execution_count": 20,
   "id": "c70c00eb",
   "metadata": {
    "execution": {
     "iopub.execute_input": "2022-07-14T10:33:52.423523Z",
     "iopub.status.busy": "2022-07-14T10:33:52.422882Z",
     "iopub.status.idle": "2022-07-14T10:33:52.430301Z",
     "shell.execute_reply": "2022-07-14T10:33:52.429348Z"
    },
    "papermill": {
     "duration": 0.03078,
     "end_time": "2022-07-14T10:33:52.432243",
     "exception": false,
     "start_time": "2022-07-14T10:33:52.401463",
     "status": "completed"
    },
    "tags": []
   },
   "outputs": [
    {
     "data": {
      "text/plain": [
       "['user', 'love', 'day', 'happi', 'u', 'amp', 'thank', 'just', 'will', 'get']"
      ]
     },
     "execution_count": 20,
     "metadata": {},
     "output_type": "execute_result"
    }
   ],
   "source": [
    "tokens_filtered_top[:10]"
   ]
  },
  {
   "cell_type": "code",
   "execution_count": 21,
   "id": "678d5bba",
   "metadata": {
    "execution": {
     "iopub.execute_input": "2022-07-14T10:33:52.475260Z",
     "iopub.status.busy": "2022-07-14T10:33:52.475004Z",
     "iopub.status.idle": "2022-07-14T10:33:52.480317Z",
     "shell.execute_reply": "2022-07-14T10:33:52.479442Z"
    },
    "papermill": {
     "duration": 0.029223,
     "end_time": "2022-07-14T10:33:52.482209",
     "exception": false,
     "start_time": "2022-07-14T10:33:52.452986",
     "status": "completed"
    },
    "tags": []
   },
   "outputs": [],
   "source": [
    "# составим словарь\n",
    "vocabulary = {v: k for k, v in dict(enumerate(tokens_filtered_top, 1)).items()}\n",
    "# vocabulary"
   ]
  },
  {
   "cell_type": "code",
   "execution_count": 22,
   "id": "863e874c",
   "metadata": {
    "execution": {
     "iopub.execute_input": "2022-07-14T10:33:52.524656Z",
     "iopub.status.busy": "2022-07-14T10:33:52.523934Z",
     "iopub.status.idle": "2022-07-14T10:34:00.693141Z",
     "shell.execute_reply": "2022-07-14T10:34:00.691374Z"
    },
    "papermill": {
     "duration": 8.193973,
     "end_time": "2022-07-14T10:34:00.696941",
     "exception": false,
     "start_time": "2022-07-14T10:33:52.502968",
     "status": "completed"
    },
    "tags": []
   },
   "outputs": [
    {
     "name": "stdout",
     "output_type": "stream",
     "text": [
      "CPU times: user 8.1 s, sys: 20.3 ms, total: 8.12 s\n",
      "Wall time: 8.16 s\n"
     ]
    }
   ],
   "source": [
    "%%time\n",
    "\n",
    "# преобразуем тексты в последовательности\n",
    "X_train = np.asarray([text_to_sequence(text, max_len) for text in X_train['tweet']])\n",
    "X_valid = np.asarray([text_to_sequence(text, max_len) for text in X_valid['tweet']])\n",
    "test_data = np.asarray([text_to_sequence(text, max_len) for text in test_data['tweet']])"
   ]
  },
  {
   "cell_type": "code",
   "execution_count": 23,
   "id": "13336ca0",
   "metadata": {
    "execution": {
     "iopub.execute_input": "2022-07-14T10:34:00.767045Z",
     "iopub.status.busy": "2022-07-14T10:34:00.766691Z",
     "iopub.status.idle": "2022-07-14T10:34:00.773265Z",
     "shell.execute_reply": "2022-07-14T10:34:00.772341Z"
    },
    "papermill": {
     "duration": 0.043548,
     "end_time": "2022-07-14T10:34:00.775607",
     "exception": false,
     "start_time": "2022-07-14T10:34:00.732059",
     "status": "completed"
    },
    "tags": []
   },
   "outputs": [
    {
     "data": {
      "text/plain": [
       "(25569, 30)"
      ]
     },
     "execution_count": 23,
     "metadata": {},
     "output_type": "execute_result"
    }
   ],
   "source": [
    "X_train.shape"
   ]
  },
  {
   "cell_type": "code",
   "execution_count": 24,
   "id": "627174c8",
   "metadata": {
    "execution": {
     "iopub.execute_input": "2022-07-14T10:34:00.843603Z",
     "iopub.status.busy": "2022-07-14T10:34:00.843279Z",
     "iopub.status.idle": "2022-07-14T10:34:00.849574Z",
     "shell.execute_reply": "2022-07-14T10:34:00.848749Z"
    },
    "papermill": {
     "duration": 0.046233,
     "end_time": "2022-07-14T10:34:00.855071",
     "exception": false,
     "start_time": "2022-07-14T10:34:00.808838",
     "status": "completed"
    },
    "tags": []
   },
   "outputs": [
    {
     "data": {
      "text/plain": [
       "\"@user @user thanks for #lyft credit i can't use cause they don't offer wheelchair vans in pdx.    #disapointed #getthanked\""
      ]
     },
     "execution_count": 24,
     "metadata": {},
     "output_type": "execute_result"
    }
   ],
   "source": [
    "train_data['tweet'].iloc[1]"
   ]
  },
  {
   "cell_type": "code",
   "execution_count": 25,
   "id": "8e31804a",
   "metadata": {
    "execution": {
     "iopub.execute_input": "2022-07-14T10:34:00.923485Z",
     "iopub.status.busy": "2022-07-14T10:34:00.923171Z",
     "iopub.status.idle": "2022-07-14T10:34:00.929405Z",
     "shell.execute_reply": "2022-07-14T10:34:00.928526Z"
    },
    "papermill": {
     "duration": 0.043744,
     "end_time": "2022-07-14T10:34:00.932177",
     "exception": false,
     "start_time": "2022-07-14T10:34:00.888433",
     "status": "completed"
    },
    "tags": []
   },
   "outputs": [
    {
     "data": {
      "text/plain": [
       "array([   1,  725,  288,   48, 1975, 2804,    1,    0,    0,    0,    0,\n",
       "          0,    0,    0,    0,    0,    0,    0,    0,    0,    0,    0,\n",
       "          0,    0,    0,    0,    0,    0,    0,    0])"
      ]
     },
     "execution_count": 25,
     "metadata": {},
     "output_type": "execute_result"
    }
   ],
   "source": [
    "X_train[1]"
   ]
  },
  {
   "cell_type": "markdown",
   "id": "595718f7",
   "metadata": {
    "papermill": {
     "duration": 0.034403,
     "end_time": "2022-07-14T10:34:01.000544",
     "exception": false,
     "start_time": "2022-07-14T10:34:00.966141",
     "status": "completed"
    },
    "tags": []
   },
   "source": [
    "## Создание модели"
   ]
  },
  {
   "cell_type": "code",
   "execution_count": 26,
   "id": "4c4ff54b",
   "metadata": {
    "execution": {
     "iopub.execute_input": "2022-07-14T10:34:01.069465Z",
     "iopub.status.busy": "2022-07-14T10:34:01.069159Z",
     "iopub.status.idle": "2022-07-14T10:34:01.087742Z",
     "shell.execute_reply": "2022-07-14T10:34:01.086891Z"
    },
    "papermill": {
     "duration": 0.055581,
     "end_time": "2022-07-14T10:34:01.089894",
     "exception": false,
     "start_time": "2022-07-14T10:34:01.034313",
     "status": "completed"
    },
    "tags": []
   },
   "outputs": [],
   "source": [
    "# класс с архитектурой модели\n",
    "\n",
    "class Net(nn.Module):\n",
    "    \n",
    "    \n",
    "    def __init__(self, vocab_size=2000, embedding_dim=256, out_channel=256, num_classes=1, th=0.5):\n",
    "        \n",
    "        super().__init__()\n",
    "        \n",
    "        self.embedding = nn.Embedding(vocab_size, embedding_dim)\n",
    "        self.conv_1 = nn.Conv1d(embedding_dim, out_channel, kernel_size=2)\n",
    "        self.pool = nn.MaxPool1d(2)\n",
    "        self.relu = nn.ReLU()\n",
    "        self.linear_2 = nn.Linear(out_channel, num_classes)\n",
    "        self.dropout = nn.Dropout(0.2)\n",
    "        \n",
    "        \n",
    "    def forward(self, x):        \n",
    "        output = self.embedding(x) # B, L, E\n",
    "        #                       B  E  L         \n",
    "        output = output.permute(0, 2, 1)\n",
    "        \n",
    "        output = self.conv_1(output)\n",
    "        output = self.relu(output)\n",
    "        output = self.pool(output)\n",
    "        output = self.dropout(output)\n",
    "        \n",
    "        output = torch.max(output, axis=2).values        \n",
    "        \n",
    "        output = self.linear_2(output)\n",
    "        output = torch.sigmoid(output)\n",
    "        \n",
    "        return output\n",
    "    \n",
    "    \n",
    "    def predict(self, x):\n",
    "        output = self.embedding(x)     \n",
    "        output = output.permute(0, 2, 1)\n",
    "        \n",
    "        output = self.conv_1(output)\n",
    "        output = self.relu(output)\n",
    "        output = self.pool(output)\n",
    "        output = self.dropout(output)\n",
    "        \n",
    "        output = torch.max(output, axis=2).values\n",
    "        \n",
    "        output = self.linear_2(output)\n",
    "        output = torch.sigmoid(output)\n",
    "        \n",
    "        output = torch.squeeze((output > th).int())\n",
    "        \n",
    "        return output"
   ]
  },
  {
   "cell_type": "code",
   "execution_count": 27,
   "id": "afa965fd",
   "metadata": {
    "execution": {
     "iopub.execute_input": "2022-07-14T10:34:01.136184Z",
     "iopub.status.busy": "2022-07-14T10:34:01.135433Z",
     "iopub.status.idle": "2022-07-14T10:34:01.143393Z",
     "shell.execute_reply": "2022-07-14T10:34:01.142575Z"
    },
    "papermill": {
     "duration": 0.031204,
     "end_time": "2022-07-14T10:34:01.145363",
     "exception": false,
     "start_time": "2022-07-14T10:34:01.114159",
     "status": "completed"
    },
    "tags": []
   },
   "outputs": [],
   "source": [
    "# класс для создания кастомного датасета\n",
    "\n",
    "class DataWrapper(Dataset):\n",
    "    \n",
    "    \n",
    "    def __init__(self, data, target=None, transform=None):\n",
    "        self.data = torch.from_numpy(data).long()\n",
    "        self.transform = transform\n",
    "        if target is None:\n",
    "            self.target = torch.FloatTensor([])\n",
    "        else:      \n",
    "            self.target = torch.from_numpy(target).long()  \n",
    "        \n",
    "        \n",
    "        \n",
    "    def __getitem__(self, index):     \n",
    "        x = self.data[index]  \n",
    "        \n",
    "        if self.transform:\n",
    "            x = self.transform(x)\n",
    "\n",
    "        if self.target.shape[0] == 0:\n",
    "            return x\n",
    "        else:                \n",
    "            y = self.target[index]\n",
    "            return x, y\n",
    "\n",
    "    \n",
    "    def __len__(self):\n",
    "        \n",
    "        return len(self.data)"
   ]
  },
  {
   "cell_type": "code",
   "execution_count": 28,
   "id": "bfcd4b4e",
   "metadata": {
    "execution": {
     "iopub.execute_input": "2022-07-14T10:34:01.188741Z",
     "iopub.status.busy": "2022-07-14T10:34:01.188105Z",
     "iopub.status.idle": "2022-07-14T10:34:01.194557Z",
     "shell.execute_reply": "2022-07-14T10:34:01.193747Z"
    },
    "papermill": {
     "duration": 0.030191,
     "end_time": "2022-07-14T10:34:01.196333",
     "exception": false,
     "start_time": "2022-07-14T10:34:01.166142",
     "status": "completed"
    },
    "tags": []
   },
   "outputs": [],
   "source": [
    "# загрузим данные для модели\n",
    "\n",
    "train_dataset = DataWrapper(X_train, y_train.values)\n",
    "train_loader = DataLoader(train_dataset, batch_size=batch_size, shuffle=True)\n",
    "\n",
    "val_dataset = DataWrapper(X_valid, y_valid.values)\n",
    "val_loader = DataLoader(val_dataset, batch_size=4, shuffle=True)"
   ]
  },
  {
   "cell_type": "code",
   "execution_count": 29,
   "id": "7c2889ce",
   "metadata": {
    "execution": {
     "iopub.execute_input": "2022-07-14T10:34:01.239661Z",
     "iopub.status.busy": "2022-07-14T10:34:01.238914Z",
     "iopub.status.idle": "2022-07-14T10:34:01.256408Z",
     "shell.execute_reply": "2022-07-14T10:34:01.255410Z"
    },
    "papermill": {
     "duration": 0.04169,
     "end_time": "2022-07-14T10:34:01.258753",
     "exception": false,
     "start_time": "2022-07-14T10:34:01.217063",
     "status": "completed"
    },
    "tags": []
   },
   "outputs": [
    {
     "name": "stdout",
     "output_type": "stream",
     "text": [
      "torch.Size([256, 30])\n",
      "torch.Size([256])\n",
      "tensor(1)\n"
     ]
    }
   ],
   "source": [
    "for x, l in train_loader:\n",
    "    \n",
    "    print(x.shape)\n",
    "    print(l.shape)\n",
    "    print(l[0])\n",
    "    \n",
    "    break"
   ]
  },
  {
   "cell_type": "code",
   "execution_count": 30,
   "id": "03df7bee",
   "metadata": {
    "execution": {
     "iopub.execute_input": "2022-07-14T10:34:01.302861Z",
     "iopub.status.busy": "2022-07-14T10:34:01.302130Z",
     "iopub.status.idle": "2022-07-14T10:34:01.365969Z",
     "shell.execute_reply": "2022-07-14T10:34:01.364930Z"
    },
    "papermill": {
     "duration": 0.087472,
     "end_time": "2022-07-14T10:34:01.368131",
     "exception": false,
     "start_time": "2022-07-14T10:34:01.280659",
     "status": "completed"
    },
    "tags": []
   },
   "outputs": [
    {
     "data": {
      "text/plain": [
       "'cuda'"
      ]
     },
     "execution_count": 30,
     "metadata": {},
     "output_type": "execute_result"
    }
   ],
   "source": [
    "# проверим наличие GPU\n",
    "device = 'cuda' if torch.cuda.is_available() else 'cpu'\n",
    "device"
   ]
  },
  {
   "cell_type": "code",
   "execution_count": 31,
   "id": "80360653",
   "metadata": {
    "execution": {
     "iopub.execute_input": "2022-07-14T10:34:01.411982Z",
     "iopub.status.busy": "2022-07-14T10:34:01.411697Z",
     "iopub.status.idle": "2022-07-14T10:34:01.427149Z",
     "shell.execute_reply": "2022-07-14T10:34:01.426067Z"
    },
    "papermill": {
     "duration": 0.039391,
     "end_time": "2022-07-14T10:34:01.429127",
     "exception": false,
     "start_time": "2022-07-14T10:34:01.389736",
     "status": "completed"
    },
    "tags": []
   },
   "outputs": [],
   "source": [
    "# инициализируем модель\n",
    "model = Net(vocab_size=max_words)"
   ]
  },
  {
   "cell_type": "code",
   "execution_count": 32,
   "id": "456a9de9",
   "metadata": {
    "execution": {
     "iopub.execute_input": "2022-07-14T10:34:01.473246Z",
     "iopub.status.busy": "2022-07-14T10:34:01.471657Z",
     "iopub.status.idle": "2022-07-14T10:34:01.479003Z",
     "shell.execute_reply": "2022-07-14T10:34:01.478048Z"
    },
    "papermill": {
     "duration": 0.031032,
     "end_time": "2022-07-14T10:34:01.480985",
     "exception": false,
     "start_time": "2022-07-14T10:34:01.449953",
     "status": "completed"
    },
    "tags": []
   },
   "outputs": [
    {
     "name": "stdout",
     "output_type": "stream",
     "text": [
      "Net(\n",
      "  (embedding): Embedding(3000, 256)\n",
      "  (conv_1): Conv1d(256, 256, kernel_size=(2,), stride=(1,))\n",
      "  (pool): MaxPool1d(kernel_size=2, stride=2, padding=0, dilation=1, ceil_mode=False)\n",
      "  (relu): ReLU()\n",
      "  (linear_2): Linear(in_features=256, out_features=1, bias=True)\n",
      "  (dropout): Dropout(p=0.2, inplace=False)\n",
      ")\n",
      "Parameters: 899585\n"
     ]
    }
   ],
   "source": [
    "print(model)\n",
    "print(\"Parameters:\", sum([param.nelement() for param in model.parameters()]))"
   ]
  },
  {
   "cell_type": "markdown",
   "id": "47753892",
   "metadata": {
    "papermill": {
     "duration": 0.020629,
     "end_time": "2022-07-14T10:34:01.522459",
     "exception": false,
     "start_time": "2022-07-14T10:34:01.501830",
     "status": "completed"
    },
    "tags": []
   },
   "source": [
    "## Обучение модели"
   ]
  },
  {
   "cell_type": "code",
   "execution_count": 33,
   "id": "1313ccbb",
   "metadata": {
    "execution": {
     "iopub.execute_input": "2022-07-14T10:34:01.566848Z",
     "iopub.status.busy": "2022-07-14T10:34:01.566506Z",
     "iopub.status.idle": "2022-07-14T10:34:01.571656Z",
     "shell.execute_reply": "2022-07-14T10:34:01.570580Z"
    },
    "papermill": {
     "duration": 0.030218,
     "end_time": "2022-07-14T10:34:01.573945",
     "exception": false,
     "start_time": "2022-07-14T10:34:01.543727",
     "status": "completed"
    },
    "tags": []
   },
   "outputs": [],
   "source": [
    "# зададим оптимизатор и критерий\n",
    "optimizer = torch.optim.Adam(model.parameters(), lr=0.001)\n",
    "criterion = nn.BCELoss()"
   ]
  },
  {
   "cell_type": "code",
   "execution_count": 34,
   "id": "c73c44d3",
   "metadata": {
    "execution": {
     "iopub.execute_input": "2022-07-14T10:34:01.617658Z",
     "iopub.status.busy": "2022-07-14T10:34:01.617319Z",
     "iopub.status.idle": "2022-07-14T10:34:29.075542Z",
     "shell.execute_reply": "2022-07-14T10:34:29.074471Z"
    },
    "papermill": {
     "duration": 27.483761,
     "end_time": "2022-07-14T10:34:29.078562",
     "exception": false,
     "start_time": "2022-07-14T10:34:01.594801",
     "status": "completed"
    },
    "tags": []
   },
   "outputs": [
    {
     "name": "stdout",
     "output_type": "stream",
     "text": [
      "Epoch [1/10]. Step [100/100]. Loss: 0.090. Acc: 0.938. Test loss: 0.272. Test acc: 0.947\n",
      "Epoch [2/10]. Step [100/100]. Loss: 0.094. Acc: 0.958. Test loss: 0.002. Test acc: 0.953\n",
      "Epoch [3/10]. Step [100/100]. Loss: 0.106. Acc: 0.970. Test loss: 0.001. Test acc: 0.953\n",
      "Epoch [4/10]. Step [100/100]. Loss: 0.087. Acc: 0.980. Test loss: 0.001. Test acc: 0.956\n",
      "Epoch [5/10]. Step [100/100]. Loss: 0.099. Acc: 0.987. Test loss: 0.012. Test acc: 0.955\n",
      "Epoch [6/10]. Step [100/100]. Loss: 0.026. Acc: 0.992. Test loss: 0.001. Test acc: 0.957\n",
      "Epoch [7/10]. Step [100/100]. Loss: 0.011. Acc: 0.996. Test loss: 0.000. Test acc: 0.956\n",
      "Epoch [8/10]. Step [100/100]. Loss: 0.012. Acc: 0.997. Test loss: 0.000. Test acc: 0.957\n",
      "Epoch [9/10]. Step [100/100]. Loss: 0.012. Acc: 0.998. Test loss: 0.012. Test acc: 0.955\n",
      "Epoch [10/10]. Step [100/100]. Loss: 0.007. Acc: 0.999. Test loss: 0.000. Test acc: 0.958\n",
      "Training is finished!\n"
     ]
    }
   ],
   "source": [
    "# обучим модель\n",
    "\n",
    "model = model.to(device)\n",
    "model.train()\n",
    "th = 0.5\n",
    "\n",
    "train_loss_history = []\n",
    "test_loss_history = []\n",
    "\n",
    "\n",
    "for epoch in range(epochs):  \n",
    "    running_items, running_right = 0.0, 0.0\n",
    "    for i, data in enumerate(train_loader, 0):\n",
    "        inputs, labels = data[0].to(device), data[1].to(device)\n",
    "        \n",
    "        # обнуляем градиент\n",
    "        optimizer.zero_grad()\n",
    "        outputs = model(inputs)\n",
    "        \n",
    "        loss = criterion(outputs, labels.float().view(-1, 1))\n",
    "        loss.backward()\n",
    "        optimizer.step()\n",
    "\n",
    "        # подсчет ошибки на обучении\n",
    "        loss = loss.item()\n",
    "        running_items += len(labels)\n",
    "        # подсчет метрики на обучении\n",
    "        pred_labels = torch.squeeze((outputs > th).int())\n",
    "        running_right += (labels == pred_labels).sum()\n",
    "        \n",
    "    # выводим статистику о процессе обучения\n",
    "    model.eval()\n",
    "    \n",
    "    print(f'Epoch [{epoch + 1}/{epochs}]. ' \\\n",
    "            f'Step [{i + 1}/{len(train_loader)}]. ' \\\n",
    "            f'Loss: {loss:.3f}. ' \\\n",
    "            f'Acc: {running_right / running_items:.3f}', end='. ')\n",
    "    running_loss, running_items, running_right = 0.0, 0.0, 0.0\n",
    "    train_loss_history.append(loss)\n",
    "\n",
    "        # выводим статистику на тестовых данных\n",
    "    test_running_right, test_running_total, test_loss = 0.0, 0.0, 0.0\n",
    "    for j, data in enumerate(val_loader):\n",
    "        test_labels = data[1].to(device)\n",
    "        test_outputs = model(data[0].to(device))\n",
    "        \n",
    "        # подсчет ошибки на тесте\n",
    "        test_loss = criterion(test_outputs, test_labels.float().view(-1, 1))\n",
    "        # подсчет метрики на тесте\n",
    "        test_running_total += len(data[1])\n",
    "        pred_test_labels = torch.squeeze((test_outputs > th).int())\n",
    "        test_running_right += (test_labels == pred_test_labels).sum()\n",
    "    \n",
    "    test_loss_history.append(test_loss.item())\n",
    "    print(f'Test loss: {test_loss:.3f}. Test acc: {test_running_right / test_running_total:.3f}')\n",
    "    \n",
    "    model.train()\n",
    "        \n",
    "print('Training is finished!')"
   ]
  },
  {
   "cell_type": "code",
   "execution_count": 35,
   "id": "e602f617",
   "metadata": {
    "execution": {
     "iopub.execute_input": "2022-07-14T10:34:29.124942Z",
     "iopub.status.busy": "2022-07-14T10:34:29.124661Z",
     "iopub.status.idle": "2022-07-14T10:34:29.335532Z",
     "shell.execute_reply": "2022-07-14T10:34:29.334671Z"
    },
    "papermill": {
     "duration": 0.235307,
     "end_time": "2022-07-14T10:34:29.337452",
     "exception": false,
     "start_time": "2022-07-14T10:34:29.102145",
     "status": "completed"
    },
    "tags": []
   },
   "outputs": [
    {
     "data": {
      "image/png": "[encoded data removed]",
      "text/plain": [
       "<Figure size 432x288 with 1 Axes>"
      ]
     },
     "metadata": {
      "needs_background": "light"
     },
     "output_type": "display_data"
    }
   ],
   "source": [
    "# визуализируем историю ошибки\n",
    "\n",
    "plt.title('Loss history')\n",
    "plt.grid(True)\n",
    "plt.ylabel('Loss')\n",
    "plt.xlabel('Epoch')\n",
    "plt.plot(train_loss_history, label='train')\n",
    "plt.plot(test_loss_history, label='test')\n",
    "plt.legend();"
   ]
  },
  {
   "cell_type": "markdown",
   "id": "4373b547",
   "metadata": {
    "papermill": {
     "duration": 0.021763,
     "end_time": "2022-07-14T10:34:29.382134",
     "exception": false,
     "start_time": "2022-07-14T10:34:29.360371",
     "status": "completed"
    },
    "tags": []
   },
   "source": [
    "## Предсказания на тестовых данных без разметки"
   ]
  },
  {
   "cell_type": "code",
   "execution_count": 36,
   "id": "87936546",
   "metadata": {
    "execution": {
     "iopub.execute_input": "2022-07-14T10:34:29.428289Z",
     "iopub.status.busy": "2022-07-14T10:34:29.428020Z",
     "iopub.status.idle": "2022-07-14T10:34:29.434942Z",
     "shell.execute_reply": "2022-07-14T10:34:29.433927Z"
    },
    "papermill": {
     "duration": 0.032921,
     "end_time": "2022-07-14T10:34:29.437920",
     "exception": false,
     "start_time": "2022-07-14T10:34:29.404999",
     "status": "completed"
    },
    "tags": []
   },
   "outputs": [
    {
     "name": "stdout",
     "output_type": "stream",
     "text": [
      "torch.Size([17197, 30])\n"
     ]
    }
   ],
   "source": [
    "# обработаем тестовые данные\n",
    "test_samples = torch.tensor(test_data).to(device)\n",
    "print(test_samples.shape)"
   ]
  },
  {
   "cell_type": "code",
   "execution_count": 37,
   "id": "6ea95a2c",
   "metadata": {
    "execution": {
     "iopub.execute_input": "2022-07-14T10:34:29.484676Z",
     "iopub.status.busy": "2022-07-14T10:34:29.484354Z",
     "iopub.status.idle": "2022-07-14T10:34:29.525936Z",
     "shell.execute_reply": "2022-07-14T10:34:29.524937Z"
    },
    "papermill": {
     "duration": 0.067005,
     "end_time": "2022-07-14T10:34:29.528063",
     "exception": false,
     "start_time": "2022-07-14T10:34:29.461058",
     "status": "completed"
    },
    "tags": []
   },
   "outputs": [
    {
     "data": {
      "text/plain": [
       "tensor([0, 0, 0, 0, 0, 0, 0, 0, 0, 0, 0, 0, 0, 0, 0, 0, 0, 0, 0, 1],\n",
       "       device='cuda:0', dtype=torch.int32)"
      ]
     },
     "execution_count": 37,
     "metadata": {},
     "output_type": "execute_result"
    }
   ],
   "source": [
    "# сделаем предсказания\n",
    "predictions = model.predict(test_samples)\n",
    "predictions[:20]"
   ]
  },
  {
   "cell_type": "markdown",
   "id": "8c63c512",
   "metadata": {
    "papermill": {
     "duration": 0.02213,
     "end_time": "2022-07-14T10:34:29.573140",
     "exception": false,
     "start_time": "2022-07-14T10:34:29.551010",
     "status": "completed"
    },
    "tags": []
   },
   "source": [
    "## Вывод:\n"
   ]
  },
  {
   "cell_type": "markdown",
   "id": "f26a0e57",
   "metadata": {
    "papermill": {
     "duration": 0.022537,
     "end_time": "2022-07-14T10:34:29.617981",
     "exception": false,
     "start_time": "2022-07-14T10:34:29.595444",
     "status": "completed"
    },
    "tags": []
   },
   "source": [
    "С помощью итоговой модели удалось достичь точности на трейне около **0.998**, на валидации около - **0.957**.\n",
    "\n",
    "Точность повысилась благодаря увеличению количества топ-слов, количества слов в последовательности. Были убраны 1 конвалюционный слой и 1 плотный слой, при этом точность даже улучшилась. Был добавлен слой Dropout, который совсем чуть-чуть затормозил переобучение. Также был уменьшен шаг обучения."
   ]
  }
 ],
 "metadata": {
  "kernelspec": {
   "display_name": "Python 3",
   "language": "python",
   "name": "python3"
  },
  "language_info": {
   "codemirror_mode": {
    "name": "ipython",
    "version": 3
   },
   "file_extension": ".py",
   "mimetype": "text/x-python",
   "name": "python",
   "nbconvert_exporter": "python",
   "pygments_lexer": "ipython3",
   "version": "3.7.12"
  },
  "papermill": {
   "default_parameters": {},
   "duration": 84.47193,
   "end_time": "2022-07-14T10:34:31.851162",
   "environment_variables": {},
   "exception": null,
   "input_path": "__notebook__.ipynb",
   "output_path": "__notebook__.ipynb",
   "parameters": {},
   "start_time": "2022-07-14T10:33:07.379232",
   "version": "2.3.4"
  }
 },
 "nbformat": 4,
 "nbformat_minor": 5
}
