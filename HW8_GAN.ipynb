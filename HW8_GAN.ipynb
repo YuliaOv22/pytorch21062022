{
  "nbformat": 4,
  "nbformat_minor": 0,
  "metadata": {
    "colab": {
      "name": "HW8_GAN.ipynb",
      "provenance": [],
      "collapsed_sections": []
    },
    "kernelspec": {
      "name": "python3",
      "display_name": "Python 3"
    },
    "language_info": {
      "name": "python"
    },
    "gpuClass": "standard",
    "accelerator": "GPU"
  },
  "cells": [
    {
      "cell_type": "markdown",
      "metadata": {
        "papermill": {
          "duration": 0.011837,
          "end_time": "2022-07-17T11:33:34.041758",
          "exception": false,
          "start_time": "2022-07-17T11:33:34.029921",
          "status": "completed"
        },
        "tags": [],
        "id": "8fec8b41"
      },
      "source": [
        "## Практическое задание"
      ]
    },
    {
      "cell_type": "markdown",
      "metadata": {
        "id": "AbaURGXmUTEO"
      },
      "source": [
        "1. Обучить генератор создавать точки, которые будут лежать на графике функции \n",
        " $$y = \\frac{sin(x)}{x} - \\frac{x}{10}$$\n",
        "При выполнении данного задания структура GAN остается той же, но Вам нужно:\n",
        "- Сгенерировать настоящие данные\n",
        "- Изменить архитектуру дискриминатора и генератора\n",
        "- Построить графики"
      ]
    },
    {
      "cell_type": "code",
      "execution_count": 86,
      "metadata": {
        "id": "95xYBv3UF9Gz"
      },
      "outputs": [],
      "source": [
        "import torch\n",
        "import torch.nn as nn\n",
        "import torch.nn.functional as F\n",
        "import torch.optim as optim\n",
        "import numpy as np\n",
        "import torchvision\n",
        "import matplotlib.pyplot as plt\n",
        "from torch.utils.data import DataLoader, Dataset\n",
        "from sklearn.preprocessing import StandardScaler\n",
        "from sklearn.model_selection import train_test_split\n",
        "import os\n",
        "import math\n",
        "from IPython import display\n",
        "# from torchvision.utils import save_image, make_grid"
      ]
    },
    {
      "cell_type": "code",
      "source": [
        "# сгенерируем данные точек\n",
        "\n",
        "x = np.linspace(0.001, 20, 10000)\n",
        "y = np.sin(x)/x - x/10"
      ],
      "metadata": {
        "id": "iqFp6MyyH81t"
      },
      "execution_count": 87,
      "outputs": []
    },
    {
      "cell_type": "code",
      "source": [
        "# визуализируем функцию\n",
        "\n",
        "plt.title('Function')\n",
        "plt.plot(x, y)\n",
        "plt.show()"
      ],
      "metadata": {
        "colab": {
          "base_uri": "https://localhost:8080/",
          "height": 281
        },
        "id": "CSgzENyMH9Q8",
        "outputId": "94b364f1-fc81-47a0-a6c7-f9ea6bdf1d47"
      },
      "execution_count": 88,
      "outputs": [
        {
          "output_type": "display_data",
          "data": {
            "text/plain": [
              "<Figure size 432x288 with 1 Axes>"
            ],
            "image/png": "[encoded data removed]"
          },
          "metadata": {
            "needs_background": "light"
          }
        }
      ]
    },
    {
      "cell_type": "code",
      "source": [
        "# проверим устройство\n",
        "\n",
        "device = 'cuda' if torch.cuda.is_available() else 'cpu'\n",
        "device"
      ],
      "metadata": {
        "colab": {
          "base_uri": "https://localhost:8080/",
          "height": 36
        },
        "id": "Hk-1QFVXH9Tp",
        "outputId": "b56fdbe8-5c5a-40c0-a120-0c0f0d70e21e"
      },
      "execution_count": 89,
      "outputs": [
        {
          "output_type": "execute_result",
          "data": {
            "text/plain": [
              "'cuda'"
            ],
            "application/vnd.google.colaboratory.intrinsic+json": {
              "type": "string"
            }
          },
          "metadata": {},
          "execution_count": 89
        }
      ]
    },
    {
      "cell_type": "markdown",
      "source": [
        "## **Dataset**"
      ],
      "metadata": {
        "id": "WBLNo0t_h_WK"
      }
    },
    {
      "cell_type": "code",
      "source": [
        "# класс для создания кастомного датасета \n",
        "\n",
        "class MyDataset(Dataset):\n",
        "\n",
        "    def __init__(self, length=10000):\n",
        "        self.data_xy = torch.zeros((length, 2))\n",
        "        self.data_xy[:, 0] = torch.FloatTensor(np.linspace(0.001, 20, length))\n",
        "        self.data_xy[:, 1] = torch.FloatTensor(np.sin(self.data_xy[:, 0])/self.data_xy[:, 0] - self.data_xy[:, 0]/10)\n",
        "\n",
        "    def __len__(self):        \n",
        "        return self.data_xy.shape[0]\n",
        "\n",
        "    def __getitem__(self, index):\n",
        "        data_xy = self.data_xy[index]\n",
        "\n",
        "        return data_xy"
      ],
      "metadata": {
        "id": "89eMVCyvzGkw"
      },
      "execution_count": 90,
      "outputs": []
    },
    {
      "cell_type": "code",
      "source": [
        "data_train = MyDataset()"
      ],
      "metadata": {
        "id": "fowU4q4mz5TG"
      },
      "execution_count": 91,
      "outputs": []
    },
    {
      "cell_type": "code",
      "source": [
        "# посмотрим на единичные экземпляры\n",
        "\n",
        "data_train[10]"
      ],
      "metadata": {
        "colab": {
          "base_uri": "https://localhost:8080/"
        },
        "id": "Fo8G4FhiMcz0",
        "outputId": "5148bc9d-37e5-4b9d-81cb-0a43e14e49a9"
      },
      "execution_count": 92,
      "outputs": [
        {
          "output_type": "execute_result",
          "data": {
            "text/plain": [
              "tensor([0.0210, 0.9978])"
            ]
          },
          "metadata": {},
          "execution_count": 92
        }
      ]
    },
    {
      "cell_type": "code",
      "source": [
        "print(f'Train length: {len(data_train)}')"
      ],
      "metadata": {
        "colab": {
          "base_uri": "https://localhost:8080/"
        },
        "id": "yyoWC_O6TNBE",
        "outputId": "866c6ceb-3608-4515-f6ff-df3094f20504"
      },
      "execution_count": 93,
      "outputs": [
        {
          "output_type": "stream",
          "name": "stdout",
          "text": [
            "Train length: 10000\n"
          ]
        }
      ]
    },
    {
      "cell_type": "code",
      "source": [
        "BATCH_SIZE = 128\n",
        "\n",
        "# размерность случайного вектора, который подается на вход генератору\n",
        "LATENT_DIM = 100\n",
        "\n",
        "# количество эпох\n",
        "N_EPOCHS = 500 \n",
        "\n",
        "# количество итераций для отображения процесса обучения\n",
        "SAMPLE_INTERVAL = 500  \n",
        "\n",
        "# шаг обучения\n",
        "LR = 0.001 \n",
        "\n",
        "# гиперпараметры для оптимайзера Adam\n",
        "B1 = 0.5  \n",
        "B2 = 0.999  "
      ],
      "metadata": {
        "id": "sAvu3joshsCP"
      },
      "execution_count": 94,
      "outputs": []
    },
    {
      "cell_type": "code",
      "source": [
        "# сформируем батчи\n",
        "\n",
        "data_train_loader = torch.utils.data.DataLoader(data_train, \n",
        "                                                batch_size=BATCH_SIZE, # увеличить батчи\n",
        "                                                shuffle=True,\n",
        "                                                num_workers=2, \n",
        "                                                drop_last=True)\n",
        "\n",
        "print(f'Number of train batches: {len(data_train_loader)}')"
      ],
      "metadata": {
        "colab": {
          "base_uri": "https://localhost:8080/"
        },
        "id": "gEAoxw8LL3H8",
        "outputId": "a7cdd6d8-2a8f-4142-a4e8-422a723c61fb"
      },
      "execution_count": 95,
      "outputs": [
        {
          "output_type": "stream",
          "name": "stdout",
          "text": [
            "Number of train batches: 78\n"
          ]
        }
      ]
    },
    {
      "cell_type": "code",
      "source": [
        "# посмотрим на тензоры\n",
        "for data in data_train_loader:\n",
        "    print(data.shape)\n",
        "    # print(data)\n",
        "    break"
      ],
      "metadata": {
        "colab": {
          "base_uri": "https://localhost:8080/"
        },
        "id": "odnydLtFZaRZ",
        "outputId": "5cb451ed-f433-4423-c37e-dadbbb05069c"
      },
      "execution_count": 96,
      "outputs": [
        {
          "output_type": "stream",
          "name": "stdout",
          "text": [
            "torch.Size([128, 2])\n"
          ]
        }
      ]
    },
    {
      "cell_type": "markdown",
      "source": [
        "## **Generator**"
      ],
      "metadata": {
        "id": "LZEv2TEhh4oP"
      }
    },
    {
      "cell_type": "code",
      "source": [
        "class Generator(nn.Module):\n",
        "    def __init__(self):\n",
        "        super().__init__()\n",
        "        \n",
        "        # Использование таких словарей позволяет нам варьировать параметры нашей сети в процессе использования\n",
        "        self.activations = nn.ModuleDict([\n",
        "            ['lrelu', nn.LeakyReLU(0.2, inplace=True)],\n",
        "            ['relu', nn.ReLU()]\n",
        "        ])\n",
        "        \n",
        "        def block(in_feat, out_feat, normalize=True, activation='relu'):\n",
        "            layers = [nn.Linear(in_feat, out_feat)]  # Если мы создаем последовательность слоев - то мы задаем их\n",
        "                                                     # с помощью списка.\n",
        "            if normalize:\n",
        "                layers.append(nn.BatchNorm1d(out_feat))\n",
        "            layers.append(self.activations[activation])  # Эта строчка означает тоже самое что и\n",
        "                                                         # layers.append(nn.LeakyReLU(0.2, inplace=True))\n",
        "            # layers.append(nn.Dropout(0.2))\n",
        "            return layers\n",
        "\n",
        "        self.model = nn.Sequential(\n",
        "            *block(LATENT_DIM, 128, normalize=False),  # Звездочка означает unpacking списка  \n",
        "            *block(128, 256, activation='lrelu'),\n",
        "            *block(256, 512),\n",
        "            *block(512, 1024),\n",
        "            nn.Linear(1024, 2)\n",
        "        )\n",
        "\n",
        "    def forward(self, z):\n",
        "        points = self.model(z)\n",
        "        return points"
      ],
      "metadata": {
        "id": "L6c2vWFKPbV4"
      },
      "execution_count": 97,
      "outputs": []
    },
    {
      "cell_type": "markdown",
      "source": [
        "## **CustomLinearLayer**"
      ],
      "metadata": {
        "id": "e813e2l3jNsv"
      }
    },
    {
      "cell_type": "code",
      "source": [
        "class CustomLinearLayer(nn.Module):\n",
        "  \n",
        "    def __init__(self, size_in, size_out):\n",
        "        super().__init__()\n",
        "        self.size_in, self.size_out = size_in, size_out\n",
        "        \n",
        "        weights = torch.Tensor(size_out, size_in)\n",
        "        self.weights = nn.Parameter(weights) # Обьявляем веса как параметры слоя\n",
        "\n",
        "        bias = torch.Tensor(size_out)\n",
        "        self.bias = nn.Parameter(bias)\n",
        "\n",
        "        nn.init.uniform_(self.weights, -0.005, 0.005) \n",
        "        nn.init.uniform_(self.bias, -0.005, 0.005)  \n",
        "\n",
        "    def forward(self, x):\n",
        "        # По формуле линейного слоя, нам нужно умножить наши данные \n",
        "        # на транспонированные веса и добавить смещение\n",
        "        w_times_x = torch.mm(x, self.weights.t())\n",
        "\n",
        "        return torch.add(w_times_x, self.bias)  "
      ],
      "metadata": {
        "id": "hlgBgxxWhr-H"
      },
      "execution_count": 98,
      "outputs": []
    },
    {
      "cell_type": "code",
      "source": [
        "layer = CustomLinearLayer(1, 2)\n",
        "layer.weights, layer.bias"
      ],
      "metadata": {
        "colab": {
          "base_uri": "https://localhost:8080/"
        },
        "id": "-lrQx7ixhsGQ",
        "outputId": "876ff935-5bad-4362-8465-b50d13edc7d0"
      },
      "execution_count": 99,
      "outputs": [
        {
          "output_type": "execute_result",
          "data": {
            "text/plain": [
              "(Parameter containing:\n",
              " tensor([[-0.0026],\n",
              "         [ 0.0030]], requires_grad=True), Parameter containing:\n",
              " tensor([-0.0018, -0.0031], requires_grad=True))"
            ]
          },
          "metadata": {},
          "execution_count": 99
        }
      ]
    },
    {
      "cell_type": "markdown",
      "source": [
        "## **Discriminator**"
      ],
      "metadata": {
        "id": "3M04yPu_jZgQ"
      }
    },
    {
      "cell_type": "code",
      "source": [
        "class Discriminator(nn.Module):\n",
        "\n",
        "    def __init__(self):\n",
        "        super().__init__()\n",
        "\n",
        "        self.model = nn.Sequential(\n",
        "            CustomLinearLayer(2, 512),\n",
        "            nn.LeakyReLU(0.2, inplace=True),\n",
        "            CustomLinearLayer(512, 256),\n",
        "            nn.LeakyReLU(0.2, inplace=True),\n",
        "            CustomLinearLayer(256, 1),\n",
        "            nn.Sigmoid(),\n",
        "        )  \n",
        "\n",
        "    def forward(self, points):\n",
        "        validity = self.model(points)\n",
        "        return validity"
      ],
      "metadata": {
        "id": "c3WgHfhJhsKo"
      },
      "execution_count": 100,
      "outputs": []
    },
    {
      "cell_type": "markdown",
      "source": [
        "## **Parameters**"
      ],
      "metadata": {
        "id": "Bl4myyxplZGW"
      }
    },
    {
      "cell_type": "code",
      "source": [
        "generator = Generator().to(device)\n",
        "discriminator = Discriminator().to(device)\n",
        "\n",
        "# для каждой нейронки свой опитимизатор\n",
        "optimizer_G = torch.optim.Adam(\n",
        "    generator.parameters(),\n",
        "    lr=LR, \n",
        "    betas=(B1, B2)\n",
        ")\n",
        "optimizer_D = torch.optim.Adam(\n",
        "    discriminator.parameters(), \n",
        "    lr=LR, \n",
        "    betas=(B1, B2)\n",
        ")\n",
        "\n",
        "# функция ошибки\n",
        "adversarial_loss = torch.nn.BCELoss()\n",
        "# adversarial_loss_g = torch.nn.MSELoss()"
      ],
      "metadata": {
        "id": "VDk-d1ipjTyR"
      },
      "execution_count": 101,
      "outputs": []
    },
    {
      "cell_type": "code",
      "source": [
        "d_loss_history = []\n",
        "g_loss_history = []"
      ],
      "metadata": {
        "id": "6ocQMBnTjpLy"
      },
      "execution_count": 102,
      "outputs": []
    },
    {
      "cell_type": "code",
      "source": [
        "# функция для вывода и сохранения изображения\n",
        "\n",
        "def sample_data(data):\n",
        "  \n",
        "    plt.scatter(xy[:, 0].cpu().numpy(), xy[:, 1].cpu().numpy())\n",
        "    plt.scatter(data[:, 0].cpu().numpy(), data[:, 1].cpu().numpy())\n",
        "    plt.show()"
      ],
      "metadata": {
        "id": "qixP41T0luCV"
      },
      "execution_count": 103,
      "outputs": []
    },
    {
      "cell_type": "markdown",
      "source": [
        "## **Learning**"
      ],
      "metadata": {
        "id": "cauIZwHclgPx"
      }
    },
    {
      "cell_type": "code",
      "source": [
        "import matplotlib.patches as mpatches\n",
        "\n",
        "\n",
        "for epoch in range(N_EPOCHS):\n",
        "    for i, xy in enumerate(data_train_loader):\n",
        "        \n",
        "##################### Лейблы для данных: 1 - настоящие, 0 - сгенерированные ########\n",
        "        valid = torch.FloatTensor(BATCH_SIZE, 1).fill_(1.0).to(device)\n",
        "        fake = torch.FloatTensor(BATCH_SIZE, 1).fill_(0.0).to(device)\n",
        "\n",
        "        real_xy = xy.type(torch.FloatTensor).to(device)\n",
        "\n",
        "        # Генерация шума\n",
        "        z = torch.FloatTensor(np.random.normal(0, 1, (BATCH_SIZE, LATENT_DIM))).to(device)\n",
        "        \n",
        "        # Генерируем данные Генератором на основе шума\n",
        "        gen_xy = generator(z)\n",
        "  \n",
        "######################  Тренировка дискриминатора    ##########################\n",
        "        \n",
        "        # Получаем предсказания дискриминатора на основе реальных данных\n",
        "        real_pred = discriminator(real_xy)\n",
        "        \n",
        "        # Тут сравниваем предсказанные значения Дискриминатора(на основе настоящих данных) с настоящими\n",
        "        d_real_loss = adversarial_loss(real_pred, valid)\n",
        "        \n",
        "        # Подаем сгенерированые данные на Дискриминатор \n",
        "        fake_pred = discriminator(gen_xy)\n",
        "        \n",
        "        # расчитываем ошибку предсказанного с фейковыми лейблами\n",
        "        d_fake_loss = adversarial_loss(fake_pred, fake)\n",
        "        \n",
        "        # И усредняем два лосса в один\n",
        "        d_loss = (d_real_loss + d_fake_loss) / 2\n",
        "\n",
        "        optimizer_D.zero_grad()\n",
        "        d_loss.backward()\n",
        "        optimizer_D.step()\n",
        "\n",
        "######################  Тренировка генератора    ##########################\n",
        "        \n",
        "        # генерация шума\n",
        "        z = torch.FloatTensor(np.random.normal(0, 1, (BATCH_SIZE, LATENT_DIM))).to(device)\n",
        "        \n",
        "        # Генерируем данные Генератором на основе шума\n",
        "        gen_xy = generator(z)\n",
        "\n",
        "        # Подаем сгенерированые данные на Дискриминатор \n",
        "        fake_pred = discriminator(gen_xy)\n",
        "    \n",
        "        # Тут сравниваем предсказанные значения Дискриминатора (на основе сгенерировнных данных) с настоящими\n",
        "        g_loss = adversarial_loss(fake_pred, valid)/adversarial_loss(fake_pred, fake)\n",
        "        \n",
        "        # Делаем шаг обучения нашего Генератора\n",
        "        optimizer_G.zero_grad()\n",
        "        g_loss.backward()\n",
        "        optimizer_G.step()\n",
        "\n",
        "        \n",
        "######## Отображение процесса обучения и вывод функций потерь ############\n",
        "        batches_done = epoch * len(data_train_loader) + i\n",
        "    \n",
        "        if batches_done % SAMPLE_INTERVAL == 0:\n",
        "            with torch.no_grad():\n",
        "                plt.clf()\n",
        "\n",
        "                display.clear_output(wait=False)\n",
        "                sample_data(gen_xy)\n",
        "                print(f\"[Epoch {epoch}/{N_EPOCHS}] [Batch {i}/{len(data_train_loader)}]\", end='|')\n",
        "                print(f'[D loss: {d_loss.item()}] [G loss: {g_loss.item()}]') \n",
        "\n",
        "\n",
        "                # display.display(plt.gcf())\n",
        "                plt.show()\n",
        "                d_loss = d_loss.cpu().detach()\n",
        "                g_loss = g_loss.cpu().detach()\n",
        "\n",
        "\n",
        "                d_loss_history.append(d_loss)\n",
        "                g_loss_history.append(g_loss)\n",
        "\n",
        "                plt.plot(np.array(d_loss_history), label='D loss')\n",
        "                plt.plot(np.array(g_loss_history), label='G loss')\n",
        "                plt.legend()\n",
        "                plt.show()        "
      ],
      "metadata": {
        "colab": {
          "base_uri": "https://localhost:8080/",
          "height": 531
        },
        "id": "jJqlRjBfjpTu",
        "outputId": "495bfff8-93f1-4b39-e74a-15c97a4a6dde"
      },
      "execution_count": 104,
      "outputs": [
        {
          "output_type": "display_data",
          "data": {
            "text/plain": [
              "<Figure size 432x288 with 1 Axes>"
            ],
            "image/png": "[encoded data removed]"
          },
          "metadata": {
            "needs_background": "light"
          }
        },
        {
          "output_type": "stream",
          "name": "stdout",
          "text": [
            "[Epoch 493/500] [Batch 46/78]|[D loss: 0.6954379081726074] [G loss: 0.9962599873542786]\n"
          ]
        },
        {
          "output_type": "display_data",
          "data": {
            "text/plain": [
              "<Figure size 432x288 with 1 Axes>"
            ],
            "image/png": "[encoded data removed]"
          },
          "metadata": {
            "needs_background": "light"
          }
        }
      ]
    },
    {
      "cell_type": "code",
      "source": [
        "latent_space_samples = torch.randn(100, LATENT_DIM).to(device)\n",
        "generated_samples = generator(latent_space_samples)"
      ],
      "metadata": {
        "id": "VCWnzFN8jT6e"
      },
      "execution_count": 105,
      "outputs": []
    },
    {
      "cell_type": "code",
      "source": [
        "generated_samples = generated_samples.detach()\n",
        "plt.plot(generated_samples[:, 0].cpu(), generated_samples[:, 1].cpu(), \".\")"
      ],
      "metadata": {
        "colab": {
          "base_uri": "https://localhost:8080/",
          "height": 283
        },
        "id": "bd0pxTiPNjrw",
        "outputId": "3550a1ca-1a89-4a6a-d501-5b8bc0ca1131"
      },
      "execution_count": 106,
      "outputs": [
        {
          "output_type": "execute_result",
          "data": {
            "text/plain": [
              "[<matplotlib.lines.Line2D at 0x7f2eaa229510>]"
            ]
          },
          "metadata": {},
          "execution_count": 106
        },
        {
          "output_type": "display_data",
          "data": {
            "text/plain": [
              "<Figure size 432x288 with 1 Axes>"
            ],
            "image/png": "[encoded data removed]"
          },
          "metadata": {
            "needs_background": "light"
          }
        }
      ]
    },
    {
      "cell_type": "code",
      "source": [
        "# https://realpython.com/generative-adversarial-networks/#further-reading"
      ],
      "metadata": {
        "id": "gWsUielJey-g"
      },
      "execution_count": 107,
      "outputs": []
    }
  ]
}