{
  "cells": [
    {
      "cell_type": "markdown",
      "source": [
        "## **Практическое задание**"
      ],
      "metadata": {
        "id": "uMPIn2Z0LYe3"
      }
    },
    {
      "cell_type": "markdown",
      "source": [
        "**1. Добиться хорошего результата от модели, собранной на занятии (5 угаданныx картинок из 8 предложенных). Варианты изменений:**\n",
        "- изменение слоёв и их количества;\n",
        "- изменение метода оптимизации;\n",
        "- изменение процесса обучения;\n",
        "- *преобразование данных transform"
      ],
      "metadata": {
        "id": "rTldYXJ1Ll6t"
      }
    },
    {
      "cell_type": "code",
      "execution_count": 1,
      "metadata": {
        "id": "Gp3vmbx3tZ2z"
      },
      "outputs": [],
      "source": [
        "import torch\n",
        "import matplotlib.pyplot as plt\n",
        "import numpy as np\n",
        "from torch import optim\n",
        "import torch.nn.functional as F\n",
        "from torch import nn\n",
        "import torchvision\n",
        "import torchvision.transforms as transforms"
      ]
    },
    {
      "cell_type": "code",
      "execution_count": null,
      "metadata": {
        "colab": {
          "base_uri": "https://localhost:8080/"
        },
        "id": "1ABe6EY5tZ20",
        "outputId": "ed3861d9-ed2b-44d8-b9eb-94597f85ef26"
      },
      "outputs": [
        {
          "output_type": "stream",
          "name": "stdout",
          "text": [
            "Files already downloaded and verified\n",
            "torch.Size([3, 32, 32])\n",
            "6\n"
          ]
        }
      ],
      "source": [
        "train_dataset = torchvision.datasets.CIFAR10(root='data/',\n",
        "                                             train=True,  \n",
        "                                             transform=transforms.ToTensor(), \n",
        "                                             download=True)\n",
        "\n",
        "\n",
        "image, label = train_dataset[0]\n",
        "print(image.size())\n",
        "print(label)"
      ]
    },
    {
      "cell_type": "code",
      "execution_count": null,
      "metadata": {
        "colab": {
          "base_uri": "https://localhost:8080/"
        },
        "id": "wgkIcZL6FQWk",
        "outputId": "9cee00ea-f2ca-4fbd-eb3b-3513f87ffe18"
      },
      "outputs": [
        {
          "output_type": "execute_result",
          "data": {
            "text/plain": [
              "torch.Size([32, 32, 3])"
            ]
          },
          "metadata": {},
          "execution_count": 175
        }
      ],
      "source": [
        "image.permute(1, 2, 0).shape"
      ]
    },
    {
      "cell_type": "code",
      "execution_count": null,
      "metadata": {
        "colab": {
          "base_uri": "https://localhost:8080/",
          "height": 266
        },
        "id": "gk9lX8VdtZ21",
        "outputId": "8588c9d4-d26f-4698-f5dc-dd10fe82287c"
      },
      "outputs": [
        {
          "output_type": "display_data",
          "data": {
            "text/plain": [
              "<Figure size 432x288 with 1 Axes>"
            ],
            "image/png": "[encoded data removed]"
          },
          "metadata": {
            "needs_background": "light"
          }
        }
      ],
      "source": [
        "plt.imshow(image.permute(1, 2, 0).numpy());"
      ]
    },
    {
      "cell_type": "code",
      "execution_count": null,
      "metadata": {
        "id": "dzocRyIKtZ22"
      },
      "outputs": [],
      "source": [
        "train_loader = torch.utils.data.DataLoader(dataset=train_dataset,\n",
        "                                           batch_size=64, \n",
        "                                           shuffle=True)"
      ]
    },
    {
      "cell_type": "code",
      "execution_count": null,
      "metadata": {
        "colab": {
          "base_uri": "https://localhost:8080/"
        },
        "id": "K1XeQ1aPtZ23",
        "outputId": "20809706-17b8-44d7-b563-666e00af6b74"
      },
      "outputs": [
        {
          "output_type": "stream",
          "name": "stdout",
          "text": [
            "Files already downloaded and verified\n"
          ]
        }
      ],
      "source": [
        "test_dataset = torchvision.datasets.CIFAR10(root='./data', train=False,\n",
        "                                            download=True, transform=transforms.ToTensor())\n",
        "test_loader = torch.utils.data.DataLoader(test_dataset, batch_size=8,\n",
        "                                          shuffle=False)"
      ]
    },
    {
      "cell_type": "code",
      "execution_count": null,
      "metadata": {
        "id": "oFYrzU1NtZ24"
      },
      "outputs": [],
      "source": [
        "classes = ('plane', 'car', 'bird', 'cat',\n",
        "           'deer', 'dog', 'frog', 'horse', 'ship', 'truck')"
      ]
    },
    {
      "cell_type": "code",
      "execution_count": null,
      "metadata": {
        "colab": {
          "base_uri": "https://localhost:8080/"
        },
        "id": "8wS-xS37tZ26",
        "outputId": "605aacff-6dc8-4673-ca99-180fa1a23d7c"
      },
      "outputs": [
        {
          "output_type": "execute_result",
          "data": {
            "text/plain": [
              "Net(\n",
              "  (fc1): Linear(in_features=3072, out_features=400, bias=True)\n",
              "  (fc2): Linear(in_features=400, out_features=100, bias=True)\n",
              "  (fc3): Linear(in_features=100, out_features=10, bias=True)\n",
              ")"
            ]
          },
          "metadata": {},
          "execution_count": 345
        }
      ],
      "source": [
        "import torch.nn.functional as F\n",
        "\n",
        "\n",
        "class Net(nn.Module):\n",
        "    def __init__(self, input_dim, hidden_dim, output_dim):\n",
        "        super().__init__()\n",
        "        # self.fc1 = nn.Linear(input_dim, 4 * hidden_dim)\n",
        "        # self.fc2 = nn.Linear(4 * hidden_dim, 2 * hidden_dim)\n",
        "        # self.fc3 = nn.Linear(2 * hidden_dim, hidden_dim)\n",
        "        # self.fc4 = nn.Linear(hidden_dim, output_dim)\n",
        "\n",
        "\n",
        "        self.fc1 = nn.Linear(input_dim, 4 * hidden_dim)\n",
        "        self.fc2 = nn.Linear(4 * hidden_dim, hidden_dim)\n",
        "        self.fc3 = nn.Linear(hidden_dim, output_dim)\n",
        "\n",
        "    def forward(self, x):\n",
        "        x = x.view(x.shape[0], -1)\n",
        "        x = self.fc1(x)\n",
        "        x = F.leaky_relu(x)\n",
        "        x = self.fc2(x)\n",
        "        x = F.leaky_relu(x)\n",
        "        x = self.fc3(x)\n",
        "        # x = F.leaky_relu(x)\n",
        "        # x = self.fc4(x)\n",
        "        return x\n",
        "    \n",
        "    def predict(self, x):\n",
        "        x = x.view(x.shape[0], -1)\n",
        "        x = self.fc1(x)\n",
        "        x = F.leaky_relu(x)\n",
        "        x = self.fc2(x)\n",
        "        x = F.leaky_relu(x)\n",
        "        x = self.fc3(x)\n",
        "        # x = F.leaky_relu(x)\n",
        "        # x = self.fc4(x)\n",
        "        x = F.softmax(x)\n",
        "        return x\n",
        "\n",
        "# print(torch.seed())\n",
        "torch.manual_seed(2248622982603265490)\n",
        "net = Net(3072, 100, 10)\n",
        "net.train()"
      ]
    },
    {
      "cell_type": "code",
      "source": [
        "net.fc1.weight[0][:5]"
      ],
      "metadata": {
        "colab": {
          "base_uri": "https://localhost:8080/"
        },
        "id": "W41oZXYPnVuW",
        "outputId": "499ce4a7-ce67-4875-fb87-6f0dcdf33513"
      },
      "execution_count": null,
      "outputs": [
        {
          "output_type": "execute_result",
          "data": {
            "text/plain": [
              "tensor([-0.0150, -0.0027,  0.0058,  0.0138,  0.0041], grad_fn=<SliceBackward0>)"
            ]
          },
          "metadata": {},
          "execution_count": 346
        }
      ]
    },
    {
      "cell_type": "code",
      "source": [
        "torch.initial_seed()"
      ],
      "metadata": {
        "colab": {
          "base_uri": "https://localhost:8080/"
        },
        "id": "19vo9A8tnftk",
        "outputId": "1311eeb4-5ec8-4fd9-edc8-6537cf5237e2"
      },
      "execution_count": null,
      "outputs": [
        {
          "output_type": "execute_result",
          "data": {
            "text/plain": [
              "2248622982603265490"
            ]
          },
          "metadata": {},
          "execution_count": 347
        }
      ]
    },
    {
      "cell_type": "code",
      "execution_count": null,
      "metadata": {
        "id": "Gdc_JriftZ25"
      },
      "outputs": [],
      "source": [
        "# 3 * 32 * 32"
      ]
    },
    {
      "cell_type": "code",
      "execution_count": null,
      "metadata": {
        "id": "cps8zpkctZ26"
      },
      "outputs": [],
      "source": [
        "criterion = nn.CrossEntropyLoss()\n",
        "# optimizer = optim.SGD(net.parameters(), lr=0.01, momentum=0.0)\n",
        "optimizer = optim.Adam(net.parameters(), lr=0.001)"
      ]
    },
    {
      "cell_type": "code",
      "execution_count": null,
      "metadata": {
        "colab": {
          "base_uri": "https://localhost:8080/"
        },
        "id": "5fKNYUqetZ27",
        "outputId": "c690f26a-50e1-4ffe-a2a3-23fbc731a958"
      },
      "outputs": [
        {
          "output_type": "stream",
          "name": "stdout",
          "text": [
            "Epoch [1/10]. Step [1/782]. Loss: 0.036\n",
            "Epoch [1/10]. Step [701/782]. Loss: 0.029\n",
            "Epoch [2/10]. Step [1/782]. Loss: 0.025\n",
            "Epoch [2/10]. Step [701/782]. Loss: 0.026\n",
            "Epoch [3/10]. Step [1/782]. Loss: 0.026\n",
            "Epoch [3/10]. Step [701/782]. Loss: 0.025\n",
            "Epoch [4/10]. Step [1/782]. Loss: 0.023\n",
            "Epoch [4/10]. Step [701/782]. Loss: 0.024\n",
            "Epoch [5/10]. Step [1/782]. Loss: 0.026\n",
            "Epoch [5/10]. Step [701/782]. Loss: 0.023\n",
            "Epoch [6/10]. Step [1/782]. Loss: 0.024\n",
            "Epoch [6/10]. Step [701/782]. Loss: 0.023\n",
            "Epoch [7/10]. Step [1/782]. Loss: 0.022\n",
            "Epoch [7/10]. Step [701/782]. Loss: 0.022\n",
            "Epoch [8/10]. Step [1/782]. Loss: 0.022\n",
            "Epoch [8/10]. Step [701/782]. Loss: 0.022\n",
            "Epoch [9/10]. Step [1/782]. Loss: 0.018\n",
            "Epoch [9/10]. Step [701/782]. Loss: 0.021\n",
            "Epoch [10/10]. Step [1/782]. Loss: 0.022\n",
            "Epoch [10/10]. Step [701/782]. Loss: 0.021\n",
            "Training is finished!\n"
          ]
        }
      ],
      "source": [
        "num_epochs = 10\n",
        "\n",
        "for epoch in range(num_epochs):\n",
        "    running_loss = 0.0\n",
        "    running_items = 0.0\n",
        "\n",
        "\n",
        "    for i, data in enumerate(train_loader):\n",
        "        inputs, labels = data[0], data[1]\n",
        "\n",
        "         # Обнуляем градиент\n",
        "        optimizer.zero_grad()\n",
        "        # Делаем предсказание\n",
        "        outputs = net(inputs)\n",
        "        # Рассчитываем лосс-функцию\n",
        "        loss = criterion(outputs, labels)\n",
        "        # Делаем шаг назад по лоссу\n",
        "        loss.backward()\n",
        "        # Делаем шаг нашего оптимайзера\n",
        "        optimizer.step()\n",
        "\n",
        "        # выводим статистику о процессе обучения\n",
        "        running_loss += loss.item()\n",
        "        running_items += len(labels)\n",
        "        if i % 700 == 0:    # печатаем каждые 300 mini-batches\n",
        "            print(f'Epoch [{epoch + 1}/{num_epochs}]. ' \\\n",
        "                  f'Step [{i + 1}/{len(train_loader)}]. ' \\\n",
        "                  f'Loss: {running_loss / running_items:.3f}')\n",
        "            running_loss, running_items = 0.0, 0.0\n",
        "\n",
        "print('Training is finished!')"
      ]
    },
    {
      "cell_type": "markdown",
      "metadata": {
        "id": "_sTks3KslrhC"
      },
      "source": [
        "## Загрузка и сохранение модели"
      ]
    },
    {
      "cell_type": "markdown",
      "metadata": {
        "id": "LPFEiskvlrhC"
      },
      "source": [
        "### Сохранение модели"
      ]
    },
    {
      "cell_type": "code",
      "execution_count": null,
      "metadata": {
        "id": "KD7mnuaeAhhs"
      },
      "outputs": [],
      "source": [
        "PATH_WEIGHTS = './cifar_net_test_version_weights.pth'\n",
        "torch.save(net.state_dict(), PATH_WEIGHTS)"
      ]
    },
    {
      "cell_type": "code",
      "execution_count": null,
      "metadata": {
        "id": "vfaFpun1Ahhs"
      },
      "outputs": [],
      "source": [
        "print(\"Model state_dict: \")\n",
        "for param in net.state_dict():\n",
        "    print(param, \"\\t\", net.state_dict()[param].size())"
      ]
    },
    {
      "cell_type": "code",
      "execution_count": null,
      "metadata": {
        "id": "7uo21kDtpehh"
      },
      "outputs": [],
      "source": [
        "PATH_MODEL = './cifar_net_test_version_model.pth'\n",
        "torch.save(net, PATH_MODEL)"
      ]
    },
    {
      "cell_type": "markdown",
      "metadata": {
        "id": "ehNiDFWtAhht"
      },
      "source": [
        "### Загрузка и использование модели "
      ]
    },
    {
      "cell_type": "code",
      "execution_count": null,
      "metadata": {
        "id": "3bobKodiAhht"
      },
      "outputs": [],
      "source": [
        "net = Net(3072, 100, 10)\n",
        "net.load_state_dict(torch.load(PATH_WEIGHTS))\n",
        "net"
      ]
    },
    {
      "cell_type": "code",
      "execution_count": null,
      "metadata": {
        "id": "EcC_eMaxphxr"
      },
      "outputs": [],
      "source": [
        "net = torch.load(PATH_MODEL)"
      ]
    },
    {
      "cell_type": "code",
      "execution_count": null,
      "metadata": {
        "id": "bnItAZIgAhht"
      },
      "outputs": [],
      "source": [
        "data_iter = iter(test_loader)\n",
        "images, labels = data_iter.next()"
      ]
    },
    {
      "cell_type": "code",
      "execution_count": null,
      "metadata": {
        "colab": {
          "base_uri": "https://localhost:8080/",
          "height": 142
        },
        "id": "xaZVP7lWAhhu",
        "outputId": "92b4c7f2-3a0b-45f1-897a-838e0e5839b1"
      },
      "outputs": [
        {
          "output_type": "stream",
          "name": "stdout",
          "text": [
            "GroundTruth:  cat ship ship plane frog frog car frog\n"
          ]
        },
        {
          "output_type": "display_data",
          "data": {
            "text/plain": [
              "<Figure size 720x360 with 1 Axes>"
            ],
            "image/png": "[encoded data removed]"
          },
          "metadata": {
            "needs_background": "light"
          }
        }
      ],
      "source": [
        "net.eval()\n",
        "outputs = net(images)\n",
        "imgs = torchvision.utils.make_grid(images)\n",
        "plt.figure(figsize=(10, 5))\n",
        "plt.imshow(imgs.permute(1, 2, 0).numpy())\n",
        "print('GroundTruth: ', ' '.join(classes[labels[j]] for j in range(len(labels))))"
      ]
    },
    {
      "cell_type": "code",
      "execution_count": null,
      "metadata": {
        "colab": {
          "base_uri": "https://localhost:8080/"
        },
        "id": "OK5qzXeCAhhv",
        "outputId": "60b82de8-9c2a-4bfd-9b64-d16cd60d615a"
      },
      "outputs": [
        {
          "output_type": "stream",
          "name": "stdout",
          "text": [
            "tensor([[ 0.4559, -0.3885, -0.0078,  1.5599,  0.3160,  1.0811, -0.6189, -1.5659,\n",
            "          0.0563, -1.6367],\n",
            "        [ 2.8884,  2.5239, -1.0942, -1.6430, -1.2347, -2.8924, -2.8414, -1.6348,\n",
            "          3.2662,  3.0711],\n",
            "        [ 3.8937,  2.6454, -1.9071, -1.9042, -0.7186, -3.2154, -4.5807, -1.4689,\n",
            "          4.5390,  2.1292],\n",
            "        [ 2.2642, -0.2408,  0.8421, -1.2753,  1.2765, -1.7823, -2.3406, -0.6815,\n",
            "          2.7585, -0.7980],\n",
            "        [-1.2796, -3.5871,  1.7289,  0.4421,  3.3987,  0.1839,  2.5158, -2.3493,\n",
            "         -2.5143, -4.2330],\n",
            "        [-0.8722, -2.8364,  0.7357,  1.6195,  0.6000,  0.8709,  2.9108, -0.1014,\n",
            "         -4.1876, -2.3969],\n",
            "        [-0.6855,  3.3743,  0.2834,  2.2382, -4.8688,  2.4879, -1.1873, -1.2026,\n",
            "         -3.4811,  0.1079],\n",
            "        [-0.0543, -1.3258,  1.0785,  0.4813,  1.9659, -0.3497,  2.0542, -1.2220,\n",
            "         -2.5515, -1.8977]], grad_fn=<AddmmBackward0>)\n"
          ]
        }
      ],
      "source": [
        "print(outputs)"
      ]
    },
    {
      "cell_type": "code",
      "execution_count": null,
      "metadata": {
        "colab": {
          "base_uri": "https://localhost:8080/"
        },
        "id": "lR4a_Km2BGlq",
        "outputId": "6b00aa38-4d9e-4f10-d2f6-d1666e3f5f46"
      },
      "outputs": [
        {
          "output_type": "stream",
          "name": "stderr",
          "text": [
            "/usr/local/lib/python3.7/dist-packages/ipykernel_launcher.py:37: UserWarning: Implicit dimension choice for softmax has been deprecated. Change the call to include dim=X as an argument.\n"
          ]
        },
        {
          "output_type": "execute_result",
          "data": {
            "text/plain": [
              "tensor([[1.1012e-01, 4.7334e-02, 6.9263e-02, 3.3217e-01, 9.5744e-02, 2.0577e-01,\n",
              "         3.7591e-02, 1.4582e-02, 7.3849e-02, 1.3586e-02],\n",
              "        [2.2641e-01, 1.5726e-01, 4.2196e-03, 2.4373e-03, 3.6664e-03, 6.9876e-04,\n",
              "         7.3532e-04, 2.4574e-03, 3.3033e-01, 2.7179e-01],\n",
              "        [2.9529e-01, 8.4743e-02, 8.9323e-04, 8.9586e-04, 2.9318e-03, 2.4142e-04,\n",
              "         6.1641e-05, 1.3845e-03, 5.6299e-01, 5.0574e-02],\n",
              "        [2.8649e-01, 2.3399e-02, 6.9101e-02, 8.3158e-03, 1.0670e-01, 5.0089e-03,\n",
              "         2.8658e-03, 1.5059e-02, 4.6965e-01, 1.3403e-02],\n",
              "        [5.4335e-03, 5.4066e-04, 1.1007e-01, 3.0395e-02, 5.8459e-01, 2.3479e-02,\n",
              "         2.4177e-01, 1.8642e-03, 1.5806e-03, 2.8342e-04],\n",
              "        [1.3395e-02, 1.8790e-03, 6.6875e-02, 1.6184e-01, 5.8389e-02, 7.6551e-02,\n",
              "         5.8871e-01, 2.8955e-02, 4.8649e-04, 2.9160e-03],\n",
              "        [9.2952e-03, 5.3875e-01, 2.4492e-02, 1.7299e-01, 1.4174e-04, 2.2204e-01,\n",
              "         5.6278e-03, 5.5419e-03, 5.6772e-04, 2.0551e-02],\n",
              "        [4.3167e-02, 1.2105e-02, 1.3401e-01, 7.3748e-02, 3.2550e-01, 3.2127e-02,\n",
              "         3.5553e-01, 1.3429e-02, 3.5533e-03, 6.8324e-03]],\n",
              "       grad_fn=<SoftmaxBackward0>)"
            ]
          },
          "metadata": {},
          "execution_count": 359
        }
      ],
      "source": [
        "net.predict(images)"
      ]
    },
    {
      "cell_type": "code",
      "execution_count": null,
      "metadata": {
        "colab": {
          "base_uri": "https://localhost:8080/"
        },
        "id": "VF-ezeboAhhv",
        "outputId": "7c6e41d8-3f29-42d9-9c3f-13a78ed45821"
      },
      "outputs": [
        {
          "output_type": "execute_result",
          "data": {
            "text/plain": [
              "tensor([3, 8, 8, 8, 4, 6, 1, 6])"
            ]
          },
          "metadata": {},
          "execution_count": 360
        }
      ],
      "source": [
        "_, predicted = torch.max(outputs, 1)\n",
        "\n",
        "predicted"
      ]
    },
    {
      "cell_type": "code",
      "execution_count": null,
      "metadata": {
        "colab": {
          "base_uri": "https://localhost:8080/"
        },
        "id": "Vd6w5xrvHP-O",
        "outputId": "3e3f9fd0-2ccc-454c-ba6c-32fcf18c45cc"
      },
      "outputs": [
        {
          "output_type": "stream",
          "name": "stdout",
          "text": [
            "Predicted:  cat ship ship ship deer frog car frog\n"
          ]
        }
      ],
      "source": [
        "print('Predicted: ', ' '.join(classes[predicted[j]] for j in range(len(labels))))"
      ]
    },
    {
      "cell_type": "code",
      "execution_count": null,
      "metadata": {
        "colab": {
          "base_uri": "https://localhost:8080/"
        },
        "id": "oxPcScN3ROv2",
        "outputId": "4eacdd28-f76c-4a36-a0cf-8ff3831003ae"
      },
      "outputs": [
        {
          "output_type": "stream",
          "name": "stdout",
          "text": [
            "['cat' 'ship' 'ship' 'plane' 'frog' 'frog' 'car' 'frog']\n",
            "['cat' 'ship' 'ship' 'ship' 'deer' 'frog' 'car' 'frog']\n",
            "Accuracy is 0.75\n"
          ]
        }
      ],
      "source": [
        "gt = np.array([classes[labels[j]] for j in range(len(labels))])\n",
        "pred = np.array([classes[predicted[j]] for j in range(len(labels))])\n",
        "\n",
        "print(gt)\n",
        "print(pred)\n",
        "print(f'Accuracy is {(gt == pred).sum() / len(gt)}')\n",
        "\n",
        "# начальное значение метрики\n",
        "# ['cat' 'ship' 'ship' 'plane' 'frog' 'frog' 'car' 'frog']\n",
        "# ['dog' 'ship' 'ship' 'ship' 'deer' 'frog' 'dog' 'deer']\n",
        "# Accuracy is 0.375"
      ]
    },
    {
      "cell_type": "markdown",
      "source": [
        "**Изменения от начальной архитектуры:**\n",
        "\n",
        "- out_features=600 в слое fc1, accuracy=0.5.\n",
        "\n",
        "- out_features=200 в слое fc1, accuracy=0.375.\n",
        "\n",
        "- out_features=600 в слое fc1, плюс слой fc5, accuracy=0.375.\n",
        "\n",
        "- out_features=200 в слое fc1, минус слой fc4, accuracy=0.5.\n",
        "\n",
        "- использование функции relu, accuracy=0.375.\n",
        "\n",
        "- использование функции tanh, accuracy=0.5.\n",
        "\n",
        "- использование оптимизатора Adam, accuracy=0.5.\n",
        "\n",
        "- learning_rate=0.001, optimizer=Adam, accuracy=0.375.\n",
        "\n",
        "---\n",
        "\n",
        "**Комбинация гиперпараметров + увеличение количества эпох до 10 + подбор инициализации весов = повышение метрики до $0.75$.**\n",
        "\n",
        "---\n"
      ],
      "metadata": {
        "id": "xGhvWcISTwhH"
      }
    },
    {
      "cell_type": "markdown",
      "metadata": {
        "id": "F6A4Mg_C_JkK"
      },
      "source": [
        "**2. *Переписать данный туториал на PyTorch:**\n",
        "\n",
        "https://www.tensorflow.org/tutorials/quickstart/beginner?hl=ru"
      ]
    },
    {
      "cell_type": "code",
      "source": [
        "train_dataset_mnist = torchvision.datasets.MNIST(root='data/',\n",
        "                                          train=True,  \n",
        "                                          transform=transforms.ToTensor(), \n",
        "                                          download=True)\n",
        "\n",
        "train_loader_mnist = torch.utils.data.DataLoader(train_dataset_mnist,\n",
        "                                          batch_size=32,\n",
        "                                          shuffle=True)\n",
        "\n",
        "\n",
        "test_dataset_mnist = torchvision.datasets.MNIST(root='./data', \n",
        "                                          train=False,\n",
        "                                          transform=transforms.ToTensor(),\n",
        "                                          download=True)\n",
        "\n",
        "test_loader_mnist = torch.utils.data.DataLoader(test_dataset_mnist, \n",
        "                                          batch_size=32,\n",
        "                                          shuffle=False)"
      ],
      "metadata": {
        "id": "L4172xq-5osj"
      },
      "execution_count": 111,
      "outputs": []
    },
    {
      "cell_type": "code",
      "source": [
        "image_mnist, label_mnist = train_dataset_mnist[0]\n",
        "print(image_mnist.size())\n",
        "print(label_mnist)"
      ],
      "metadata": {
        "colab": {
          "base_uri": "https://localhost:8080/"
        },
        "id": "lKAl-MSP7iop",
        "outputId": "49527228-73e5-45ef-80f0-5c14dd3bb0ef"
      },
      "execution_count": 112,
      "outputs": [
        {
          "output_type": "stream",
          "name": "stdout",
          "text": [
            "torch.Size([1, 28, 28])\n",
            "5\n"
          ]
        }
      ]
    },
    {
      "cell_type": "code",
      "source": [
        "plt.title(label_mnist, fontsize=20)\n",
        "plt.imshow(image_mnist[0].reshape(28,28), cmap=\"gray\")"
      ],
      "metadata": {
        "colab": {
          "base_uri": "https://localhost:8080/",
          "height": 304
        },
        "id": "Sj-3528KEmH5",
        "outputId": "cd5ccf4a-e60e-4b52-ac80-87358dc8fd45"
      },
      "execution_count": 113,
      "outputs": [
        {
          "output_type": "execute_result",
          "data": {
            "text/plain": [
              "<matplotlib.image.AxesImage at 0x7f7290da9f90>"
            ]
          },
          "metadata": {},
          "execution_count": 113
        },
        {
          "output_type": "display_data",
          "data": {
            "text/plain": [
              "<Figure size 432x288 with 1 Axes>"
            ],
            "image/png": "[encoded data removed]"
          },
          "metadata": {
            "needs_background": "light"
          }
        }
      ]
    },
    {
      "cell_type": "code",
      "source": [
        "classes_mnist = [label for label in range(0, 10)]\n",
        "classes_mnist"
      ],
      "metadata": {
        "colab": {
          "base_uri": "https://localhost:8080/"
        },
        "id": "BVZeRgPu5oz4",
        "outputId": "a7457a5a-7aa4-4714-ff8b-aa350aa979db"
      },
      "execution_count": 114,
      "outputs": [
        {
          "output_type": "execute_result",
          "data": {
            "text/plain": [
              "[0, 1, 2, 3, 4, 5, 6, 7, 8, 9]"
            ]
          },
          "metadata": {},
          "execution_count": 114
        }
      ]
    },
    {
      "cell_type": "code",
      "source": [
        "28*28*1"
      ],
      "metadata": {
        "colab": {
          "base_uri": "https://localhost:8080/"
        },
        "id": "DFotdJnH_JNH",
        "outputId": "eeb4f436-6d2c-4b59-a328-6be7af1b009c"
      },
      "execution_count": 115,
      "outputs": [
        {
          "output_type": "execute_result",
          "data": {
            "text/plain": [
              "784"
            ]
          },
          "metadata": {},
          "execution_count": 115
        }
      ]
    },
    {
      "cell_type": "code",
      "source": [
        "class Net_MNIST(nn.Module):\n",
        "\n",
        "    def __init__(self, input_dim, hidden_dim, output_dim):\n",
        "        super().__init__()\n",
        "        self.flatten = nn.Flatten()\n",
        "        self.linear_1 = nn.Linear(input_dim * input_dim, 2 * hidden_dim)\n",
        "        self.dropout = nn.Dropout(p=0.2)\n",
        "        self.linear_2 = nn.Linear(2 * hidden_dim, output_dim)\n",
        "\n",
        "    def forward(self, x):\n",
        "        x = x.view(x.shape[0], -1)\n",
        "        x = self.flatten(x)\n",
        "        x = F.relu(x)  \n",
        "        x = self.linear_1(x)\n",
        "        x = F.relu(x)\n",
        "        x = self.dropout(x)\n",
        "        x = self.linear_2(x)\n",
        "        return x\n",
        "    \n",
        "    def predict(self, x):\n",
        "        x = x.view(x.shape[0], -1)\n",
        "        x = self.flatten(x)\n",
        "        x = F.relu(x) \n",
        "        x = self.linear_1(x)\n",
        "        x = F.relu(x)\n",
        "        x = self.dropout(x)\n",
        "        x = self.linear_2(x)\n",
        "        x = F.softmax(x)\n",
        "        return x\n",
        "\n",
        "# print(torch.seed())\n",
        "torch.manual_seed(6193999482419374643)\n",
        "net_mnist = Net_MNIST(28, 32, 10)\n",
        "net_mnist.train()"
      ],
      "metadata": {
        "colab": {
          "base_uri": "https://localhost:8080/"
        },
        "id": "un4KTqqM9lTF",
        "outputId": "c0ced7d9-c133-4cb3-e87b-6acf4173acec"
      },
      "execution_count": 134,
      "outputs": [
        {
          "output_type": "execute_result",
          "data": {
            "text/plain": [
              "Net_MNIST(\n",
              "  (flatten): Flatten(start_dim=1, end_dim=-1)\n",
              "  (linear_1): Linear(in_features=784, out_features=64, bias=True)\n",
              "  (dropout): Dropout(p=0.2, inplace=False)\n",
              "  (linear_2): Linear(in_features=64, out_features=10, bias=True)\n",
              ")"
            ]
          },
          "metadata": {},
          "execution_count": 134
        }
      ]
    },
    {
      "cell_type": "code",
      "source": [
        "torch.initial_seed()"
      ],
      "metadata": {
        "colab": {
          "base_uri": "https://localhost:8080/"
        },
        "id": "QkBukHE6iKPM",
        "outputId": "f02ca764-0a1b-4117-ee93-0c86ed76ae7a"
      },
      "execution_count": 135,
      "outputs": [
        {
          "output_type": "execute_result",
          "data": {
            "text/plain": [
              "6193999482419374643"
            ]
          },
          "metadata": {},
          "execution_count": 135
        }
      ]
    },
    {
      "cell_type": "code",
      "source": [
        "criterion = nn.CrossEntropyLoss()\n",
        "optimizer = optim.Adam(net_mnist.parameters(), lr=0.001)"
      ],
      "metadata": {
        "id": "UAQacBvpBWT6"
      },
      "execution_count": 136,
      "outputs": []
    },
    {
      "cell_type": "code",
      "source": [
        "num_epochs = 5\n",
        "\n",
        "for epoch in range(num_epochs):\n",
        "    running_loss = 0.0\n",
        "    running_items = 0.0\n",
        "\n",
        "\n",
        "    for i, data in enumerate(train_loader_mnist):\n",
        "        inputs, labels = data[0], data[1]\n",
        "\n",
        "        # Обнуляем градиент\n",
        "        optimizer.zero_grad()\n",
        "        # Делаем предсказание\n",
        "        outputs = net_mnist(inputs)\n",
        "        # Рассчитываем лосс-функцию\n",
        "        loss = criterion(outputs, labels)\n",
        "        # Делаем шаг назад по лоссу\n",
        "        loss.backward()\n",
        "        # Делаем шаг нашего оптимайзера\n",
        "        optimizer.step()\n",
        "\n",
        "        # выводим статистику о процессе обучения\n",
        "        running_loss += loss.item()\n",
        "        running_items += len(labels)\n",
        "        if i % 500 == 0:    # печатаем каждые 300 mini-batches\n",
        "            print(f'Epoch [{epoch + 1}/{num_epochs}]. ' \\\n",
        "                  f'Step [{i + 1}/{len(train_loader_mnist)}]. ' \\\n",
        "                  f'Loss: {running_loss / running_items:.3f}')\n",
        "            running_loss, running_items = 0.0, 0.0\n",
        "\n",
        "print('Training is finished!')"
      ],
      "metadata": {
        "colab": {
          "base_uri": "https://localhost:8080/"
        },
        "id": "1DwVuQs59lar",
        "outputId": "e9283805-2376-4f3c-a79a-04e11a0aa7e5"
      },
      "execution_count": 137,
      "outputs": [
        {
          "output_type": "stream",
          "name": "stdout",
          "text": [
            "Epoch [1/5]. Step [1/1875]. Loss: 0.073\n",
            "Epoch [1/5]. Step [501/1875]. Loss: 0.020\n",
            "Epoch [1/5]. Step [1001/1875]. Loss: 0.011\n",
            "Epoch [1/5]. Step [1501/1875]. Loss: 0.009\n",
            "Epoch [2/5]. Step [1/1875]. Loss: 0.017\n",
            "Epoch [2/5]. Step [501/1875]. Loss: 0.007\n",
            "Epoch [2/5]. Step [1001/1875]. Loss: 0.007\n",
            "Epoch [2/5]. Step [1501/1875]. Loss: 0.006\n",
            "Epoch [3/5]. Step [1/1875]. Loss: 0.007\n",
            "Epoch [3/5]. Step [501/1875]. Loss: 0.006\n",
            "Epoch [3/5]. Step [1001/1875]. Loss: 0.005\n",
            "Epoch [3/5]. Step [1501/1875]. Loss: 0.005\n",
            "Epoch [4/5]. Step [1/1875]. Loss: 0.007\n",
            "Epoch [4/5]. Step [501/1875]. Loss: 0.005\n",
            "Epoch [4/5]. Step [1001/1875]. Loss: 0.004\n",
            "Epoch [4/5]. Step [1501/1875]. Loss: 0.005\n",
            "Epoch [5/5]. Step [1/1875]. Loss: 0.004\n",
            "Epoch [5/5]. Step [501/1875]. Loss: 0.004\n",
            "Epoch [5/5]. Step [1001/1875]. Loss: 0.004\n",
            "Epoch [5/5]. Step [1501/1875]. Loss: 0.004\n",
            "Training is finished!\n"
          ]
        }
      ]
    },
    {
      "cell_type": "code",
      "source": [
        "data_iter_mnist = iter(test_loader_mnist)\n",
        "images_mnist, labels_mnist = data_iter_mnist.next()"
      ],
      "metadata": {
        "id": "o1hhbs6I9lde"
      },
      "execution_count": 138,
      "outputs": []
    },
    {
      "cell_type": "code",
      "source": [
        "net_mnist.eval()\n",
        "outputs_mnist = net_mnist(images_mnist)\n",
        "imgs_mnist = torchvision.utils.make_grid(images_mnist)\n",
        "plt.figure(figsize=(10, 5))\n",
        "plt.imshow(imgs_mnist.permute(1, 2, 0).numpy())\n",
        "print('GroundTruth: ', ' '.join(str(classes_mnist[labels_mnist[j]]) for j in range(len(labels_mnist))))"
      ],
      "metadata": {
        "colab": {
          "base_uri": "https://localhost:8080/",
          "height": 341
        },
        "id": "nUkV0CUo9lgW",
        "outputId": "6e851af0-f393-4fc3-ee99-8270942ae47b"
      },
      "execution_count": 139,
      "outputs": [
        {
          "output_type": "stream",
          "name": "stdout",
          "text": [
            "GroundTruth:  7 2 1 0 4 1 4 9 5 9 0 6 9 0 1 5 9 7 3 4 9 6 6 5 4 0 7 4 0 1 3 1\n"
          ]
        },
        {
          "output_type": "display_data",
          "data": {
            "text/plain": [
              "<Figure size 720x360 with 1 Axes>"
            ],
            "image/png": "[encoded data removed]"
          },
          "metadata": {
            "needs_background": "light"
          }
        }
      ]
    },
    {
      "cell_type": "code",
      "source": [
        "check_pred = net_mnist.predict(images_mnist)\n",
        "check_pred[0]"
      ],
      "metadata": {
        "id": "ZYfMLrpj5o2j",
        "colab": {
          "base_uri": "https://localhost:8080/"
        },
        "outputId": "08859d35-27ce-442d-cda6-f03c3a48247a"
      },
      "execution_count": 140,
      "outputs": [
        {
          "output_type": "stream",
          "name": "stderr",
          "text": [
            "/usr/local/lib/python3.7/dist-packages/ipykernel_launcher.py:28: UserWarning: Implicit dimension choice for softmax has been deprecated. Change the call to include dim=X as an argument.\n"
          ]
        },
        {
          "output_type": "execute_result",
          "data": {
            "text/plain": [
              "tensor([1.1621e-07, 2.9759e-09, 9.7178e-07, 2.4262e-04, 2.9017e-10, 1.9647e-06,\n",
              "        4.7263e-14, 9.9974e-01, 1.9111e-06, 1.4611e-05],\n",
              "       grad_fn=<SelectBackward0>)"
            ]
          },
          "metadata": {},
          "execution_count": 140
        }
      ]
    },
    {
      "cell_type": "code",
      "source": [
        "_, predicted_mnist = torch.max(outputs_mnist, 1)\n",
        "\n",
        "predicted_mnist"
      ],
      "metadata": {
        "id": "ZERqVgcy5o5O",
        "colab": {
          "base_uri": "https://localhost:8080/"
        },
        "outputId": "e2172e7f-924c-40e7-860f-977ac0a161f9"
      },
      "execution_count": 141,
      "outputs": [
        {
          "output_type": "execute_result",
          "data": {
            "text/plain": [
              "tensor([7, 2, 1, 0, 4, 1, 4, 9, 5, 9, 0, 6, 9, 0, 1, 5, 9, 7, 3, 4, 9, 6, 6, 5,\n",
              "        4, 0, 7, 4, 0, 1, 3, 1])"
            ]
          },
          "metadata": {},
          "execution_count": 141
        }
      ]
    },
    {
      "cell_type": "code",
      "source": [
        "gt_mnist = np.array([classes_mnist[labels_mnist[j]] for j in range(len(labels_mnist))])\n",
        "pred_mnist = np.array([classes_mnist[predicted_mnist[j]] for j in range(len(labels_mnist))])\n",
        "\n",
        "print(gt_mnist)\n",
        "print(pred_mnist)\n",
        "print(f'Accuracy is {(gt_mnist == pred_mnist).sum() / len(gt_mnist)}')"
      ],
      "metadata": {
        "id": "yBwenQ5E5o8C",
        "colab": {
          "base_uri": "https://localhost:8080/"
        },
        "outputId": "86b9a20c-d64e-4fbf-fc9d-119bedff319d"
      },
      "execution_count": 142,
      "outputs": [
        {
          "output_type": "stream",
          "name": "stdout",
          "text": [
            "[7 2 1 0 4 1 4 9 5 9 0 6 9 0 1 5 9 7 3 4 9 6 6 5 4 0 7 4 0 1 3 1]\n",
            "[7 2 1 0 4 1 4 9 5 9 0 6 9 0 1 5 9 7 3 4 9 6 6 5 4 0 7 4 0 1 3 1]\n",
            "Accuracy is 1.0\n"
          ]
        }
      ]
    }
  ],
  "metadata": {
    "accelerator": "GPU",
    "colab": {
      "collapsed_sections": [],
      "name": "HW2_feed_forward_nets.ipynb",
      "provenance": []
    },
    "kernelspec": {
      "display_name": "Python 3",
      "language": "python",
      "name": "python3"
    },
    "language_info": {
      "codemirror_mode": {
        "name": "ipython",
        "version": 3
      },
      "file_extension": ".py",
      "mimetype": "text/x-python",
      "name": "python",
      "nbconvert_exporter": "python",
      "pygments_lexer": "ipython3",
      "version": "3.7.4"
    }
  },
  "nbformat": 4,
  "nbformat_minor": 0
}